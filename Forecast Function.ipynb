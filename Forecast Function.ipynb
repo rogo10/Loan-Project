{
 "cells": [
  {
   "cell_type": "code",
   "execution_count": 70,
   "metadata": {
    "ExecuteTime": {
     "end_time": "2020-11-25T15:28:18.663978Z",
     "start_time": "2020-11-25T15:28:18.655308Z"
    }
   },
   "outputs": [],
   "source": [
    "import pandas as pd\n",
    "import numpy as np\n",
    "from sklearn.metrics import mean_squared_error\n",
    "from pmdarima import auto_arima\n",
    "from pmdarima.arima.utils import ndiffs\n",
    "from numpy import log\n",
    "from statsmodels.tsa.stattools import adfuller\n",
    "from pmdarima.utils import c, diff\n",
    "import matplotlib.pyplot as plt"
   ]
  },
  {
   "cell_type": "code",
   "execution_count": 71,
   "metadata": {
    "ExecuteTime": {
     "end_time": "2020-11-25T15:28:24.828990Z",
     "start_time": "2020-11-25T15:28:21.607582Z"
    }
   },
   "outputs": [
    {
     "data": {
      "text/html": [
       "<div>\n",
       "<style scoped>\n",
       "    .dataframe tbody tr th:only-of-type {\n",
       "        vertical-align: middle;\n",
       "    }\n",
       "\n",
       "    .dataframe tbody tr th {\n",
       "        vertical-align: top;\n",
       "    }\n",
       "\n",
       "    .dataframe thead th {\n",
       "        text-align: right;\n",
       "    }\n",
       "</style>\n",
       "<table border=\"1\" class=\"dataframe\">\n",
       "  <thead>\n",
       "    <tr style=\"text-align: right;\">\n",
       "      <th></th>\n",
       "      <th>Adversity</th>\n",
       "      <th>DATE_QTR</th>\n",
       "      <th>REAL_GDP_GROWTH</th>\n",
       "      <th>NOMINAL_GDP_GROWTH</th>\n",
       "      <th>REAL_DISPOSABLE_INCOME_GROWTH</th>\n",
       "      <th>NOMINAL_DISPOSABLE_INCOME_GROWTH</th>\n",
       "      <th>UNEMPLOYMENT_RATE</th>\n",
       "      <th>CPI_INFLATION_RATE</th>\n",
       "      <th>THREE_MONTH_TREASURY_RATE</th>\n",
       "      <th>FIVE_YEAR_TREASURY_YIELD</th>\n",
       "      <th>...</th>\n",
       "      <th>EURO_AREA_BILATERAL_DOLLAR_EXCHANGE_RATE</th>\n",
       "      <th>DEVELOPING_ASIA_REAL_GDP_GROWTH</th>\n",
       "      <th>DEVELOPING_ASIA_INFLATION</th>\n",
       "      <th>DEV_ASIA_BILATERAL_DOLLAR_EXCHANGE_RATE</th>\n",
       "      <th>JAPAN_REAL_GDP_GROWTH</th>\n",
       "      <th>JAPAN_INFLATION</th>\n",
       "      <th>JAPAN_BILATERAL_DOLLAR_EXCHANGE_RATE</th>\n",
       "      <th>UK_REAL_GDP_GROWTH</th>\n",
       "      <th>UK_INFLATION</th>\n",
       "      <th>UK_BILATERAL_DOLLAR_EXCHANGE_RATE</th>\n",
       "    </tr>\n",
       "    <tr>\n",
       "      <th>Date</th>\n",
       "      <th></th>\n",
       "      <th></th>\n",
       "      <th></th>\n",
       "      <th></th>\n",
       "      <th></th>\n",
       "      <th></th>\n",
       "      <th></th>\n",
       "      <th></th>\n",
       "      <th></th>\n",
       "      <th></th>\n",
       "      <th></th>\n",
       "      <th></th>\n",
       "      <th></th>\n",
       "      <th></th>\n",
       "      <th></th>\n",
       "      <th></th>\n",
       "      <th></th>\n",
       "      <th></th>\n",
       "      <th></th>\n",
       "      <th></th>\n",
       "      <th></th>\n",
       "    </tr>\n",
       "  </thead>\n",
       "  <tbody>\n",
       "    <tr>\n",
       "      <th>2001-03-31</th>\n",
       "      <td>Historical</td>\n",
       "      <td>Q1 2001</td>\n",
       "      <td>-1.1</td>\n",
       "      <td>1.3</td>\n",
       "      <td>3.7</td>\n",
       "      <td>6.5</td>\n",
       "      <td>4.2</td>\n",
       "      <td>3.9</td>\n",
       "      <td>4.8</td>\n",
       "      <td>4.9</td>\n",
       "      <td>...</td>\n",
       "      <td>0.879</td>\n",
       "      <td>4.8</td>\n",
       "      <td>1.7</td>\n",
       "      <td>106.1</td>\n",
       "      <td>2.1</td>\n",
       "      <td>0.7</td>\n",
       "      <td>125.5</td>\n",
       "      <td>5.8</td>\n",
       "      <td>0.1</td>\n",
       "      <td>1.419</td>\n",
       "    </tr>\n",
       "    <tr>\n",
       "      <th>2002-03-31</th>\n",
       "      <td>Historical</td>\n",
       "      <td>Q1 2002</td>\n",
       "      <td>3.5</td>\n",
       "      <td>4.9</td>\n",
       "      <td>9.3</td>\n",
       "      <td>10.1</td>\n",
       "      <td>5.7</td>\n",
       "      <td>1.3</td>\n",
       "      <td>1.7</td>\n",
       "      <td>4.5</td>\n",
       "      <td>...</td>\n",
       "      <td>0.872</td>\n",
       "      <td>7.8</td>\n",
       "      <td>0.5</td>\n",
       "      <td>107.4</td>\n",
       "      <td>0.7</td>\n",
       "      <td>-1.1</td>\n",
       "      <td>132.7</td>\n",
       "      <td>1.8</td>\n",
       "      <td>1.9</td>\n",
       "      <td>1.425</td>\n",
       "    </tr>\n",
       "    <tr>\n",
       "      <th>2003-03-31</th>\n",
       "      <td>Historical</td>\n",
       "      <td>Q1 2003</td>\n",
       "      <td>2.2</td>\n",
       "      <td>4.1</td>\n",
       "      <td>0.9</td>\n",
       "      <td>3.8</td>\n",
       "      <td>5.9</td>\n",
       "      <td>4.2</td>\n",
       "      <td>1.2</td>\n",
       "      <td>2.9</td>\n",
       "      <td>...</td>\n",
       "      <td>1.090</td>\n",
       "      <td>6.6</td>\n",
       "      <td>3.6</td>\n",
       "      <td>105.5</td>\n",
       "      <td>0.3</td>\n",
       "      <td>0.0</td>\n",
       "      <td>118.1</td>\n",
       "      <td>2.7</td>\n",
       "      <td>1.6</td>\n",
       "      <td>1.579</td>\n",
       "    </tr>\n",
       "    <tr>\n",
       "      <th>2004-03-31</th>\n",
       "      <td>Historical</td>\n",
       "      <td>Q1 2004</td>\n",
       "      <td>2.2</td>\n",
       "      <td>5.2</td>\n",
       "      <td>1.9</td>\n",
       "      <td>5.3</td>\n",
       "      <td>5.7</td>\n",
       "      <td>3.4</td>\n",
       "      <td>0.9</td>\n",
       "      <td>3.0</td>\n",
       "      <td>...</td>\n",
       "      <td>1.229</td>\n",
       "      <td>5.8</td>\n",
       "      <td>4.0</td>\n",
       "      <td>101.4</td>\n",
       "      <td>2.8</td>\n",
       "      <td>0.8</td>\n",
       "      <td>104.2</td>\n",
       "      <td>2.2</td>\n",
       "      <td>1.3</td>\n",
       "      <td>1.840</td>\n",
       "    </tr>\n",
       "    <tr>\n",
       "      <th>2005-03-31</th>\n",
       "      <td>Historical</td>\n",
       "      <td>Q1 2005</td>\n",
       "      <td>4.5</td>\n",
       "      <td>7.9</td>\n",
       "      <td>-4.6</td>\n",
       "      <td>-2.4</td>\n",
       "      <td>5.3</td>\n",
       "      <td>2.0</td>\n",
       "      <td>2.5</td>\n",
       "      <td>3.9</td>\n",
       "      <td>...</td>\n",
       "      <td>1.297</td>\n",
       "      <td>10.6</td>\n",
       "      <td>2.9</td>\n",
       "      <td>98.5</td>\n",
       "      <td>2.0</td>\n",
       "      <td>-1.2</td>\n",
       "      <td>107.2</td>\n",
       "      <td>3.4</td>\n",
       "      <td>2.5</td>\n",
       "      <td>1.889</td>\n",
       "    </tr>\n",
       "  </tbody>\n",
       "</table>\n",
       "<p>5 rows × 30 columns</p>\n",
       "</div>"
      ],
      "text/plain": [
       "             Adversity DATE_QTR  REAL_GDP_GROWTH  NOMINAL_GDP_GROWTH  \\\n",
       "Date                                                                   \n",
       "2001-03-31  Historical  Q1 2001             -1.1                 1.3   \n",
       "2002-03-31  Historical  Q1 2002              3.5                 4.9   \n",
       "2003-03-31  Historical  Q1 2003              2.2                 4.1   \n",
       "2004-03-31  Historical  Q1 2004              2.2                 5.2   \n",
       "2005-03-31  Historical  Q1 2005              4.5                 7.9   \n",
       "\n",
       "            REAL_DISPOSABLE_INCOME_GROWTH  NOMINAL_DISPOSABLE_INCOME_GROWTH  \\\n",
       "Date                                                                          \n",
       "2001-03-31                            3.7                               6.5   \n",
       "2002-03-31                            9.3                              10.1   \n",
       "2003-03-31                            0.9                               3.8   \n",
       "2004-03-31                            1.9                               5.3   \n",
       "2005-03-31                           -4.6                              -2.4   \n",
       "\n",
       "            UNEMPLOYMENT_RATE  CPI_INFLATION_RATE  THREE_MONTH_TREASURY_RATE  \\\n",
       "Date                                                                           \n",
       "2001-03-31                4.2                 3.9                        4.8   \n",
       "2002-03-31                5.7                 1.3                        1.7   \n",
       "2003-03-31                5.9                 4.2                        1.2   \n",
       "2004-03-31                5.7                 3.4                        0.9   \n",
       "2005-03-31                5.3                 2.0                        2.5   \n",
       "\n",
       "            FIVE_YEAR_TREASURY_YIELD  ...  \\\n",
       "Date                                  ...   \n",
       "2001-03-31                       4.9  ...   \n",
       "2002-03-31                       4.5  ...   \n",
       "2003-03-31                       2.9  ...   \n",
       "2004-03-31                       3.0  ...   \n",
       "2005-03-31                       3.9  ...   \n",
       "\n",
       "            EURO_AREA_BILATERAL_DOLLAR_EXCHANGE_RATE  \\\n",
       "Date                                                   \n",
       "2001-03-31                                     0.879   \n",
       "2002-03-31                                     0.872   \n",
       "2003-03-31                                     1.090   \n",
       "2004-03-31                                     1.229   \n",
       "2005-03-31                                     1.297   \n",
       "\n",
       "            DEVELOPING_ASIA_REAL_GDP_GROWTH  DEVELOPING_ASIA_INFLATION  \\\n",
       "Date                                                                     \n",
       "2001-03-31                              4.8                        1.7   \n",
       "2002-03-31                              7.8                        0.5   \n",
       "2003-03-31                              6.6                        3.6   \n",
       "2004-03-31                              5.8                        4.0   \n",
       "2005-03-31                             10.6                        2.9   \n",
       "\n",
       "            DEV_ASIA_BILATERAL_DOLLAR_EXCHANGE_RATE  JAPAN_REAL_GDP_GROWTH  \\\n",
       "Date                                                                         \n",
       "2001-03-31                                    106.1                    2.1   \n",
       "2002-03-31                                    107.4                    0.7   \n",
       "2003-03-31                                    105.5                    0.3   \n",
       "2004-03-31                                    101.4                    2.8   \n",
       "2005-03-31                                     98.5                    2.0   \n",
       "\n",
       "            JAPAN_INFLATION  JAPAN_BILATERAL_DOLLAR_EXCHANGE_RATE  \\\n",
       "Date                                                                \n",
       "2001-03-31              0.7                                 125.5   \n",
       "2002-03-31             -1.1                                 132.7   \n",
       "2003-03-31              0.0                                 118.1   \n",
       "2004-03-31              0.8                                 104.2   \n",
       "2005-03-31             -1.2                                 107.2   \n",
       "\n",
       "            UK_REAL_GDP_GROWTH  UK_INFLATION  \\\n",
       "Date                                           \n",
       "2001-03-31                 5.8           0.1   \n",
       "2002-03-31                 1.8           1.9   \n",
       "2003-03-31                 2.7           1.6   \n",
       "2004-03-31                 2.2           1.3   \n",
       "2005-03-31                 3.4           2.5   \n",
       "\n",
       "            UK_BILATERAL_DOLLAR_EXCHANGE_RATE  \n",
       "Date                                           \n",
       "2001-03-31                              1.419  \n",
       "2002-03-31                              1.425  \n",
       "2003-03-31                              1.579  \n",
       "2004-03-31                              1.840  \n",
       "2005-03-31                              1.889  \n",
       "\n",
       "[5 rows x 30 columns]"
      ]
     },
     "execution_count": 71,
     "metadata": {},
     "output_type": "execute_result"
    }
   ],
   "source": [
    "bank = pd.read_csv(r'../data/final.csv', index_col='Date')\n",
    "metrics = pd.read_csv(r'../data/metrics_time_series.csv', index_col='Date')\n",
    "metrics.head()"
   ]
  },
  {
   "cell_type": "code",
   "execution_count": 72,
   "metadata": {
    "ExecuteTime": {
     "end_time": "2020-11-25T15:28:28.586316Z",
     "start_time": "2020-11-25T15:28:28.580332Z"
    }
   },
   "outputs": [
    {
     "data": {
      "text/plain": [
       "106"
      ]
     },
     "execution_count": 72,
     "metadata": {},
     "output_type": "execute_result"
    }
   ],
   "source": [
    "len(metrics)"
   ]
  },
  {
   "cell_type": "code",
   "execution_count": 117,
   "metadata": {
    "ExecuteTime": {
     "end_time": "2020-11-25T17:38:47.083779Z",
     "start_time": "2020-11-25T17:38:47.043471Z"
    }
   },
   "outputs": [],
   "source": [
    "metrics.index = pd.to_datetime(metrics.index)\n",
    "bank.index = pd.to_datetime(bank.index)\n",
    "df = pd.DataFrame(bank.groupby('Date')['Balance'].sum(), columns=['Balance'])"
   ]
  },
  {
   "cell_type": "code",
   "execution_count": 119,
   "metadata": {
    "ExecuteTime": {
     "end_time": "2020-11-29T18:59:12.729620Z",
     "start_time": "2020-11-29T18:59:12.710671Z"
    }
   },
   "outputs": [
    {
     "data": {
      "text/html": [
       "<div>\n",
       "<style scoped>\n",
       "    .dataframe tbody tr th:only-of-type {\n",
       "        vertical-align: middle;\n",
       "    }\n",
       "\n",
       "    .dataframe tbody tr th {\n",
       "        vertical-align: top;\n",
       "    }\n",
       "\n",
       "    .dataframe thead th {\n",
       "        text-align: right;\n",
       "    }\n",
       "</style>\n",
       "<table border=\"1\" class=\"dataframe\">\n",
       "  <thead>\n",
       "    <tr style=\"text-align: right;\">\n",
       "      <th></th>\n",
       "      <th>Balance</th>\n",
       "    </tr>\n",
       "    <tr>\n",
       "      <th>Date</th>\n",
       "      <th></th>\n",
       "    </tr>\n",
       "  </thead>\n",
       "  <tbody>\n",
       "    <tr>\n",
       "      <th>2015-01-31</th>\n",
       "      <td>2.530386e+08</td>\n",
       "    </tr>\n",
       "    <tr>\n",
       "      <th>2015-02-28</th>\n",
       "      <td>2.504538e+08</td>\n",
       "    </tr>\n",
       "    <tr>\n",
       "      <th>2015-03-03</th>\n",
       "      <td>2.564281e+08</td>\n",
       "    </tr>\n",
       "    <tr>\n",
       "      <th>2015-03-31</th>\n",
       "      <td>2.513302e+08</td>\n",
       "    </tr>\n",
       "    <tr>\n",
       "      <th>2015-04-30</th>\n",
       "      <td>2.505905e+08</td>\n",
       "    </tr>\n",
       "  </tbody>\n",
       "</table>\n",
       "</div>"
      ],
      "text/plain": [
       "                 Balance\n",
       "Date                    \n",
       "2015-01-31  2.530386e+08\n",
       "2015-02-28  2.504538e+08\n",
       "2015-03-03  2.564281e+08\n",
       "2015-03-31  2.513302e+08\n",
       "2015-04-30  2.505905e+08"
      ]
     },
     "execution_count": 119,
     "metadata": {},
     "output_type": "execute_result"
    }
   ],
   "source": [
    "df.head()"
   ]
  },
  {
   "cell_type": "code",
   "execution_count": 75,
   "metadata": {
    "ExecuteTime": {
     "end_time": "2020-11-25T15:28:40.782338Z",
     "start_time": "2020-11-25T15:28:40.774507Z"
    }
   },
   "outputs": [],
   "source": [
    "baseline = metrics[metrics['Adversity']=='Baseline']\n",
    "adverse = metrics[metrics['Adversity']=='Adverse']"
   ]
  },
  {
   "cell_type": "code",
   "execution_count": 76,
   "metadata": {
    "ExecuteTime": {
     "end_time": "2020-11-25T15:28:45.647857Z",
     "start_time": "2020-11-25T15:28:45.635912Z"
    },
    "scrolled": true
   },
   "outputs": [],
   "source": [
    "metrics = metrics.drop(columns=['Adversity','DATE_QTR'])\n",
    "baseline = baseline.drop(columns=['Adversity','DATE_QTR'])\n",
    "adverse = adverse.drop(columns=['Adversity','DATE_QTR'])"
   ]
  },
  {
   "cell_type": "code",
   "execution_count": 77,
   "metadata": {
    "ExecuteTime": {
     "end_time": "2020-11-25T15:28:48.342584Z",
     "start_time": "2020-11-25T15:28:48.330812Z"
    }
   },
   "outputs": [],
   "source": [
    "metrics = metrics[~metrics.index.duplicated(keep='first')]\n",
    "baseline = baseline[~baseline.index.duplicated(keep='first')] #not necessary, defensive\n",
    "adverse = adverse[~adverse.index.duplicated(keep='first')]"
   ]
  },
  {
   "cell_type": "code",
   "execution_count": 78,
   "metadata": {
    "ExecuteTime": {
     "end_time": "2020-11-25T15:28:51.338659Z",
     "start_time": "2020-11-25T15:28:51.320151Z"
    }
   },
   "outputs": [],
   "source": [
    "metrics = metrics.sort_index()\n",
    "baseline = baseline.sort_index()\n",
    "adverse = adverse.sort_index()"
   ]
  },
  {
   "cell_type": "code",
   "execution_count": 79,
   "metadata": {
    "ExecuteTime": {
     "end_time": "2020-11-25T15:28:54.230503Z",
     "start_time": "2020-11-25T15:28:54.221563Z"
    }
   },
   "outputs": [],
   "source": [
    "metrics = metrics.astype('float')\n",
    "baseline = baseline.astype('float')\n",
    "adverse = adverse.astype('float')"
   ]
  },
  {
   "cell_type": "code",
   "execution_count": 80,
   "metadata": {
    "ExecuteTime": {
     "end_time": "2020-11-25T15:28:57.032866Z",
     "start_time": "2020-11-25T15:28:56.886087Z"
    }
   },
   "outputs": [],
   "source": [
    "metrics = metrics.resample('M').mean().interpolate(method='linear')\n",
    "baseline = baseline.resample('M').mean().interpolate(method='linear')\n",
    "adverse = adverse.resample('M').mean().interpolate(method='linear')"
   ]
  },
  {
   "cell_type": "code",
   "execution_count": 81,
   "metadata": {
    "ExecuteTime": {
     "end_time": "2020-11-25T15:29:00.295850Z",
     "start_time": "2020-11-25T15:29:00.286893Z"
    }
   },
   "outputs": [],
   "source": [
    "metrics = metrics[metrics.index.isin(df.index)]"
   ]
  },
  {
   "cell_type": "code",
   "execution_count": 83,
   "metadata": {
    "ExecuteTime": {
     "end_time": "2020-11-25T15:29:27.234755Z",
     "start_time": "2020-11-25T15:29:27.226632Z"
    }
   },
   "outputs": [],
   "source": [
    "df = df.asfreq('M', method='ffill')"
   ]
  },
  {
   "cell_type": "code",
   "execution_count": 84,
   "metadata": {
    "ExecuteTime": {
     "end_time": "2020-11-25T15:29:30.471586Z",
     "start_time": "2020-11-25T15:29:29.964222Z"
    }
   },
   "outputs": [
    {
     "data": {
      "text/plain": [
       "<matplotlib.axes._subplots.AxesSubplot at 0x1ca2e61ce10>"
      ]
     },
     "execution_count": 84,
     "metadata": {},
     "output_type": "execute_result"
    },
    {
     "data": {
      "image/png": "[encoded data removed]",
      "text/plain": [
       "<Figure size 432x288 with 1 Axes>"
      ]
     },
     "metadata": {
      "needs_background": "light"
     },
     "output_type": "display_data"
    }
   ],
   "source": [
    "df.Balance.plot()"
   ]
  },
  {
   "cell_type": "code",
   "execution_count": 113,
   "metadata": {
    "ExecuteTime": {
     "end_time": "2020-11-25T15:48:27.319134Z",
     "start_time": "2020-11-25T15:48:27.283940Z"
    }
   },
   "outputs": [],
   "source": [
    "def generalized_forecast(data, exogenous, exogenous_forecast, num_log=0, test_size=0.3):\n",
    "    '''\n",
    "    \n",
    "    '''\n",
    "\n",
    "    if(type(num_log) != int):\n",
    "        raise TypeError('Parameter num_log expects an integer.')\n",
    "    \n",
    "    if(num_log < 0):\n",
    "        raise ValueError('Parameter num_log expects the natural numbers, no negative values.')\n",
    "        \n",
    "    if(test_size<0 or test_size>1 or type(test_size)!=float):\n",
    "        raise TypeError('Please check test_size parameter. Must be a float between 0-1.')\n",
    "    \n",
    "    original_data = data.copy()\n",
    "\n",
    "    \n",
    "    if(num_log >0):\n",
    "        for _ in range(num_log):\n",
    "            data = log(data)\n",
    "    \n",
    "    #Dickey Fuller Test with data\n",
    "    adf_result = adfuller(data, autolag='AIC')\n",
    "    print('Results of Dickey Fuller')\n",
    "    print('ADF Statistic: ', adf_result[0])\n",
    "    print('p-value: ', adf_result[1])\n",
    "    print('Critical Values:')\n",
    "    for key, value in adf_result[4].items():\n",
    "        print('\\t%s: %.3f' % (key, value))\n",
    "    suggested_n_adf = ndiffs(data, test='adf')\n",
    "    print('Suggested Number of Differences: ', suggested_n_adf)\n",
    "    \n",
    "    if(suggested_n_adf!=0):\n",
    "    \n",
    "        #Return results with suggested number of differences\n",
    "        data = diff(data, differences=suggested_n_adf)\n",
    "        adf_result = adfuller(data, autolag='AIC')\n",
    "        print()\n",
    "        print('Results of Dickey Fuller with Suggested Differencing')\n",
    "        print('ADF Statistic: ', adf_result[0])\n",
    "        print('p-value: ', adf_result[1])\n",
    "        print('Critical Values:')\n",
    "        for key, value in adf_result[4].items():\n",
    "            print('\\t%s: %.3f' % (key, value))\n",
    "        print('Suggested Number of Differences: ', ndiffs(data, test='adf'))\n",
    "        print()\n",
    "        print('Proceed analysis with suggested data? No: enter 0, Yes: enter 1.')\n",
    "        proceed = input()\n",
    "    \n",
    "    if(proceed=='0'):\n",
    "        print('Function killed.')\n",
    "    \n",
    "    elif(proceed=='1'):\n",
    "        \n",
    "        #Plot differenced data\n",
    "        \n",
    "        print()\n",
    "        plt.subplots(figsize=(10,6))\n",
    "        plt.plot(original_data)\n",
    "        plt.title('Time Series')\n",
    "        plt.xlabel('Year')\n",
    "        plt.ylabel(original_data.columns[0])\n",
    "        \n",
    "        #Perform Train-test split\n",
    "        \n",
    "        original_data = pd.DataFrame(original_data)\n",
    "        test_observations = int(len(original_data)*test_size)\n",
    "        train_observations = len(original_data) - test_observations\n",
    "        train_data = original_data.head(train_observations)\n",
    "        train_data.index = original_data.head(train_observations).index\n",
    "        train_exogenous = exogenous.head(train_observations)\n",
    "        test_data = original_data.tail(test_observations)\n",
    "        test_data.index = original_data.tail(test_observations).index\n",
    "        test_exogenous = exogenous.tail(test_observations)\n",
    "        \n",
    "        \n",
    "        #Use auto_arima\n",
    "        \n",
    "        auto_model = auto_arima(train_data, \n",
    "                                trace=True, \n",
    "                                exogenous=train_exogenous, \n",
    "                                error_action='ignore', \n",
    "                                suppress_warnings=True,\n",
    "                                d=suggested_n_adf)\n",
    "        \n",
    "        auto_model.fit(train_data)\n",
    "        point_forecasts, confidence_intervals = auto_model.predict(n_periods=len(test_data),\n",
    "                                                                    exogenous=test_exogenous,\n",
    "                                                                    return_conf_int=True,\n",
    "                                                                    alpha=0.05)\n",
    "        auto_forecast = pd.DataFrame({'Prediction':point_forecasts,\n",
    "                             'Upper Bound':confidence_intervals[:,1],\n",
    "                             'Lower Bound':confidence_intervals[:,0]},index = test_data.index)\n",
    "        \n",
    "        auto_forecast.index = test_data.index\n",
    "        plt.subplots(figsize=(14,6))\n",
    "        plt.title('Train-Test Split of Data')\n",
    "        plt.plot(original_data.head(train_observations), color ='blue', label='Train')\n",
    "        plt.plot(original_data.tail(test_observations), color= 'orange', label='Test')\n",
    "        plt.plot(auto_forecast[\"Prediction\"], color='purple', label='Prediction')\n",
    "        plt.plot(auto_forecast[\"Upper Bound\"], color='Pink', label='Upper Bound')\n",
    "        plt.plot(auto_forecast[\"Lower Bound\"], color='Pink', label='Lower Bound')\n",
    "        plt.xlabel('Year')\n",
    "        plt.ylabel(original_data.columns[0])\n",
    "        plt.legend()\n",
    "        \n",
    "        #Now do actual forecast using auto_arima\n",
    "        \n",
    "        original_data = original_data[original_data.index.isin(exogenous.index)]        \n",
    "        \n",
    "        auto_model_forecast = auto_arima(original_data, \n",
    "                                trace=True, \n",
    "                                exogenous=exogenous, \n",
    "                                error_action='ignore', \n",
    "                                suppress_warnings=True,\n",
    "                                d=suggested_n_adf)\n",
    "        \n",
    "        auto_model_forecast.fit(original_data)\n",
    "        point_forecasts, confidence_intervals = auto_model_forecast.predict(n_periods=len(exogenous_forecast), \n",
    "                                                                           exogenous = exogenous_forecast,\n",
    "                                                                          return_conf_int=True,\n",
    "                                                                          alpha=0.05)\n",
    "        auto_forecast = pd.DataFrame({'Prediction':point_forecasts,\n",
    "                             'Upper Bound':confidence_intervals[:,1],\n",
    "                             'Lower Bound':confidence_intervals[:,0]},index = exogenous_forecast.index)\n",
    "        \n",
    "        plt.subplots(figsize=(14,6))\n",
    "        plt.title('Forecast of Data')\n",
    "        plt.plot(original_data, color ='blue', label='Original Data')\n",
    "        plt.plot(auto_forecast[\"Prediction\"], color='purple', label='Prediction')\n",
    "        plt.plot(auto_forecast[\"Upper Bound\"], color='Pink', label='Upper Bound')\n",
    "        plt.plot(auto_forecast[\"Lower Bound\"], color='Pink', label='Lower Bound')\n",
    "        plt.xlabel('Year')\n",
    "        plt.ylabel(original_data.columns[0])\n",
    "        plt.legend()\n",
    "        \n",
    "        \n",
    "    else:\n",
    "        print('Invalid input. Killed.')\n",
    "        \n",
    "        \n",
    "        \n",
    "        "
   ]
  },
  {
   "cell_type": "code",
   "execution_count": 118,
   "metadata": {
    "ExecuteTime": {
     "end_time": "2020-11-25T17:39:05.239595Z",
     "start_time": "2020-11-25T17:38:54.913044Z"
    },
    "scrolled": false
   },
   "outputs": [
    {
     "name": "stdout",
     "output_type": "stream",
     "text": [
      "Results of Dickey Fuller\n",
      "ADF Statistic:  1.8658119686062966\n",
      "p-value:  0.998470987879691\n",
      "Critical Values:\n",
      "\t1%: -3.553\n",
      "\t5%: -2.915\n",
      "\t10%: -2.595\n",
      "Suggested Number of Differences:  2\n",
      "\n",
      "Results of Dickey Fuller with Suggested Differencing\n",
      "ADF Statistic:  -2.4403823383989054\n",
      "p-value:  0.1306615692141775\n",
      "Critical Values:\n",
      "\t1%: -3.553\n",
      "\t5%: -2.915\n",
      "\t10%: -2.595\n",
      "Suggested Number of Differences:  0\n",
      "\n",
      "Proceed analysis with suggested data? No: enter 0, Yes: enter 1.\n",
      "1\n",
      "\n",
      "Performing stepwise search to minimize aic\n",
      " ARIMA(2,2,2)(0,0,0)[0]             : AIC=1571.545, Time=1.39 sec\n",
      " ARIMA(0,2,0)(0,0,0)[0]             : AIC=1694.595, Time=0.04 sec\n",
      " ARIMA(1,2,0)(0,0,0)[0]             : AIC=1565.796, Time=0.12 sec\n",
      " ARIMA(0,2,1)(0,0,0)[0]             : AIC=1565.829, Time=0.39 sec\n",
      " ARIMA(2,2,0)(0,0,0)[0]             : AIC=1567.812, Time=0.24 sec\n",
      " ARIMA(1,2,1)(0,0,0)[0]             : AIC=1567.794, Time=0.54 sec\n",
      " ARIMA(2,2,1)(0,0,0)[0]             : AIC=1569.141, Time=0.60 sec\n",
      " ARIMA(1,2,0)(0,0,0)[0] intercept   : AIC=1567.795, Time=0.12 sec\n",
      "\n",
      "Best model:  ARIMA(1,2,0)(0,0,0)[0]          \n",
      "Total fit time: 3.452 seconds\n",
      "62 62\n",
      "Performing stepwise search to minimize aic\n",
      " ARIMA(2,2,2)(0,0,0)[0]             : AIC=2146.653, Time=1.25 sec\n",
      " ARIMA(0,2,0)(0,0,0)[0]             : AIC=2325.419, Time=0.05 sec\n",
      " ARIMA(1,2,0)(0,0,0)[0]             : AIC=2140.603, Time=0.14 sec\n",
      " ARIMA(0,2,1)(0,0,0)[0]             : AIC=2140.708, Time=0.46 sec\n",
      " ARIMA(2,2,0)(0,0,0)[0]             : AIC=2142.727, Time=0.28 sec\n",
      " ARIMA(1,2,1)(0,0,0)[0]             : AIC=2142.715, Time=0.19 sec\n",
      " ARIMA(2,2,1)(0,0,0)[0]             : AIC=2146.078, Time=0.32 sec\n",
      " ARIMA(1,2,0)(0,0,0)[0] intercept   : AIC=2140.993, Time=0.16 sec\n",
      "\n",
      "Best model:  ARIMA(1,2,0)(0,0,0)[0]          \n",
      "Total fit time: 2.848 seconds\n"
     ]
    },
    {
     "data": {
      "image/png": "[encoded data removed]",
      "text/plain": [
       "<Figure size 720x432 with 1 Axes>"
      ]
     },
     "metadata": {
      "needs_background": "light"
     },
     "output_type": "display_data"
    },
    {
     "data": {
      "image/png": "[encoded data removed]",
      "text/plain": [
       "<Figure size 1008x432 with 1 Axes>"
      ]
     },
     "metadata": {
      "needs_background": "light"
     },
     "output_type": "display_data"
    },
    {
     "data": {
      "image/png": "[encoded data removed]",
      "text/plain": [
       "<Figure size 1008x432 with 1 Axes>"
      ]
     },
     "metadata": {
      "needs_background": "light"
     },
     "output_type": "display_data"
    }
   ],
   "source": [
    "generalized_forecast(data=df, exogenous=metrics, exogenous_forecast=adverse, num_log=0, test_size=0.3)"
   ]
  },
  {
   "cell_type": "code",
   "execution_count": null,
   "metadata": {},
   "outputs": [],
   "source": []
  }
 ],
 "metadata": {
  "kernelspec": {
   "display_name": "Python 3",
   "language": "python",
   "name": "python3"
  },
  "language_info": {
   "codemirror_mode": {
    "name": "ipython",
    "version": 3
   },
   "file_extension": ".py",
   "mimetype": "text/x-python",
   "name": "python",
   "nbconvert_exporter": "python",
   "pygments_lexer": "ipython3",
   "version": "3.7.3"
  },
  "toc": {
   "base_numbering": 1,
   "nav_menu": {},
   "number_sections": true,
   "sideBar": true,
   "skip_h1_title": false,
   "title_cell": "Table of Contents",
   "title_sidebar": "Contents",
   "toc_cell": false,
   "toc_position": {},
   "toc_section_display": true,
   "toc_window_display": false
  },
  "varInspector": {
   "cols": {
    "lenName": 16,
    "lenType": 16,
    "lenVar": 40
   },
   "kernels_config": {
    "python": {
     "delete_cmd_postfix": "",
     "delete_cmd_prefix": "del ",
     "library": "var_list.py",
     "varRefreshCmd": "print(var_dic_list())"
    },
    "r": {
     "delete_cmd_postfix": ") ",
     "delete_cmd_prefix": "rm(",
     "library": "var_list.r",
     "varRefreshCmd": "cat(var_dic_list()) "
    }
   },
   "types_to_exclude": [
    "module",
    "function",
    "builtin_function_or_method",
    "instance",
    "_Feature"
   ],
   "window_display": false
  }
 },
 "nbformat": 4,
 "nbformat_minor": 2
}
