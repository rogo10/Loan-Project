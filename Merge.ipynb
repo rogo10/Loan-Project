{
 "cells": [
  {
   "cell_type": "markdown",
   "metadata": {},
   "source": [
    "# Imports"
   ]
  },
  {
   "cell_type": "code",
   "execution_count": 1,
   "metadata": {
    "ExecuteTime": {
     "end_time": "2020-10-19T14:14:31.664583Z",
     "start_time": "2020-10-19T14:14:28.992695Z"
    }
   },
   "outputs": [],
   "source": [
    "import pandas as pd\n",
    "import os\n",
    "import xlsxwriter\n",
    "pd.set_option('display.max_columns', 500)\n",
    "pd.set_option('display.max_rows', 500)"
   ]
  },
  {
   "cell_type": "markdown",
   "metadata": {},
   "source": [
    "## Read In the Data"
   ]
  },
  {
   "cell_type": "code",
   "execution_count": 2,
   "metadata": {
    "ExecuteTime": {
     "end_time": "2020-10-19T14:15:33.220527Z",
     "start_time": "2020-10-19T14:14:31.685659Z"
    }
   },
   "outputs": [],
   "source": [
    "filepath_anon= os.path.abspath(r\"C:\\Users\\kdl8569\\Stress_Testing\\anon.xlsx\")\n",
    "filepath1a = os.path.abspath(r\"C:\\Users\\kdl8569\\Stress_Testing\\Metrics.xlsx\")\n",
    "\n",
    "metrics_national = pd.read_excel(filepath1a, \"National Values\")\n",
    "metrics_international = pd.read_excel(filepath1a, \"International Values\")\n",
    "df = pd.read_excel(filepath_anon)"
   ]
  },
  {
   "cell_type": "markdown",
   "metadata": {},
   "source": [
    "### Make Headers"
   ]
  },
  {
   "cell_type": "code",
   "execution_count": 8,
   "metadata": {
    "ExecuteTime": {
     "end_time": "2020-10-19T15:40:51.147900Z",
     "start_time": "2020-10-19T15:40:51.129948Z"
    }
   },
   "outputs": [
    {
     "data": {
      "text/html": [
       "<div>\n",
       "<style scoped>\n",
       "    .dataframe tbody tr th:only-of-type {\n",
       "        vertical-align: middle;\n",
       "    }\n",
       "\n",
       "    .dataframe tbody tr th {\n",
       "        vertical-align: top;\n",
       "    }\n",
       "\n",
       "    .dataframe thead th {\n",
       "        text-align: right;\n",
       "    }\n",
       "</style>\n",
       "<table border=\"1\" class=\"dataframe\">\n",
       "  <thead>\n",
       "    <tr style=\"text-align: right;\">\n",
       "      <th></th>\n",
       "      <th>Adversity</th>\n",
       "      <th>DATE_QTR</th>\n",
       "      <th>Date Month</th>\n",
       "      <th>REAL_GDP_GROWTH</th>\n",
       "      <th>NOMINAL_GDP_GROWTH</th>\n",
       "      <th>REAL_DISPOSABLE_INCOME_GROWTH</th>\n",
       "      <th>NOMINAL_DISPOSABLE_INCOME_GROWTH</th>\n",
       "      <th>UNEMPLOYMENT_RATE</th>\n",
       "      <th>CPI_INFLATION_RATE</th>\n",
       "      <th>THREE_MONTH_TREASURY_RATE</th>\n",
       "      <th>FIVE_YEAR_TREASURY_YIELD</th>\n",
       "      <th>TEN_YEAR_TREASURY_YIELD</th>\n",
       "      <th>BBB_CORPORATE_YEILD</th>\n",
       "      <th>MORTGAGE_RATE</th>\n",
       "      <th>PRIME_RATE</th>\n",
       "      <th>DOWJONES_TOTAL_STOCK_MARKET_INDEX</th>\n",
       "      <th>HOUSE_PRICE_INDEX</th>\n",
       "      <th>COMERCIAL_REAL_ESTATE_PRICE_INDEX</th>\n",
       "      <th>MARKET_VOLATILITY_INDEX</th>\n",
       "    </tr>\n",
       "  </thead>\n",
       "  <tbody>\n",
       "    <tr>\n",
       "      <th>0</th>\n",
       "      <td>Adversity</td>\n",
       "      <td>DATE_QTR</td>\n",
       "      <td>Date Month</td>\n",
       "      <td>REAL_GDP_GROWTH</td>\n",
       "      <td>NOMINAL_GDP_GROWTH</td>\n",
       "      <td>REAL_DISPOSABLE_INCOME_GROWTH</td>\n",
       "      <td>NOMINAL_DISPOSABLE_INCOME_GROWTH</td>\n",
       "      <td>UNEMPLOYMENT_RATE</td>\n",
       "      <td>CPI_INFLATION_RATE</td>\n",
       "      <td>THREE_MONTH_TREASURY_RATE</td>\n",
       "      <td>FIVE_YEAR_TREASURY_YIELD</td>\n",
       "      <td>TEN_YEAR_TREASURY_YIELD</td>\n",
       "      <td>BBB_CORPORATE_YEILD</td>\n",
       "      <td>MORTGAGE_RATE</td>\n",
       "      <td>PRIME_RATE</td>\n",
       "      <td>DOWJONES_TOTAL_STOCK_MARKET_INDEX</td>\n",
       "      <td>HOUSE_PRICE_INDEX</td>\n",
       "      <td>COMERCIAL_REAL_ESTATE_PRICE_INDEX</td>\n",
       "      <td>MARKET_VOLATILITY_INDEX</td>\n",
       "    </tr>\n",
       "    <tr>\n",
       "      <th>1</th>\n",
       "      <td>Historical</td>\n",
       "      <td>Q1 2000</td>\n",
       "      <td>1 mar 2000</td>\n",
       "      <td>1.5</td>\n",
       "      <td>4.2</td>\n",
       "      <td>7.9</td>\n",
       "      <td>11.5</td>\n",
       "      <td>4</td>\n",
       "      <td>4</td>\n",
       "      <td>5.5</td>\n",
       "      <td>6.6</td>\n",
       "      <td>6.7</td>\n",
       "      <td>8.3</td>\n",
       "      <td>8.3</td>\n",
       "      <td>8.7</td>\n",
       "      <td>14296</td>\n",
       "      <td>102</td>\n",
       "      <td>127</td>\n",
       "      <td>27</td>\n",
       "    </tr>\n",
       "    <tr>\n",
       "      <th>2</th>\n",
       "      <td>Historical</td>\n",
       "      <td>Q2 2000</td>\n",
       "      <td>1 jun 2000</td>\n",
       "      <td>7.5</td>\n",
       "      <td>10.2</td>\n",
       "      <td>4.5</td>\n",
       "      <td>6.4</td>\n",
       "      <td>3.9</td>\n",
       "      <td>3.2</td>\n",
       "      <td>5.7</td>\n",
       "      <td>6.5</td>\n",
       "      <td>6.4</td>\n",
       "      <td>8.6</td>\n",
       "      <td>8.3</td>\n",
       "      <td>9.2</td>\n",
       "      <td>13619</td>\n",
       "      <td>105</td>\n",
       "      <td>126</td>\n",
       "      <td>33.5</td>\n",
       "    </tr>\n",
       "    <tr>\n",
       "      <th>3</th>\n",
       "      <td>Historical</td>\n",
       "      <td>Q3 2000</td>\n",
       "      <td>1 sep 2000</td>\n",
       "      <td>0.5</td>\n",
       "      <td>2.8</td>\n",
       "      <td>4.7</td>\n",
       "      <td>7.3</td>\n",
       "      <td>4</td>\n",
       "      <td>3.7</td>\n",
       "      <td>6</td>\n",
       "      <td>6.1</td>\n",
       "      <td>6.1</td>\n",
       "      <td>8.2</td>\n",
       "      <td>8</td>\n",
       "      <td>9.5</td>\n",
       "      <td>13613</td>\n",
       "      <td>107</td>\n",
       "      <td>139</td>\n",
       "      <td>21.9</td>\n",
       "    </tr>\n",
       "    <tr>\n",
       "      <th>4</th>\n",
       "      <td>Historical</td>\n",
       "      <td>Q4 2000</td>\n",
       "      <td>1 dec 2000</td>\n",
       "      <td>2.5</td>\n",
       "      <td>4.7</td>\n",
       "      <td>1.4</td>\n",
       "      <td>3.7</td>\n",
       "      <td>3.9</td>\n",
       "      <td>2.9</td>\n",
       "      <td>6</td>\n",
       "      <td>5.6</td>\n",
       "      <td>5.8</td>\n",
       "      <td>8</td>\n",
       "      <td>7.6</td>\n",
       "      <td>9.5</td>\n",
       "      <td>12176</td>\n",
       "      <td>110</td>\n",
       "      <td>144</td>\n",
       "      <td>31.7</td>\n",
       "    </tr>\n",
       "  </tbody>\n",
       "</table>\n",
       "</div>"
      ],
      "text/plain": [
       "    Adversity  DATE_QTR  Date Month  REAL_GDP_GROWTH  NOMINAL_GDP_GROWTH  \\\n",
       "0   Adversity  DATE_QTR  Date Month  REAL_GDP_GROWTH  NOMINAL_GDP_GROWTH   \n",
       "1  Historical   Q1 2000  1 mar 2000              1.5                 4.2   \n",
       "2  Historical   Q2 2000  1 jun 2000              7.5                10.2   \n",
       "3  Historical   Q3 2000  1 sep 2000              0.5                 2.8   \n",
       "4  Historical   Q4 2000  1 dec 2000              2.5                 4.7   \n",
       "\n",
       "   REAL_DISPOSABLE_INCOME_GROWTH  NOMINAL_DISPOSABLE_INCOME_GROWTH  \\\n",
       "0  REAL_DISPOSABLE_INCOME_GROWTH  NOMINAL_DISPOSABLE_INCOME_GROWTH   \n",
       "1                            7.9                              11.5   \n",
       "2                            4.5                               6.4   \n",
       "3                            4.7                               7.3   \n",
       "4                            1.4                               3.7   \n",
       "\n",
       "   UNEMPLOYMENT_RATE  CPI_INFLATION_RATE  THREE_MONTH_TREASURY_RATE  \\\n",
       "0  UNEMPLOYMENT_RATE  CPI_INFLATION_RATE  THREE_MONTH_TREASURY_RATE   \n",
       "1                  4                   4                        5.5   \n",
       "2                3.9                 3.2                        5.7   \n",
       "3                  4                 3.7                          6   \n",
       "4                3.9                 2.9                          6   \n",
       "\n",
       "   FIVE_YEAR_TREASURY_YIELD  TEN_YEAR_TREASURY_YIELD  BBB_CORPORATE_YEILD  \\\n",
       "0  FIVE_YEAR_TREASURY_YIELD  TEN_YEAR_TREASURY_YIELD  BBB_CORPORATE_YEILD   \n",
       "1                       6.6                      6.7                  8.3   \n",
       "2                       6.5                      6.4                  8.6   \n",
       "3                       6.1                      6.1                  8.2   \n",
       "4                       5.6                      5.8                    8   \n",
       "\n",
       "   MORTGAGE_RATE  PRIME_RATE  DOWJONES_TOTAL_STOCK_MARKET_INDEX  \\\n",
       "0  MORTGAGE_RATE  PRIME_RATE  DOWJONES_TOTAL_STOCK_MARKET_INDEX   \n",
       "1            8.3         8.7                              14296   \n",
       "2            8.3         9.2                              13619   \n",
       "3              8         9.5                              13613   \n",
       "4            7.6         9.5                              12176   \n",
       "\n",
       "   HOUSE_PRICE_INDEX  COMERCIAL_REAL_ESTATE_PRICE_INDEX  \\\n",
       "0  HOUSE_PRICE_INDEX  COMERCIAL_REAL_ESTATE_PRICE_INDEX   \n",
       "1                102                                127   \n",
       "2                105                                126   \n",
       "3                107                                139   \n",
       "4                110                                144   \n",
       "\n",
       "   MARKET_VOLATILITY_INDEX  \n",
       "0  MARKET_VOLATILITY_INDEX  \n",
       "1                       27  \n",
       "2                     33.5  \n",
       "3                     21.9  \n",
       "4                     31.7  "
      ]
     },
     "execution_count": 8,
     "metadata": {},
     "output_type": "execute_result"
    }
   ],
   "source": [
    "metrics_national = metrics_national.rename(columns=metrics_national.iloc[0])#Make first row headers\n",
    "#metrics_national = metrics_national.drop(metrics_national.index[0]) #drop first row\n",
    "metrics_national.head()"
   ]
  },
  {
   "cell_type": "code",
   "execution_count": 9,
   "metadata": {
    "ExecuteTime": {
     "end_time": "2020-10-19T15:40:52.414420Z",
     "start_time": "2020-10-19T15:40:52.408436Z"
    }
   },
   "outputs": [],
   "source": [
    "metrics = metrics_national.merge(metrics_international,on=['Adversity', 'DATE_QTR','Date Month'])\n",
    "#metrics"
   ]
  },
  {
   "cell_type": "code",
   "execution_count": 10,
   "metadata": {
    "ExecuteTime": {
     "end_time": "2020-10-19T15:40:54.681480Z",
     "start_time": "2020-10-19T15:40:54.654961Z"
    }
   },
   "outputs": [],
   "source": [
    "metrics['Date Month'] = pd.to_datetime(metrics['Date Month'])"
   ]
  },
  {
   "cell_type": "code",
   "execution_count": 12,
   "metadata": {
    "ExecuteTime": {
     "end_time": "2020-10-19T15:41:12.236650Z",
     "start_time": "2020-10-19T15:41:12.203420Z"
    }
   },
   "outputs": [],
   "source": [
    "#Rename so Can Merge\n",
    "metrics = metrics.rename(columns={'Date Month':'Date'})\n",
    "df = df.rename(columns={'Source Date':'Date'})"
   ]
  },
  {
   "cell_type": "code",
   "execution_count": 13,
   "metadata": {
    "ExecuteTime": {
     "end_time": "2020-10-19T15:41:40.470997Z",
     "start_time": "2020-10-19T15:41:38.902162Z"
    }
   },
   "outputs": [
    {
     "ename": "TypeError",
     "evalue": "Incorrect dtype",
     "output_type": "error",
     "traceback": [
      "\u001b[1;31m---------------------------------------------------------------------------\u001b[0m",
      "\u001b[1;31mTypeError\u001b[0m                                 Traceback (most recent call last)",
      "\u001b[1;32m<ipython-input-13-df21893178b8>\u001b[0m in \u001b[0;36m<module>\u001b[1;34m\u001b[0m\n\u001b[1;32m----> 1\u001b[1;33m \u001b[0mdf\u001b[0m\u001b[1;33m[\u001b[0m\u001b[1;34m'Date'\u001b[0m\u001b[1;33m]\u001b[0m \u001b[1;33m=\u001b[0m \u001b[0mpd\u001b[0m\u001b[1;33m.\u001b[0m\u001b[0mPeriodIndex\u001b[0m\u001b[1;33m(\u001b[0m\u001b[0mdf\u001b[0m\u001b[1;33m[\u001b[0m\u001b[1;34m'Date'\u001b[0m\u001b[1;33m]\u001b[0m\u001b[1;33m.\u001b[0m\u001b[0mastype\u001b[0m\u001b[1;33m(\u001b[0m\u001b[0mstr\u001b[0m\u001b[1;33m)\u001b[0m\u001b[1;33m,\u001b[0m \u001b[0mfreq\u001b[0m\u001b[1;33m=\u001b[0m\u001b[1;34m'M'\u001b[0m\u001b[1;33m)\u001b[0m\u001b[1;31m#.strftime('%m/%d/%Y')\u001b[0m\u001b[1;33m\u001b[0m\u001b[1;33m\u001b[0m\u001b[0m\n\u001b[0m",
      "\u001b[1;32mC:\\ProgramData\\Anaconda3\\lib\\site-packages\\pandas\\core\\indexes\\period.py\u001b[0m in \u001b[0;36m__new__\u001b[1;34m(cls, data, ordinal, freq, tz, dtype, copy, name, **fields)\u001b[0m\n\u001b[0;32m    220\u001b[0m             \u001b[1;32melse\u001b[0m\u001b[1;33m:\u001b[0m\u001b[1;33m\u001b[0m\u001b[1;33m\u001b[0m\u001b[0m\n\u001b[0;32m    221\u001b[0m                 \u001b[1;31m# don't pass copy here, since we copy later.\u001b[0m\u001b[1;33m\u001b[0m\u001b[1;33m\u001b[0m\u001b[1;33m\u001b[0m\u001b[0m\n\u001b[1;32m--> 222\u001b[1;33m                 \u001b[0mdata\u001b[0m \u001b[1;33m=\u001b[0m \u001b[0mperiod_array\u001b[0m\u001b[1;33m(\u001b[0m\u001b[0mdata\u001b[0m\u001b[1;33m=\u001b[0m\u001b[0mdata\u001b[0m\u001b[1;33m,\u001b[0m \u001b[0mfreq\u001b[0m\u001b[1;33m=\u001b[0m\u001b[0mfreq\u001b[0m\u001b[1;33m)\u001b[0m\u001b[1;33m\u001b[0m\u001b[1;33m\u001b[0m\u001b[0m\n\u001b[0m\u001b[0;32m    223\u001b[0m \u001b[1;33m\u001b[0m\u001b[0m\n\u001b[0;32m    224\u001b[0m         \u001b[1;32mif\u001b[0m \u001b[0mcopy\u001b[0m\u001b[1;33m:\u001b[0m\u001b[1;33m\u001b[0m\u001b[1;33m\u001b[0m\u001b[0m\n",
      "\u001b[1;32mC:\\ProgramData\\Anaconda3\\lib\\site-packages\\pandas\\core\\arrays\\period.py\u001b[0m in \u001b[0;36mperiod_array\u001b[1;34m(data, freq, copy)\u001b[0m\n\u001b[0;32m    852\u001b[0m         \u001b[1;32mreturn\u001b[0m \u001b[0mPeriodArray\u001b[0m\u001b[1;33m.\u001b[0m\u001b[0m_from_datetime64\u001b[0m\u001b[1;33m(\u001b[0m\u001b[0mdata\u001b[0m\u001b[1;33m,\u001b[0m \u001b[0mfreq\u001b[0m\u001b[1;33m)\u001b[0m\u001b[1;33m\u001b[0m\u001b[1;33m\u001b[0m\u001b[0m\n\u001b[0;32m    853\u001b[0m     \u001b[1;32mif\u001b[0m \u001b[0misinstance\u001b[0m\u001b[1;33m(\u001b[0m\u001b[0mdata\u001b[0m\u001b[1;33m,\u001b[0m \u001b[1;33m(\u001b[0m\u001b[0mABCPeriodIndex\u001b[0m\u001b[1;33m,\u001b[0m \u001b[0mABCSeries\u001b[0m\u001b[1;33m,\u001b[0m \u001b[0mPeriodArray\u001b[0m\u001b[1;33m)\u001b[0m\u001b[1;33m)\u001b[0m\u001b[1;33m:\u001b[0m\u001b[1;33m\u001b[0m\u001b[1;33m\u001b[0m\u001b[0m\n\u001b[1;32m--> 854\u001b[1;33m         \u001b[1;32mreturn\u001b[0m \u001b[0mPeriodArray\u001b[0m\u001b[1;33m(\u001b[0m\u001b[0mdata\u001b[0m\u001b[1;33m,\u001b[0m \u001b[0mfreq\u001b[0m\u001b[1;33m)\u001b[0m\u001b[1;33m\u001b[0m\u001b[1;33m\u001b[0m\u001b[0m\n\u001b[0m\u001b[0;32m    855\u001b[0m \u001b[1;33m\u001b[0m\u001b[0m\n\u001b[0;32m    856\u001b[0m     \u001b[1;31m# other iterable of some kind\u001b[0m\u001b[1;33m\u001b[0m\u001b[1;33m\u001b[0m\u001b[1;33m\u001b[0m\u001b[0m\n",
      "\u001b[1;32mC:\\ProgramData\\Anaconda3\\lib\\site-packages\\pandas\\core\\arrays\\period.py\u001b[0m in \u001b[0;36m__init__\u001b[1;34m(self, values, freq, dtype, copy)\u001b[0m\n\u001b[0;32m    153\u001b[0m             \u001b[0mvalues\u001b[0m \u001b[1;33m=\u001b[0m \u001b[0mvalues\u001b[0m\u001b[1;33m.\u001b[0m\u001b[0m_values\u001b[0m\u001b[1;33m\u001b[0m\u001b[1;33m\u001b[0m\u001b[0m\n\u001b[0;32m    154\u001b[0m             \u001b[1;32mif\u001b[0m \u001b[1;32mnot\u001b[0m \u001b[0misinstance\u001b[0m\u001b[1;33m(\u001b[0m\u001b[0mvalues\u001b[0m\u001b[1;33m,\u001b[0m \u001b[0mtype\u001b[0m\u001b[1;33m(\u001b[0m\u001b[0mself\u001b[0m\u001b[1;33m)\u001b[0m\u001b[1;33m)\u001b[0m\u001b[1;33m:\u001b[0m\u001b[1;33m\u001b[0m\u001b[1;33m\u001b[0m\u001b[0m\n\u001b[1;32m--> 155\u001b[1;33m                 \u001b[1;32mraise\u001b[0m \u001b[0mTypeError\u001b[0m\u001b[1;33m(\u001b[0m\u001b[1;34m\"Incorrect dtype\"\u001b[0m\u001b[1;33m)\u001b[0m\u001b[1;33m\u001b[0m\u001b[1;33m\u001b[0m\u001b[0m\n\u001b[0m\u001b[0;32m    156\u001b[0m \u001b[1;33m\u001b[0m\u001b[0m\n\u001b[0;32m    157\u001b[0m         \u001b[1;32melif\u001b[0m \u001b[0misinstance\u001b[0m\u001b[1;33m(\u001b[0m\u001b[0mvalues\u001b[0m\u001b[1;33m,\u001b[0m \u001b[0mABCPeriodIndex\u001b[0m\u001b[1;33m)\u001b[0m\u001b[1;33m:\u001b[0m\u001b[1;33m\u001b[0m\u001b[1;33m\u001b[0m\u001b[0m\n",
      "\u001b[1;31mTypeError\u001b[0m: Incorrect dtype"
     ]
    }
   ],
   "source": [
    "df['Date'] = pd.PeriodIndex(df['Date'].astype(str), freq='M')#.strftime('%m/%d/%Y')"
   ]
  },
  {
   "cell_type": "code",
   "execution_count": 14,
   "metadata": {
    "ExecuteTime": {
     "end_time": "2020-10-19T15:41:53.654290Z",
     "start_time": "2020-10-19T15:41:51.975455Z"
    }
   },
   "outputs": [],
   "source": [
    "#Have to turn into strings because pandas cannot merge on datetime format\n",
    "df['Date'] = df['Date'].astype(str)\n",
    "metrics['Date'] = metrics['Date'].astype(str)\n"
   ]
  },
  {
   "cell_type": "code",
   "execution_count": 15,
   "metadata": {
    "ExecuteTime": {
     "end_time": "2020-10-19T15:41:53.814980Z",
     "start_time": "2020-10-19T15:41:53.808997Z"
    }
   },
   "outputs": [],
   "source": [
    "df['Adversity'] = \"Historical\""
   ]
  },
  {
   "cell_type": "code",
   "execution_count": 16,
   "metadata": {
    "ExecuteTime": {
     "end_time": "2020-10-19T15:41:56.187147Z",
     "start_time": "2020-10-19T15:41:56.140268Z"
    }
   },
   "outputs": [],
   "source": [
    "dff = pd.merge(df, metrics, on=['Date','Adversity'])"
   ]
  },
  {
   "cell_type": "code",
   "execution_count": 17,
   "metadata": {
    "ExecuteTime": {
     "end_time": "2020-10-19T15:42:03.812348Z",
     "start_time": "2020-10-19T15:42:03.797380Z"
    }
   },
   "outputs": [
    {
     "data": {
      "text/html": [
       "<div>\n",
       "<style scoped>\n",
       "    .dataframe tbody tr th:only-of-type {\n",
       "        vertical-align: middle;\n",
       "    }\n",
       "\n",
       "    .dataframe tbody tr th {\n",
       "        vertical-align: top;\n",
       "    }\n",
       "\n",
       "    .dataframe thead th {\n",
       "        text-align: right;\n",
       "    }\n",
       "</style>\n",
       "<table border=\"1\" class=\"dataframe\">\n",
       "  <thead>\n",
       "    <tr style=\"text-align: right;\">\n",
       "      <th></th>\n",
       "      <th>Unnamed: 0</th>\n",
       "      <th>PK</th>\n",
       "      <th>Date</th>\n",
       "      <th>Balance</th>\n",
       "      <th>Current Days Past Due</th>\n",
       "      <th>Times Past Due 30-59</th>\n",
       "      <th>Times Past Due 60-89</th>\n",
       "      <th>Times Past Due 90+</th>\n",
       "      <th>Credit Risk Code</th>\n",
       "      <th>Adversity</th>\n",
       "      <th>DATE_QTR</th>\n",
       "      <th>REAL_GDP_GROWTH</th>\n",
       "      <th>NOMINAL_GDP_GROWTH</th>\n",
       "      <th>REAL_DISPOSABLE_INCOME_GROWTH</th>\n",
       "      <th>NOMINAL_DISPOSABLE_INCOME_GROWTH</th>\n",
       "      <th>UNEMPLOYMENT_RATE</th>\n",
       "      <th>CPI_INFLATION_RATE</th>\n",
       "      <th>THREE_MONTH_TREASURY_RATE</th>\n",
       "      <th>FIVE_YEAR_TREASURY_YIELD</th>\n",
       "      <th>TEN_YEAR_TREASURY_YIELD</th>\n",
       "      <th>BBB_CORPORATE_YEILD</th>\n",
       "      <th>MORTGAGE_RATE</th>\n",
       "      <th>PRIME_RATE</th>\n",
       "      <th>DOWJONES_TOTAL_STOCK_MARKET_INDEX</th>\n",
       "      <th>HOUSE_PRICE_INDEX</th>\n",
       "      <th>COMERCIAL_REAL_ESTATE_PRICE_INDEX</th>\n",
       "      <th>MARKET_VOLATILITY_INDEX</th>\n",
       "      <th>EURO_AREA_REAL_GDP_GROWTH</th>\n",
       "      <th>EURO_AREA_INFLATION</th>\n",
       "      <th>EURO_AREA_BILATERAL_DOLLAR_EXCHANGE_RATE</th>\n",
       "      <th>DEVELOPING_ASIA_REAL_GDP_GROWTH</th>\n",
       "      <th>DEVELOPING_ASIA_INFLATION</th>\n",
       "      <th>DEV_ASIA_BILATERAL_DOLLAR_EXCHANGE_RATE</th>\n",
       "      <th>JAPAN_REAL_GDP_GROWTH</th>\n",
       "      <th>JAPAN_INFLATION</th>\n",
       "      <th>JAPAN_BILATERAL_DOLLAR_EXCHANGE_RATE</th>\n",
       "      <th>UK_REAL_GDP_GROWTH</th>\n",
       "      <th>UK_INFLATION</th>\n",
       "      <th>UK_BILATERAL_DOLLAR_EXCHANGE_RATE</th>\n",
       "    </tr>\n",
       "  </thead>\n",
       "  <tbody>\n",
       "  </tbody>\n",
       "</table>\n",
       "</div>"
      ],
      "text/plain": [
       "Empty DataFrame\n",
       "Columns: [Unnamed: 0, PK, Date, Balance,  Current Days Past Due, Times Past Due 30-59, Times Past Due 60-89, Times Past Due 90+, Credit Risk Code, Adversity, DATE_QTR, REAL_GDP_GROWTH, NOMINAL_GDP_GROWTH, REAL_DISPOSABLE_INCOME_GROWTH, NOMINAL_DISPOSABLE_INCOME_GROWTH, UNEMPLOYMENT_RATE, CPI_INFLATION_RATE, THREE_MONTH_TREASURY_RATE, FIVE_YEAR_TREASURY_YIELD, TEN_YEAR_TREASURY_YIELD, BBB_CORPORATE_YEILD, MORTGAGE_RATE, PRIME_RATE, DOWJONES_TOTAL_STOCK_MARKET_INDEX, HOUSE_PRICE_INDEX, COMERCIAL_REAL_ESTATE_PRICE_INDEX, MARKET_VOLATILITY_INDEX, EURO_AREA_REAL_GDP_GROWTH, EURO_AREA_INFLATION, EURO_AREA_BILATERAL_DOLLAR_EXCHANGE_RATE, DEVELOPING_ASIA_REAL_GDP_GROWTH, DEVELOPING_ASIA_INFLATION, DEV_ASIA_BILATERAL_DOLLAR_EXCHANGE_RATE, JAPAN_REAL_GDP_GROWTH, JAPAN_INFLATION, JAPAN_BILATERAL_DOLLAR_EXCHANGE_RATE, UK_REAL_GDP_GROWTH, UK_INFLATION, UK_BILATERAL_DOLLAR_EXCHANGE_RATE]\n",
       "Index: []"
      ]
     },
     "execution_count": 17,
     "metadata": {},
     "output_type": "execute_result"
    }
   ],
   "source": [
    "dff"
   ]
  },
  {
   "cell_type": "code",
   "execution_count": null,
   "metadata": {},
   "outputs": [],
   "source": []
  },
  {
   "cell_type": "code",
   "execution_count": null,
   "metadata": {
    "ExecuteTime": {
     "end_time": "2020-10-19T14:15:38.718399Z",
     "start_time": "2020-10-19T14:14:39.666Z"
    }
   },
   "outputs": [],
   "source": [
    "metrics.head()"
   ]
  },
  {
   "cell_type": "markdown",
   "metadata": {},
   "source": [
    "## Title"
   ]
  },
  {
   "cell_type": "markdown",
   "metadata": {},
   "source": [
    "### sub"
   ]
  },
  {
   "cell_type": "code",
   "execution_count": null,
   "metadata": {},
   "outputs": [],
   "source": []
  }
 ],
 "metadata": {
  "hide_input": false,
  "kernelspec": {
   "display_name": "Python 3",
   "language": "python",
   "name": "python3"
  },
  "language_info": {
   "codemirror_mode": {
    "name": "ipython",
    "version": 3
   },
   "file_extension": ".py",
   "mimetype": "text/x-python",
   "name": "python",
   "nbconvert_exporter": "python",
   "pygments_lexer": "ipython3",
   "version": "3.7.3"
  },
  "toc": {
   "base_numbering": 1,
   "nav_menu": {},
   "number_sections": true,
   "sideBar": true,
   "skip_h1_title": false,
   "title_cell": "Table of Contents",
   "title_sidebar": "Contents",
   "toc_cell": false,
   "toc_position": {},
   "toc_section_display": true,
   "toc_window_display": false
  },
  "varInspector": {
   "cols": {
    "lenName": 16,
    "lenType": 16,
    "lenVar": 40
   },
   "kernels_config": {
    "python": {
     "delete_cmd_postfix": "",
     "delete_cmd_prefix": "del ",
     "library": "var_list.py",
     "varRefreshCmd": "print(var_dic_list())"
    },
    "r": {
     "delete_cmd_postfix": ") ",
     "delete_cmd_prefix": "rm(",
     "library": "var_list.r",
     "varRefreshCmd": "cat(var_dic_list()) "
    }
   },
   "types_to_exclude": [
    "module",
    "function",
    "builtin_function_or_method",
    "instance",
    "_Feature"
   ],
   "window_display": false
  }
 },
 "nbformat": 4,
 "nbformat_minor": 4
}
