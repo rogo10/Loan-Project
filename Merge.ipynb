{
 "cells": [
  {
   "cell_type": "markdown",
   "metadata": {},
   "source": [
    "# Imports"
   ]
  },
  {
   "cell_type": "code",
   "execution_count": 1,
   "metadata": {
    "ExecuteTime": {
     "end_time": "2020-10-22T18:13:03.855258Z",
     "start_time": "2020-10-22T18:13:03.284172Z"
    }
   },
   "outputs": [],
   "source": [
    "import pandas as pd\n",
    "import os\n",
    "import xlsxwriter\n",
    "pd.set_option('display.max_columns', 500)\n",
    "pd.set_option('display.max_rows', 500)"
   ]
  },
  {
   "cell_type": "markdown",
   "metadata": {},
   "source": [
    "## Read In the Data"
   ]
  },
  {
   "cell_type": "code",
   "execution_count": 2,
   "metadata": {
    "ExecuteTime": {
     "end_time": "2020-10-22T18:13:28.419670Z",
     "start_time": "2020-10-22T18:13:04.395106Z"
    }
   },
   "outputs": [],
   "source": [
    "filepath_anon= os.path.abspath(r\"C:\\Users\\kdl8569\\Stress_Testing\\anon.xlsx\")\n",
    "filepath1a = os.path.abspath(r\"C:\\Users\\kdl8569\\Stress_Testing\\Metrics.xlsx\")\n",
    "\n",
    "metrics_national = pd.read_excel(filepath1a, \"National Values\")\n",
    "metrics_international = pd.read_excel(filepath1a, \"International Values\")\n",
    "df = pd.read_excel(filepath_anon)"
   ]
  },
  {
   "cell_type": "markdown",
   "metadata": {},
   "source": [
    "### Make Headers"
   ]
  },
  {
   "cell_type": "code",
   "execution_count": 3,
   "metadata": {
    "ExecuteTime": {
     "end_time": "2020-10-22T18:13:28.528348Z",
     "start_time": "2020-10-22T18:13:28.507405Z"
    }
   },
   "outputs": [
    {
     "data": {
      "text/html": [
       "<div>\n",
       "<style scoped>\n",
       "    .dataframe tbody tr th:only-of-type {\n",
       "        vertical-align: middle;\n",
       "    }\n",
       "\n",
       "    .dataframe tbody tr th {\n",
       "        vertical-align: top;\n",
       "    }\n",
       "\n",
       "    .dataframe thead th {\n",
       "        text-align: right;\n",
       "    }\n",
       "</style>\n",
       "<table border=\"1\" class=\"dataframe\">\n",
       "  <thead>\n",
       "    <tr style=\"text-align: right;\">\n",
       "      <th></th>\n",
       "      <th>Adversity</th>\n",
       "      <th>DATE_QTR</th>\n",
       "      <th>Date Month</th>\n",
       "      <th>REAL_GDP_GROWTH</th>\n",
       "      <th>NOMINAL_GDP_GROWTH</th>\n",
       "      <th>REAL_DISPOSABLE_INCOME_GROWTH</th>\n",
       "      <th>NOMINAL_DISPOSABLE_INCOME_GROWTH</th>\n",
       "      <th>UNEMPLOYMENT_RATE</th>\n",
       "      <th>CPI_INFLATION_RATE</th>\n",
       "      <th>THREE_MONTH_TREASURY_RATE</th>\n",
       "      <th>FIVE_YEAR_TREASURY_YIELD</th>\n",
       "      <th>TEN_YEAR_TREASURY_YIELD</th>\n",
       "      <th>BBB_CORPORATE_YEILD</th>\n",
       "      <th>MORTGAGE_RATE</th>\n",
       "      <th>PRIME_RATE</th>\n",
       "      <th>DOWJONES_TOTAL_STOCK_MARKET_INDEX</th>\n",
       "      <th>HOUSE_PRICE_INDEX</th>\n",
       "      <th>COMERCIAL_REAL_ESTATE_PRICE_INDEX</th>\n",
       "      <th>MARKET_VOLATILITY_INDEX</th>\n",
       "    </tr>\n",
       "  </thead>\n",
       "  <tbody>\n",
       "    <tr>\n",
       "      <th>1</th>\n",
       "      <td>Historical</td>\n",
       "      <td>Q1 2000</td>\n",
       "      <td>1 mar 2000</td>\n",
       "      <td>1.5</td>\n",
       "      <td>4.2</td>\n",
       "      <td>7.9</td>\n",
       "      <td>11.5</td>\n",
       "      <td>4</td>\n",
       "      <td>4</td>\n",
       "      <td>5.5</td>\n",
       "      <td>6.6</td>\n",
       "      <td>6.7</td>\n",
       "      <td>8.3</td>\n",
       "      <td>8.3</td>\n",
       "      <td>8.7</td>\n",
       "      <td>14296</td>\n",
       "      <td>102</td>\n",
       "      <td>127</td>\n",
       "      <td>27</td>\n",
       "    </tr>\n",
       "    <tr>\n",
       "      <th>2</th>\n",
       "      <td>Historical</td>\n",
       "      <td>Q2 2000</td>\n",
       "      <td>1 jun 2000</td>\n",
       "      <td>7.5</td>\n",
       "      <td>10.2</td>\n",
       "      <td>4.5</td>\n",
       "      <td>6.4</td>\n",
       "      <td>3.9</td>\n",
       "      <td>3.2</td>\n",
       "      <td>5.7</td>\n",
       "      <td>6.5</td>\n",
       "      <td>6.4</td>\n",
       "      <td>8.6</td>\n",
       "      <td>8.3</td>\n",
       "      <td>9.2</td>\n",
       "      <td>13619</td>\n",
       "      <td>105</td>\n",
       "      <td>126</td>\n",
       "      <td>33.5</td>\n",
       "    </tr>\n",
       "    <tr>\n",
       "      <th>3</th>\n",
       "      <td>Historical</td>\n",
       "      <td>Q3 2000</td>\n",
       "      <td>1 sep 2000</td>\n",
       "      <td>0.5</td>\n",
       "      <td>2.8</td>\n",
       "      <td>4.7</td>\n",
       "      <td>7.3</td>\n",
       "      <td>4</td>\n",
       "      <td>3.7</td>\n",
       "      <td>6</td>\n",
       "      <td>6.1</td>\n",
       "      <td>6.1</td>\n",
       "      <td>8.2</td>\n",
       "      <td>8</td>\n",
       "      <td>9.5</td>\n",
       "      <td>13613</td>\n",
       "      <td>107</td>\n",
       "      <td>139</td>\n",
       "      <td>21.9</td>\n",
       "    </tr>\n",
       "    <tr>\n",
       "      <th>4</th>\n",
       "      <td>Historical</td>\n",
       "      <td>Q4 2000</td>\n",
       "      <td>1 dec 2000</td>\n",
       "      <td>2.5</td>\n",
       "      <td>4.7</td>\n",
       "      <td>1.4</td>\n",
       "      <td>3.7</td>\n",
       "      <td>3.9</td>\n",
       "      <td>2.9</td>\n",
       "      <td>6</td>\n",
       "      <td>5.6</td>\n",
       "      <td>5.8</td>\n",
       "      <td>8</td>\n",
       "      <td>7.6</td>\n",
       "      <td>9.5</td>\n",
       "      <td>12176</td>\n",
       "      <td>110</td>\n",
       "      <td>144</td>\n",
       "      <td>31.7</td>\n",
       "    </tr>\n",
       "    <tr>\n",
       "      <th>5</th>\n",
       "      <td>Historical</td>\n",
       "      <td>Q1 2001</td>\n",
       "      <td>2001-03-01 00:00:00</td>\n",
       "      <td>-1.1</td>\n",
       "      <td>1.3</td>\n",
       "      <td>3.7</td>\n",
       "      <td>6.5</td>\n",
       "      <td>4.2</td>\n",
       "      <td>3.9</td>\n",
       "      <td>4.8</td>\n",
       "      <td>4.9</td>\n",
       "      <td>5.3</td>\n",
       "      <td>7.5</td>\n",
       "      <td>7</td>\n",
       "      <td>8.6</td>\n",
       "      <td>10646</td>\n",
       "      <td>112</td>\n",
       "      <td>143</td>\n",
       "      <td>32.8</td>\n",
       "    </tr>\n",
       "  </tbody>\n",
       "</table>\n",
       "</div>"
      ],
      "text/plain": [
       "    Adversity DATE_QTR           Date Month REAL_GDP_GROWTH  \\\n",
       "1  Historical  Q1 2000           1 mar 2000             1.5   \n",
       "2  Historical  Q2 2000           1 jun 2000             7.5   \n",
       "3  Historical  Q3 2000           1 sep 2000             0.5   \n",
       "4  Historical  Q4 2000           1 dec 2000             2.5   \n",
       "5  Historical  Q1 2001  2001-03-01 00:00:00            -1.1   \n",
       "\n",
       "  NOMINAL_GDP_GROWTH REAL_DISPOSABLE_INCOME_GROWTH  \\\n",
       "1                4.2                           7.9   \n",
       "2               10.2                           4.5   \n",
       "3                2.8                           4.7   \n",
       "4                4.7                           1.4   \n",
       "5                1.3                           3.7   \n",
       "\n",
       "  NOMINAL_DISPOSABLE_INCOME_GROWTH UNEMPLOYMENT_RATE CPI_INFLATION_RATE  \\\n",
       "1                             11.5                 4                  4   \n",
       "2                              6.4               3.9                3.2   \n",
       "3                              7.3                 4                3.7   \n",
       "4                              3.7               3.9                2.9   \n",
       "5                              6.5               4.2                3.9   \n",
       "\n",
       "  THREE_MONTH_TREASURY_RATE FIVE_YEAR_TREASURY_YIELD TEN_YEAR_TREASURY_YIELD  \\\n",
       "1                       5.5                      6.6                     6.7   \n",
       "2                       5.7                      6.5                     6.4   \n",
       "3                         6                      6.1                     6.1   \n",
       "4                         6                      5.6                     5.8   \n",
       "5                       4.8                      4.9                     5.3   \n",
       "\n",
       "  BBB_CORPORATE_YEILD MORTGAGE_RATE PRIME_RATE  \\\n",
       "1                 8.3           8.3        8.7   \n",
       "2                 8.6           8.3        9.2   \n",
       "3                 8.2             8        9.5   \n",
       "4                   8           7.6        9.5   \n",
       "5                 7.5             7        8.6   \n",
       "\n",
       "  DOWJONES_TOTAL_STOCK_MARKET_INDEX HOUSE_PRICE_INDEX  \\\n",
       "1                             14296               102   \n",
       "2                             13619               105   \n",
       "3                             13613               107   \n",
       "4                             12176               110   \n",
       "5                             10646               112   \n",
       "\n",
       "  COMERCIAL_REAL_ESTATE_PRICE_INDEX MARKET_VOLATILITY_INDEX  \n",
       "1                               127                      27  \n",
       "2                               126                    33.5  \n",
       "3                               139                    21.9  \n",
       "4                               144                    31.7  \n",
       "5                               143                    32.8  "
      ]
     },
     "execution_count": 3,
     "metadata": {},
     "output_type": "execute_result"
    }
   ],
   "source": [
    "metrics_national = metrics_national.rename(columns=metrics_national.iloc[0])#Make first row headers\n",
    "metrics_national = metrics_national.drop(metrics_national.index[0]) #drop first row\n",
    "metrics_national.head()"
   ]
  },
  {
   "cell_type": "code",
   "execution_count": 4,
   "metadata": {
    "ExecuteTime": {
     "end_time": "2020-10-22T18:13:28.588191Z",
     "start_time": "2020-10-22T18:13:28.580211Z"
    }
   },
   "outputs": [],
   "source": [
    "metrics = metrics_national.merge(metrics_international,on=['Adversity', 'DATE_QTR','Date Month'])\n",
    "#metrics"
   ]
  },
  {
   "cell_type": "code",
   "execution_count": 5,
   "metadata": {
    "ExecuteTime": {
     "end_time": "2020-10-22T18:13:28.682936Z",
     "start_time": "2020-10-22T18:13:28.673959Z"
    },
    "scrolled": false
   },
   "outputs": [],
   "source": [
    "metrics['Date Month'] = pd.to_datetime(metrics['Date Month'])\n",
    "#metrics.info()"
   ]
  },
  {
   "cell_type": "code",
   "execution_count": 6,
   "metadata": {
    "ExecuteTime": {
     "end_time": "2020-10-22T18:13:28.797679Z",
     "start_time": "2020-10-22T18:13:28.769703Z"
    }
   },
   "outputs": [],
   "source": [
    "#Rename so Can Merge\n",
    "metrics = metrics.rename(columns={'Date Month':'Date'})\n",
    "df = df.rename(columns={'Source Date':'Date'})"
   ]
  },
  {
   "cell_type": "code",
   "execution_count": null,
   "metadata": {
    "ExecuteTime": {
     "start_time": "2020-10-22T18:13:12.480Z"
    }
   },
   "outputs": [],
   "source": [
    "df['Qdate'] = pd.PeriodIndex(df['Date'],freq='Q').strftime('%Q %Y')"
   ]
  },
  {
   "cell_type": "code",
   "execution_count": null,
   "metadata": {},
   "outputs": [],
   "source": []
  },
  {
   "cell_type": "code",
   "execution_count": null,
   "metadata": {},
   "outputs": [],
   "source": []
  },
  {
   "cell_type": "code",
   "execution_count": 28,
   "metadata": {
    "ExecuteTime": {
     "end_time": "2020-10-22T17:10:58.864016Z",
     "start_time": "2020-10-22T17:10:58.848058Z"
    }
   },
   "outputs": [],
   "source": [
    "#df['Adversity'] = \"Historical\"\n",
    "#df.loc[df['Date'] > \"2020-01-01\", 'Adversity'] = \"Future\""
   ]
  },
  {
   "cell_type": "code",
   "execution_count": 36,
   "metadata": {
    "ExecuteTime": {
     "end_time": "2020-10-22T17:15:16.025992Z",
     "start_time": "2020-10-22T17:15:16.015988Z"
    },
    "scrolled": true
   },
   "outputs": [
    {
     "data": {
      "text/plain": [
       "Date\n",
       "2000-03-01    1\n",
       "2000-06-01    1\n",
       "2000-09-01    1\n",
       "2000-12-01    1\n",
       "2001-03-01    1\n",
       "2001-06-01    1\n",
       "2001-09-01    1\n",
       "2001-12-01    1\n",
       "2002-03-01    1\n",
       "2002-06-01    1\n",
       "2002-09-01    1\n",
       "2002-12-01    1\n",
       "2003-03-01    1\n",
       "2003-06-01    1\n",
       "2003-09-01    1\n",
       "2003-12-01    1\n",
       "2004-03-01    1\n",
       "2004-06-01    1\n",
       "2004-09-01    1\n",
       "2004-12-01    1\n",
       "2005-03-01    1\n",
       "2005-06-01    1\n",
       "2005-09-01    1\n",
       "2005-12-01    1\n",
       "2006-03-01    1\n",
       "2006-06-01    1\n",
       "2006-09-01    1\n",
       "2006-12-01    1\n",
       "2007-03-01    1\n",
       "2007-06-01    1\n",
       "2007-09-01    1\n",
       "2007-12-01    1\n",
       "2008-03-01    1\n",
       "2008-06-01    1\n",
       "2008-09-01    1\n",
       "2008-12-01    1\n",
       "2009-03-01    1\n",
       "2009-06-01    1\n",
       "2009-09-01    1\n",
       "2009-12-01    1\n",
       "2010-03-01    1\n",
       "2010-06-01    1\n",
       "2010-09-01    1\n",
       "2010-12-01    1\n",
       "2011-03-01    1\n",
       "2011-06-01    1\n",
       "2011-09-01    1\n",
       "2011-12-01    1\n",
       "2012-03-01    1\n",
       "2012-06-01    1\n",
       "2012-09-01    1\n",
       "2012-12-01    1\n",
       "2013-03-01    1\n",
       "2013-06-01    1\n",
       "2013-09-01    1\n",
       "2013-12-01    1\n",
       "2014-03-01    1\n",
       "2014-06-01    1\n",
       "2014-09-01    1\n",
       "2014-12-01    1\n",
       "2015-03-01    1\n",
       "2015-06-01    1\n",
       "2015-09-01    1\n",
       "2015-12-01    1\n",
       "2016-03-01    1\n",
       "2016-06-01    1\n",
       "2016-09-01    1\n",
       "2016-12-01    1\n",
       "2017-03-01    1\n",
       "2017-06-01    1\n",
       "2017-09-01    1\n",
       "2017-12-01    1\n",
       "2018-03-01    1\n",
       "2018-06-01    1\n",
       "2018-09-01    1\n",
       "2018-12-01    1\n",
       "2019-03-01    1\n",
       "2019-06-01    1\n",
       "2019-09-01    1\n",
       "2019-12-01    3\n",
       "2020-03-01    2\n",
       "2020-06-01    2\n",
       "2020-09-01    2\n",
       "2020-12-01    2\n",
       "2021-03-01    2\n",
       "2021-06-01    2\n",
       "2021-09-01    2\n",
       "2021-12-01    2\n",
       "2022-03-01    2\n",
       "2022-06-01    2\n",
       "2022-09-01    2\n",
       "2022-12-01    2\n",
       "2023-03-01    2\n",
       "dtype: int64"
      ]
     },
     "execution_count": 36,
     "metadata": {},
     "output_type": "execute_result"
    }
   ],
   "source": [
    "metrics.groupby(['Date']).size()"
   ]
  },
  {
   "cell_type": "code",
   "execution_count": 33,
   "metadata": {
    "ExecuteTime": {
     "end_time": "2020-10-22T17:13:11.831316Z",
     "start_time": "2020-10-22T17:13:11.812327Z"
    }
   },
   "outputs": [
    {
     "data": {
      "text/html": [
       "<div>\n",
       "<style scoped>\n",
       "    .dataframe tbody tr th:only-of-type {\n",
       "        vertical-align: middle;\n",
       "    }\n",
       "\n",
       "    .dataframe tbody tr th {\n",
       "        vertical-align: top;\n",
       "    }\n",
       "\n",
       "    .dataframe thead th {\n",
       "        text-align: right;\n",
       "    }\n",
       "</style>\n",
       "<table border=\"1\" class=\"dataframe\">\n",
       "  <thead>\n",
       "    <tr style=\"text-align: right;\">\n",
       "      <th></th>\n",
       "      <th>Unnamed: 0</th>\n",
       "      <th>PK</th>\n",
       "      <th>Date</th>\n",
       "      <th>Balance</th>\n",
       "      <th>Days Past Due</th>\n",
       "      <th>Times Past Due 2</th>\n",
       "      <th>Times Past Due 3</th>\n",
       "      <th>Times Past Due 4</th>\n",
       "      <th>Credit Risk Code</th>\n",
       "      <th>Adversity</th>\n",
       "    </tr>\n",
       "  </thead>\n",
       "  <tbody>\n",
       "    <tr>\n",
       "      <th>0</th>\n",
       "      <td>0</td>\n",
       "      <td>2</td>\n",
       "      <td>2015-01-31</td>\n",
       "      <td>7685.03</td>\n",
       "      <td>15</td>\n",
       "      <td>10</td>\n",
       "      <td>5</td>\n",
       "      <td>1</td>\n",
       "      <td>5.0</td>\n",
       "      <td>Historical</td>\n",
       "    </tr>\n",
       "    <tr>\n",
       "      <th>1</th>\n",
       "      <td>1</td>\n",
       "      <td>3</td>\n",
       "      <td>2015-01-31</td>\n",
       "      <td>181479.00</td>\n",
       "      <td>0</td>\n",
       "      <td>0</td>\n",
       "      <td>0</td>\n",
       "      <td>0</td>\n",
       "      <td>3.0</td>\n",
       "      <td>Historical</td>\n",
       "    </tr>\n",
       "    <tr>\n",
       "      <th>2</th>\n",
       "      <td>2</td>\n",
       "      <td>4</td>\n",
       "      <td>2015-01-31</td>\n",
       "      <td>67382.89</td>\n",
       "      <td>0</td>\n",
       "      <td>0</td>\n",
       "      <td>0</td>\n",
       "      <td>0</td>\n",
       "      <td>3.0</td>\n",
       "      <td>Historical</td>\n",
       "    </tr>\n",
       "    <tr>\n",
       "      <th>3</th>\n",
       "      <td>3</td>\n",
       "      <td>5</td>\n",
       "      <td>2015-01-31</td>\n",
       "      <td>115580.00</td>\n",
       "      <td>0</td>\n",
       "      <td>0</td>\n",
       "      <td>0</td>\n",
       "      <td>0</td>\n",
       "      <td>1.0</td>\n",
       "      <td>Historical</td>\n",
       "    </tr>\n",
       "    <tr>\n",
       "      <th>4</th>\n",
       "      <td>4</td>\n",
       "      <td>6</td>\n",
       "      <td>2015-01-31</td>\n",
       "      <td>111445.00</td>\n",
       "      <td>0</td>\n",
       "      <td>0</td>\n",
       "      <td>0</td>\n",
       "      <td>0</td>\n",
       "      <td>1.0</td>\n",
       "      <td>Historical</td>\n",
       "    </tr>\n",
       "  </tbody>\n",
       "</table>\n",
       "</div>"
      ],
      "text/plain": [
       "   Unnamed: 0  PK       Date    Balance  Days Past Due  Times Past Due 2  \\\n",
       "0           0   2 2015-01-31    7685.03             15                10   \n",
       "1           1   3 2015-01-31  181479.00              0                 0   \n",
       "2           2   4 2015-01-31   67382.89              0                 0   \n",
       "3           3   5 2015-01-31  115580.00              0                 0   \n",
       "4           4   6 2015-01-31  111445.00              0                 0   \n",
       "\n",
       "   Times Past Due 3  Times Past Due 4  Credit Risk Code   Adversity  \n",
       "0                 5                 1               5.0  Historical  \n",
       "1                 0                 0               3.0  Historical  \n",
       "2                 0                 0               3.0  Historical  \n",
       "3                 0                 0               1.0  Historical  \n",
       "4                 0                 0               1.0  Historical  "
      ]
     },
     "execution_count": 33,
     "metadata": {},
     "output_type": "execute_result"
    }
   ],
   "source": [
    "df.head()"
   ]
  },
  {
   "cell_type": "code",
   "execution_count": 18,
   "metadata": {
    "ExecuteTime": {
     "end_time": "2020-10-22T17:06:13.532093Z",
     "start_time": "2020-10-22T17:06:11.497125Z"
    }
   },
   "outputs": [],
   "source": [
    "#Have to turn into strings because pandas cannot merge on datetime format\n",
    "df['Date'] = df['Date'].astype(str)\n",
    "metrics['Date'] = metrics['Date'].astype(str)\n"
   ]
  },
  {
   "cell_type": "code",
   "execution_count": 16,
   "metadata": {
    "ExecuteTime": {
     "end_time": "2020-10-19T15:41:56.187147Z",
     "start_time": "2020-10-19T15:41:56.140268Z"
    }
   },
   "outputs": [],
   "source": [
    "dff = pd.merge(df, metrics, on=['Date','Adversity'])"
   ]
  },
  {
   "cell_type": "code",
   "execution_count": 17,
   "metadata": {
    "ExecuteTime": {
     "end_time": "2020-10-19T15:42:03.812348Z",
     "start_time": "2020-10-19T15:42:03.797380Z"
    }
   },
   "outputs": [
    {
     "data": {
      "text/html": [
       "<div>\n",
       "<style scoped>\n",
       "    .dataframe tbody tr th:only-of-type {\n",
       "        vertical-align: middle;\n",
       "    }\n",
       "\n",
       "    .dataframe tbody tr th {\n",
       "        vertical-align: top;\n",
       "    }\n",
       "\n",
       "    .dataframe thead th {\n",
       "        text-align: right;\n",
       "    }\n",
       "</style>\n",
       "<table border=\"1\" class=\"dataframe\">\n",
       "  <thead>\n",
       "    <tr style=\"text-align: right;\">\n",
       "      <th></th>\n",
       "      <th>Unnamed: 0</th>\n",
       "      <th>PK</th>\n",
       "      <th>Date</th>\n",
       "      <th>Balance</th>\n",
       "      <th>Current Days Past Due</th>\n",
       "      <th>Times Past Due 30-59</th>\n",
       "      <th>Times Past Due 60-89</th>\n",
       "      <th>Times Past Due 90+</th>\n",
       "      <th>Credit Risk Code</th>\n",
       "      <th>Adversity</th>\n",
       "      <th>DATE_QTR</th>\n",
       "      <th>REAL_GDP_GROWTH</th>\n",
       "      <th>NOMINAL_GDP_GROWTH</th>\n",
       "      <th>REAL_DISPOSABLE_INCOME_GROWTH</th>\n",
       "      <th>NOMINAL_DISPOSABLE_INCOME_GROWTH</th>\n",
       "      <th>UNEMPLOYMENT_RATE</th>\n",
       "      <th>CPI_INFLATION_RATE</th>\n",
       "      <th>THREE_MONTH_TREASURY_RATE</th>\n",
       "      <th>FIVE_YEAR_TREASURY_YIELD</th>\n",
       "      <th>TEN_YEAR_TREASURY_YIELD</th>\n",
       "      <th>BBB_CORPORATE_YEILD</th>\n",
       "      <th>MORTGAGE_RATE</th>\n",
       "      <th>PRIME_RATE</th>\n",
       "      <th>DOWJONES_TOTAL_STOCK_MARKET_INDEX</th>\n",
       "      <th>HOUSE_PRICE_INDEX</th>\n",
       "      <th>COMERCIAL_REAL_ESTATE_PRICE_INDEX</th>\n",
       "      <th>MARKET_VOLATILITY_INDEX</th>\n",
       "      <th>EURO_AREA_REAL_GDP_GROWTH</th>\n",
       "      <th>EURO_AREA_INFLATION</th>\n",
       "      <th>EURO_AREA_BILATERAL_DOLLAR_EXCHANGE_RATE</th>\n",
       "      <th>DEVELOPING_ASIA_REAL_GDP_GROWTH</th>\n",
       "      <th>DEVELOPING_ASIA_INFLATION</th>\n",
       "      <th>DEV_ASIA_BILATERAL_DOLLAR_EXCHANGE_RATE</th>\n",
       "      <th>JAPAN_REAL_GDP_GROWTH</th>\n",
       "      <th>JAPAN_INFLATION</th>\n",
       "      <th>JAPAN_BILATERAL_DOLLAR_EXCHANGE_RATE</th>\n",
       "      <th>UK_REAL_GDP_GROWTH</th>\n",
       "      <th>UK_INFLATION</th>\n",
       "      <th>UK_BILATERAL_DOLLAR_EXCHANGE_RATE</th>\n",
       "    </tr>\n",
       "  </thead>\n",
       "  <tbody>\n",
       "  </tbody>\n",
       "</table>\n",
       "</div>"
      ],
      "text/plain": [
       "Empty DataFrame\n",
       "Columns: [Unnamed: 0, PK, Date, Balance,  Current Days Past Due, Times Past Due 30-59, Times Past Due 60-89, Times Past Due 90+, Credit Risk Code, Adversity, DATE_QTR, REAL_GDP_GROWTH, NOMINAL_GDP_GROWTH, REAL_DISPOSABLE_INCOME_GROWTH, NOMINAL_DISPOSABLE_INCOME_GROWTH, UNEMPLOYMENT_RATE, CPI_INFLATION_RATE, THREE_MONTH_TREASURY_RATE, FIVE_YEAR_TREASURY_YIELD, TEN_YEAR_TREASURY_YIELD, BBB_CORPORATE_YEILD, MORTGAGE_RATE, PRIME_RATE, DOWJONES_TOTAL_STOCK_MARKET_INDEX, HOUSE_PRICE_INDEX, COMERCIAL_REAL_ESTATE_PRICE_INDEX, MARKET_VOLATILITY_INDEX, EURO_AREA_REAL_GDP_GROWTH, EURO_AREA_INFLATION, EURO_AREA_BILATERAL_DOLLAR_EXCHANGE_RATE, DEVELOPING_ASIA_REAL_GDP_GROWTH, DEVELOPING_ASIA_INFLATION, DEV_ASIA_BILATERAL_DOLLAR_EXCHANGE_RATE, JAPAN_REAL_GDP_GROWTH, JAPAN_INFLATION, JAPAN_BILATERAL_DOLLAR_EXCHANGE_RATE, UK_REAL_GDP_GROWTH, UK_INFLATION, UK_BILATERAL_DOLLAR_EXCHANGE_RATE]\n",
       "Index: []"
      ]
     },
     "execution_count": 17,
     "metadata": {},
     "output_type": "execute_result"
    }
   ],
   "source": [
    "dff"
   ]
  },
  {
   "cell_type": "code",
   "execution_count": null,
   "metadata": {},
   "outputs": [],
   "source": []
  },
  {
   "cell_type": "code",
   "execution_count": null,
   "metadata": {
    "ExecuteTime": {
     "end_time": "2020-10-19T14:15:38.718399Z",
     "start_time": "2020-10-19T14:14:39.666Z"
    }
   },
   "outputs": [],
   "source": [
    "metrics.head()"
   ]
  },
  {
   "cell_type": "markdown",
   "metadata": {},
   "source": [
    "## Title"
   ]
  },
  {
   "cell_type": "markdown",
   "metadata": {},
   "source": [
    "### sub"
   ]
  },
  {
   "cell_type": "code",
   "execution_count": null,
   "metadata": {},
   "outputs": [],
   "source": []
  }
 ],
 "metadata": {
  "hide_input": false,
  "kernelspec": {
   "display_name": "Python 3",
   "language": "python",
   "name": "python3"
  },
  "language_info": {
   "codemirror_mode": {
    "name": "ipython",
    "version": 3
   },
   "file_extension": ".py",
   "mimetype": "text/x-python",
   "name": "python",
   "nbconvert_exporter": "python",
   "pygments_lexer": "ipython3",
   "version": "3.7.3"
  },
  "toc": {
   "base_numbering": 1,
   "nav_menu": {},
   "number_sections": true,
   "sideBar": true,
   "skip_h1_title": false,
   "title_cell": "Table of Contents",
   "title_sidebar": "Contents",
   "toc_cell": false,
   "toc_position": {},
   "toc_section_display": true,
   "toc_window_display": false
  },
  "varInspector": {
   "cols": {
    "lenName": 16,
    "lenType": 16,
    "lenVar": 40
   },
   "kernels_config": {
    "python": {
     "delete_cmd_postfix": "",
     "delete_cmd_prefix": "del ",
     "library": "var_list.py",
     "varRefreshCmd": "print(var_dic_list())"
    },
    "r": {
     "delete_cmd_postfix": ") ",
     "delete_cmd_prefix": "rm(",
     "library": "var_list.r",
     "varRefreshCmd": "cat(var_dic_list()) "
    }
   },
   "types_to_exclude": [
    "module",
    "function",
    "builtin_function_or_method",
    "instance",
    "_Feature"
   ],
   "window_display": false
  }
 },
 "nbformat": 4,
 "nbformat_minor": 4
}
