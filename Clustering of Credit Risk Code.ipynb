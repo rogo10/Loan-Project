{
 "cells": [
  {
   "cell_type": "code",
   "execution_count": 1,
   "metadata": {
    "ExecuteTime": {
     "end_time": "2020-11-23T17:19:11.816965Z",
     "start_time": "2020-11-23T17:19:09.163706Z"
    }
   },
   "outputs": [],
   "source": [
    "import pandas as pd\n",
    "import numpy as np\n",
    "from helpers import tts_scale\n",
    "import matplotlib.pyplot as plt\n",
    "import seaborn as sns\n",
    "from sklearn.model_selection import train_test_split\n",
    "from sklearn.cluster import KMeans\n",
    "from sklearn.metrics import accuracy_score, classification_report\n",
    "from sklearn.preprocessing import StandardScaler"
   ]
  },
  {
   "cell_type": "code",
   "execution_count": 3,
   "metadata": {
    "ExecuteTime": {
     "end_time": "2020-11-23T17:19:51.919146Z",
     "start_time": "2020-11-23T17:19:51.883242Z"
    }
   },
   "outputs": [
    {
     "data": {
      "text/html": [
       "<div>\n",
       "<style scoped>\n",
       "    .dataframe tbody tr th:only-of-type {\n",
       "        vertical-align: middle;\n",
       "    }\n",
       "\n",
       "    .dataframe tbody tr th {\n",
       "        vertical-align: top;\n",
       "    }\n",
       "\n",
       "    .dataframe thead th {\n",
       "        text-align: right;\n",
       "    }\n",
       "</style>\n",
       "<table border=\"1\" class=\"dataframe\">\n",
       "  <thead>\n",
       "    <tr style=\"text-align: right;\">\n",
       "      <th></th>\n",
       "      <th>PK</th>\n",
       "      <th>Date</th>\n",
       "      <th>Qdate</th>\n",
       "      <th>Balance</th>\n",
       "      <th>Days Past Due</th>\n",
       "      <th>Past_Due30_59</th>\n",
       "      <th>Past_Due60_89</th>\n",
       "      <th>Past_Due90+</th>\n",
       "      <th>Credit Risk Code</th>\n",
       "      <th>Adversity</th>\n",
       "      <th>...</th>\n",
       "      <th>DEVELOPING_ASIA_REAL_GDP_GROWTH</th>\n",
       "      <th>DEVELOPING_ASIA_INFLATION</th>\n",
       "      <th>DEV_ASIA_BILATERAL_DOLLAR_EXCHANGE_RATE</th>\n",
       "      <th>JAPAN_REAL_GDP_GROWTH</th>\n",
       "      <th>JAPAN_INFLATION</th>\n",
       "      <th>JAPAN_BILATERAL_DOLLAR_EXCHANGE_RATE</th>\n",
       "      <th>UK_REAL_GDP_GROWTH</th>\n",
       "      <th>UK_INFLATION</th>\n",
       "      <th>UK_BILATERAL_DOLLAR_EXCHANGE_RATE</th>\n",
       "      <th>Default</th>\n",
       "    </tr>\n",
       "  </thead>\n",
       "  <tbody>\n",
       "    <tr>\n",
       "      <th>237185</th>\n",
       "      <td>4598</td>\n",
       "      <td>2017-08-31</td>\n",
       "      <td>Q3 2017</td>\n",
       "      <td>29574.34</td>\n",
       "      <td>0</td>\n",
       "      <td>0</td>\n",
       "      <td>0</td>\n",
       "      <td>0</td>\n",
       "      <td>NaN</td>\n",
       "      <td>Historical</td>\n",
       "      <td>...</td>\n",
       "      <td>7.1</td>\n",
       "      <td>2.2</td>\n",
       "      <td>93.7</td>\n",
       "      <td>2.7</td>\n",
       "      <td>0.5</td>\n",
       "      <td>112.6</td>\n",
       "      <td>1.4</td>\n",
       "      <td>2.3</td>\n",
       "      <td>1.340</td>\n",
       "      <td>0.0</td>\n",
       "    </tr>\n",
       "    <tr>\n",
       "      <th>240133</th>\n",
       "      <td>4598</td>\n",
       "      <td>2017-09-30</td>\n",
       "      <td>Q3 2017</td>\n",
       "      <td>29115.63</td>\n",
       "      <td>0</td>\n",
       "      <td>0</td>\n",
       "      <td>0</td>\n",
       "      <td>0</td>\n",
       "      <td>NaN</td>\n",
       "      <td>Historical</td>\n",
       "      <td>...</td>\n",
       "      <td>7.1</td>\n",
       "      <td>2.2</td>\n",
       "      <td>93.7</td>\n",
       "      <td>2.7</td>\n",
       "      <td>0.5</td>\n",
       "      <td>112.6</td>\n",
       "      <td>1.4</td>\n",
       "      <td>2.3</td>\n",
       "      <td>1.340</td>\n",
       "      <td>0.0</td>\n",
       "    </tr>\n",
       "    <tr>\n",
       "      <th>276814</th>\n",
       "      <td>4598</td>\n",
       "      <td>2017-10-31</td>\n",
       "      <td>Q4 2017</td>\n",
       "      <td>28414.96</td>\n",
       "      <td>0</td>\n",
       "      <td>0</td>\n",
       "      <td>0</td>\n",
       "      <td>0</td>\n",
       "      <td>NaN</td>\n",
       "      <td>Historical</td>\n",
       "      <td>...</td>\n",
       "      <td>6.0</td>\n",
       "      <td>2.9</td>\n",
       "      <td>91.1</td>\n",
       "      <td>1.2</td>\n",
       "      <td>1.5</td>\n",
       "      <td>112.7</td>\n",
       "      <td>1.6</td>\n",
       "      <td>2.9</td>\n",
       "      <td>1.353</td>\n",
       "      <td>0.0</td>\n",
       "    </tr>\n",
       "    <tr>\n",
       "      <th>277205</th>\n",
       "      <td>6554</td>\n",
       "      <td>2017-10-31</td>\n",
       "      <td>Q4 2017</td>\n",
       "      <td>238540.42</td>\n",
       "      <td>0</td>\n",
       "      <td>0</td>\n",
       "      <td>0</td>\n",
       "      <td>0</td>\n",
       "      <td>NaN</td>\n",
       "      <td>Historical</td>\n",
       "      <td>...</td>\n",
       "      <td>6.0</td>\n",
       "      <td>2.9</td>\n",
       "      <td>91.1</td>\n",
       "      <td>1.2</td>\n",
       "      <td>1.5</td>\n",
       "      <td>112.7</td>\n",
       "      <td>1.6</td>\n",
       "      <td>2.9</td>\n",
       "      <td>1.353</td>\n",
       "      <td>0.0</td>\n",
       "    </tr>\n",
       "  </tbody>\n",
       "</table>\n",
       "<p>4 rows × 40 columns</p>\n",
       "</div>"
      ],
      "text/plain": [
       "          PK        Date    Qdate    Balance  Days Past Due  Past_Due30_59  \\\n",
       "237185  4598  2017-08-31  Q3 2017   29574.34              0              0   \n",
       "240133  4598  2017-09-30  Q3 2017   29115.63              0              0   \n",
       "276814  4598  2017-10-31  Q4 2017   28414.96              0              0   \n",
       "277205  6554  2017-10-31  Q4 2017  238540.42              0              0   \n",
       "\n",
       "        Past_Due60_89  Past_Due90+  Credit Risk Code   Adversity  ...  \\\n",
       "237185              0            0               NaN  Historical  ...   \n",
       "240133              0            0               NaN  Historical  ...   \n",
       "276814              0            0               NaN  Historical  ...   \n",
       "277205              0            0               NaN  Historical  ...   \n",
       "\n",
       "       DEVELOPING_ASIA_REAL_GDP_GROWTH  DEVELOPING_ASIA_INFLATION  \\\n",
       "237185                             7.1                        2.2   \n",
       "240133                             7.1                        2.2   \n",
       "276814                             6.0                        2.9   \n",
       "277205                             6.0                        2.9   \n",
       "\n",
       "        DEV_ASIA_BILATERAL_DOLLAR_EXCHANGE_RATE  JAPAN_REAL_GDP_GROWTH  \\\n",
       "237185                                     93.7                    2.7   \n",
       "240133                                     93.7                    2.7   \n",
       "276814                                     91.1                    1.2   \n",
       "277205                                     91.1                    1.2   \n",
       "\n",
       "        JAPAN_INFLATION  JAPAN_BILATERAL_DOLLAR_EXCHANGE_RATE  \\\n",
       "237185              0.5                                 112.6   \n",
       "240133              0.5                                 112.6   \n",
       "276814              1.5                                 112.7   \n",
       "277205              1.5                                 112.7   \n",
       "\n",
       "        UK_REAL_GDP_GROWTH  UK_INFLATION  UK_BILATERAL_DOLLAR_EXCHANGE_RATE  \\\n",
       "237185                 1.4           2.3                              1.340   \n",
       "240133                 1.4           2.3                              1.340   \n",
       "276814                 1.6           2.9                              1.353   \n",
       "277205                 1.6           2.9                              1.353   \n",
       "\n",
       "        Default  \n",
       "237185      0.0  \n",
       "240133      0.0  \n",
       "276814      0.0  \n",
       "277205      0.0  \n",
       "\n",
       "[4 rows x 40 columns]"
      ]
     },
     "execution_count": 3,
     "metadata": {},
     "output_type": "execute_result"
    }
   ],
   "source": [
    "df[df['Credit Risk Code'].isna()]"
   ]
  },
  {
   "cell_type": "code",
   "execution_count": 4,
   "metadata": {
    "ExecuteTime": {
     "end_time": "2020-11-23T17:20:33.439171Z",
     "start_time": "2020-11-23T17:20:31.634070Z"
    },
    "scrolled": true
   },
   "outputs": [
    {
     "data": {
      "text/html": [
       "<div>\n",
       "<style scoped>\n",
       "    .dataframe tbody tr th:only-of-type {\n",
       "        vertical-align: middle;\n",
       "    }\n",
       "\n",
       "    .dataframe tbody tr th {\n",
       "        vertical-align: top;\n",
       "    }\n",
       "\n",
       "    .dataframe thead th {\n",
       "        text-align: right;\n",
       "    }\n",
       "</style>\n",
       "<table border=\"1\" class=\"dataframe\">\n",
       "  <thead>\n",
       "    <tr style=\"text-align: right;\">\n",
       "      <th></th>\n",
       "      <th>PK</th>\n",
       "      <th>Date</th>\n",
       "      <th>Qdate</th>\n",
       "      <th>Balance</th>\n",
       "      <th>Days Past Due</th>\n",
       "      <th>Past_Due30_59</th>\n",
       "      <th>Past_Due60_89</th>\n",
       "      <th>Past_Due90+</th>\n",
       "      <th>Credit Risk Code</th>\n",
       "      <th>Adversity</th>\n",
       "      <th>...</th>\n",
       "      <th>DEVELOPING_ASIA_REAL_GDP_GROWTH</th>\n",
       "      <th>DEVELOPING_ASIA_INFLATION</th>\n",
       "      <th>DEV_ASIA_BILATERAL_DOLLAR_EXCHANGE_RATE</th>\n",
       "      <th>JAPAN_REAL_GDP_GROWTH</th>\n",
       "      <th>JAPAN_INFLATION</th>\n",
       "      <th>JAPAN_BILATERAL_DOLLAR_EXCHANGE_RATE</th>\n",
       "      <th>UK_REAL_GDP_GROWTH</th>\n",
       "      <th>UK_INFLATION</th>\n",
       "      <th>UK_BILATERAL_DOLLAR_EXCHANGE_RATE</th>\n",
       "      <th>Default</th>\n",
       "    </tr>\n",
       "  </thead>\n",
       "  <tbody>\n",
       "    <tr>\n",
       "      <th>0</th>\n",
       "      <td>0</td>\n",
       "      <td>2015-01-31</td>\n",
       "      <td>Q1 2015</td>\n",
       "      <td>7685.03</td>\n",
       "      <td>15</td>\n",
       "      <td>10</td>\n",
       "      <td>5</td>\n",
       "      <td>1</td>\n",
       "      <td>5</td>\n",
       "      <td>Historical</td>\n",
       "      <td>...</td>\n",
       "      <td>5.7</td>\n",
       "      <td>0.9</td>\n",
       "      <td>88.1</td>\n",
       "      <td>5.5</td>\n",
       "      <td>0.5</td>\n",
       "      <td>120.0</td>\n",
       "      <td>2.1</td>\n",
       "      <td>-1.1</td>\n",
       "      <td>1.485</td>\n",
       "      <td>1.0</td>\n",
       "    </tr>\n",
       "    <tr>\n",
       "      <th>1</th>\n",
       "      <td>1</td>\n",
       "      <td>2015-01-31</td>\n",
       "      <td>Q1 2015</td>\n",
       "      <td>181479.00</td>\n",
       "      <td>0</td>\n",
       "      <td>0</td>\n",
       "      <td>0</td>\n",
       "      <td>0</td>\n",
       "      <td>3</td>\n",
       "      <td>Historical</td>\n",
       "      <td>...</td>\n",
       "      <td>5.7</td>\n",
       "      <td>0.9</td>\n",
       "      <td>88.1</td>\n",
       "      <td>5.5</td>\n",
       "      <td>0.5</td>\n",
       "      <td>120.0</td>\n",
       "      <td>2.1</td>\n",
       "      <td>-1.1</td>\n",
       "      <td>1.485</td>\n",
       "      <td>0.0</td>\n",
       "    </tr>\n",
       "    <tr>\n",
       "      <th>2</th>\n",
       "      <td>2</td>\n",
       "      <td>2015-01-31</td>\n",
       "      <td>Q1 2015</td>\n",
       "      <td>67382.89</td>\n",
       "      <td>0</td>\n",
       "      <td>0</td>\n",
       "      <td>0</td>\n",
       "      <td>0</td>\n",
       "      <td>3</td>\n",
       "      <td>Historical</td>\n",
       "      <td>...</td>\n",
       "      <td>5.7</td>\n",
       "      <td>0.9</td>\n",
       "      <td>88.1</td>\n",
       "      <td>5.5</td>\n",
       "      <td>0.5</td>\n",
       "      <td>120.0</td>\n",
       "      <td>2.1</td>\n",
       "      <td>-1.1</td>\n",
       "      <td>1.485</td>\n",
       "      <td>0.0</td>\n",
       "    </tr>\n",
       "    <tr>\n",
       "      <th>3</th>\n",
       "      <td>3</td>\n",
       "      <td>2015-01-31</td>\n",
       "      <td>Q1 2015</td>\n",
       "      <td>115580.00</td>\n",
       "      <td>0</td>\n",
       "      <td>0</td>\n",
       "      <td>0</td>\n",
       "      <td>0</td>\n",
       "      <td>1</td>\n",
       "      <td>Historical</td>\n",
       "      <td>...</td>\n",
       "      <td>5.7</td>\n",
       "      <td>0.9</td>\n",
       "      <td>88.1</td>\n",
       "      <td>5.5</td>\n",
       "      <td>0.5</td>\n",
       "      <td>120.0</td>\n",
       "      <td>2.1</td>\n",
       "      <td>-1.1</td>\n",
       "      <td>1.485</td>\n",
       "      <td>0.0</td>\n",
       "    </tr>\n",
       "    <tr>\n",
       "      <th>4</th>\n",
       "      <td>4</td>\n",
       "      <td>2015-01-31</td>\n",
       "      <td>Q1 2015</td>\n",
       "      <td>111445.00</td>\n",
       "      <td>0</td>\n",
       "      <td>0</td>\n",
       "      <td>0</td>\n",
       "      <td>0</td>\n",
       "      <td>1</td>\n",
       "      <td>Historical</td>\n",
       "      <td>...</td>\n",
       "      <td>5.7</td>\n",
       "      <td>0.9</td>\n",
       "      <td>88.1</td>\n",
       "      <td>5.5</td>\n",
       "      <td>0.5</td>\n",
       "      <td>120.0</td>\n",
       "      <td>2.1</td>\n",
       "      <td>-1.1</td>\n",
       "      <td>1.485</td>\n",
       "      <td>0.0</td>\n",
       "    </tr>\n",
       "  </tbody>\n",
       "</table>\n",
       "<p>5 rows × 40 columns</p>\n",
       "</div>"
      ],
      "text/plain": [
       "   PK        Date    Qdate    Balance  Days Past Due  Past_Due30_59  \\\n",
       "0   0  2015-01-31  Q1 2015    7685.03             15             10   \n",
       "1   1  2015-01-31  Q1 2015  181479.00              0              0   \n",
       "2   2  2015-01-31  Q1 2015   67382.89              0              0   \n",
       "3   3  2015-01-31  Q1 2015  115580.00              0              0   \n",
       "4   4  2015-01-31  Q1 2015  111445.00              0              0   \n",
       "\n",
       "   Past_Due60_89  Past_Due90+ Credit Risk Code   Adversity  ...  \\\n",
       "0              5            1                5  Historical  ...   \n",
       "1              0            0                3  Historical  ...   \n",
       "2              0            0                3  Historical  ...   \n",
       "3              0            0                1  Historical  ...   \n",
       "4              0            0                1  Historical  ...   \n",
       "\n",
       "  DEVELOPING_ASIA_REAL_GDP_GROWTH  DEVELOPING_ASIA_INFLATION  \\\n",
       "0                             5.7                        0.9   \n",
       "1                             5.7                        0.9   \n",
       "2                             5.7                        0.9   \n",
       "3                             5.7                        0.9   \n",
       "4                             5.7                        0.9   \n",
       "\n",
       "   DEV_ASIA_BILATERAL_DOLLAR_EXCHANGE_RATE  JAPAN_REAL_GDP_GROWTH  \\\n",
       "0                                     88.1                    5.5   \n",
       "1                                     88.1                    5.5   \n",
       "2                                     88.1                    5.5   \n",
       "3                                     88.1                    5.5   \n",
       "4                                     88.1                    5.5   \n",
       "\n",
       "   JAPAN_INFLATION  JAPAN_BILATERAL_DOLLAR_EXCHANGE_RATE  UK_REAL_GDP_GROWTH  \\\n",
       "0              0.5                                 120.0                 2.1   \n",
       "1              0.5                                 120.0                 2.1   \n",
       "2              0.5                                 120.0                 2.1   \n",
       "3              0.5                                 120.0                 2.1   \n",
       "4              0.5                                 120.0                 2.1   \n",
       "\n",
       "   UK_INFLATION  UK_BILATERAL_DOLLAR_EXCHANGE_RATE  Default  \n",
       "0          -1.1                              1.485      1.0  \n",
       "1          -1.1                              1.485      0.0  \n",
       "2          -1.1                              1.485      0.0  \n",
       "3          -1.1                              1.485      0.0  \n",
       "4          -1.1                              1.485      0.0  \n",
       "\n",
       "[5 rows x 40 columns]"
      ]
     },
     "execution_count": 4,
     "metadata": {},
     "output_type": "execute_result"
    }
   ],
   "source": [
    "df = pd.read_csv(r'../data/final.csv', index_col=0)\n",
    "df = df.dropna()\n",
    "df['Credit Risk Code'] = df['Credit Risk Code'].astype(int).astype(str)\n",
    "df.head()"
   ]
  },
  {
   "cell_type": "markdown",
   "metadata": {},
   "source": [
    "# Create 3 groups of Credit Risk Code\n",
    "## Reliable ==> 1,2,3\n",
    "## Semi-Reliable ==> 4,5,6,7\n",
    "## Unreliable ==> 8,9,10"
   ]
  },
  {
   "cell_type": "code",
   "execution_count": 6,
   "metadata": {
    "ExecuteTime": {
     "end_time": "2020-11-23T17:21:06.177074Z",
     "start_time": "2020-11-23T17:21:05.899817Z"
    }
   },
   "outputs": [],
   "source": [
    "df.loc[df['Credit Risk Code'].isin(['1','2','3']),'Credit Bagged'] = '0'\n",
    "df.loc[df['Credit Risk Code'].isin(['4','5','6','7']),'Credit Bagged'] = '1'\n",
    "df.loc[df['Credit Risk Code'].isin(['8','9','10']),'Credit Bagged'] = '2'"
   ]
  },
  {
   "cell_type": "code",
   "execution_count": 24,
   "metadata": {
    "ExecuteTime": {
     "end_time": "2020-11-23T17:26:52.029328Z",
     "start_time": "2020-11-23T17:26:51.977533Z"
    }
   },
   "outputs": [
    {
     "name": "stderr",
     "output_type": "stream",
     "text": [
      "C:\\ProgramData\\Anaconda3\\lib\\site-packages\\ipykernel_launcher.py:1: FutureWarning: using a dict on a Series for aggregation\n",
      "is deprecated and will be removed in a future version\n",
      "  \"\"\"Entry point for launching an IPython kernel.\n"
     ]
    },
    {
     "data": {
      "text/html": [
       "<div>\n",
       "<style scoped>\n",
       "    .dataframe tbody tr th:only-of-type {\n",
       "        vertical-align: middle;\n",
       "    }\n",
       "\n",
       "    .dataframe tbody tr th {\n",
       "        vertical-align: top;\n",
       "    }\n",
       "\n",
       "    .dataframe thead th {\n",
       "        text-align: right;\n",
       "    }\n",
       "</style>\n",
       "<table border=\"1\" class=\"dataframe\">\n",
       "  <thead>\n",
       "    <tr style=\"text-align: right;\">\n",
       "      <th></th>\n",
       "      <th>Credit Bagged</th>\n",
       "    </tr>\n",
       "    <tr>\n",
       "      <th>Credit Bagged</th>\n",
       "      <th></th>\n",
       "    </tr>\n",
       "  </thead>\n",
       "  <tbody>\n",
       "    <tr>\n",
       "      <th>0</th>\n",
       "      <td>178614</td>\n",
       "    </tr>\n",
       "    <tr>\n",
       "      <th>1</th>\n",
       "      <td>114701</td>\n",
       "    </tr>\n",
       "    <tr>\n",
       "      <th>2</th>\n",
       "      <td>2659</td>\n",
       "    </tr>\n",
       "  </tbody>\n",
       "</table>\n",
       "</div>"
      ],
      "text/plain": [
       "               Credit Bagged\n",
       "Credit Bagged               \n",
       "0                     178614\n",
       "1                     114701\n",
       "2                       2659"
      ]
     },
     "execution_count": 24,
     "metadata": {},
     "output_type": "execute_result"
    }
   ],
   "source": [
    "df.groupby(['Credit Bagged'])['Credit Bagged'].agg({'Credit Bagged':'count'})"
   ]
  },
  {
   "cell_type": "code",
   "execution_count": 23,
   "metadata": {
    "ExecuteTime": {
     "end_time": "2020-11-23T17:26:28.043895Z",
     "start_time": "2020-11-23T17:26:27.974628Z"
    },
    "scrolled": true
   },
   "outputs": [
    {
     "data": {
      "text/html": [
       "<div>\n",
       "<style scoped>\n",
       "    .dataframe tbody tr th:only-of-type {\n",
       "        vertical-align: middle;\n",
       "    }\n",
       "\n",
       "    .dataframe tbody tr th {\n",
       "        vertical-align: top;\n",
       "    }\n",
       "\n",
       "    .dataframe thead th {\n",
       "        text-align: right;\n",
       "    }\n",
       "</style>\n",
       "<table border=\"1\" class=\"dataframe\">\n",
       "  <thead>\n",
       "    <tr style=\"text-align: right;\">\n",
       "      <th></th>\n",
       "      <th></th>\n",
       "      <th>Credit Risk Code</th>\n",
       "    </tr>\n",
       "    <tr>\n",
       "      <th>Credit Bagged</th>\n",
       "      <th>Credit Risk Code</th>\n",
       "      <th></th>\n",
       "    </tr>\n",
       "  </thead>\n",
       "  <tbody>\n",
       "    <tr>\n",
       "      <th rowspan=\"3\" valign=\"top\">0</th>\n",
       "      <th>1</th>\n",
       "      <td>9791</td>\n",
       "    </tr>\n",
       "    <tr>\n",
       "      <th>2</th>\n",
       "      <td>510</td>\n",
       "    </tr>\n",
       "    <tr>\n",
       "      <th>3</th>\n",
       "      <td>168313</td>\n",
       "    </tr>\n",
       "    <tr>\n",
       "      <th rowspan=\"4\" valign=\"top\">1</th>\n",
       "      <th>4</th>\n",
       "      <td>84239</td>\n",
       "    </tr>\n",
       "    <tr>\n",
       "      <th>5</th>\n",
       "      <td>13536</td>\n",
       "    </tr>\n",
       "    <tr>\n",
       "      <th>6</th>\n",
       "      <td>1413</td>\n",
       "    </tr>\n",
       "    <tr>\n",
       "      <th>7</th>\n",
       "      <td>15513</td>\n",
       "    </tr>\n",
       "    <tr>\n",
       "      <th rowspan=\"3\" valign=\"top\">2</th>\n",
       "      <th>10</th>\n",
       "      <td>443</td>\n",
       "    </tr>\n",
       "    <tr>\n",
       "      <th>8</th>\n",
       "      <td>1954</td>\n",
       "    </tr>\n",
       "    <tr>\n",
       "      <th>9</th>\n",
       "      <td>262</td>\n",
       "    </tr>\n",
       "  </tbody>\n",
       "</table>\n",
       "</div>"
      ],
      "text/plain": [
       "                                Credit Risk Code\n",
       "Credit Bagged Credit Risk Code                  \n",
       "0             1                             9791\n",
       "              2                              510\n",
       "              3                           168313\n",
       "1             4                            84239\n",
       "              5                            13536\n",
       "              6                             1413\n",
       "              7                            15513\n",
       "2             10                             443\n",
       "              8                             1954\n",
       "              9                              262"
      ]
     },
     "execution_count": 23,
     "metadata": {},
     "output_type": "execute_result"
    }
   ],
   "source": [
    "df.groupby(['Credit Bagged', 'Credit Risk Code']).agg({'Credit Risk Code':'count'})"
   ]
  },
  {
   "cell_type": "code",
   "execution_count": 8,
   "metadata": {
    "ExecuteTime": {
     "end_time": "2020-11-23T17:21:17.701900Z",
     "start_time": "2020-11-23T17:21:17.695895Z"
    }
   },
   "outputs": [
    {
     "data": {
      "text/plain": [
       "Index(['PK', 'Date', 'Qdate', 'Balance', 'Days Past Due', 'Past_Due30_59',\n",
       "       'Past_Due60_89', 'Past_Due90+', 'Credit Risk Code', 'Adversity',\n",
       "       'QTR_CLOSE', 'REAL_GDP_GROWTH', 'NOMINAL_GDP_GROWTH',\n",
       "       'REAL_DISPOSABLE_INCOME_GROWTH', 'NOMINAL_DISPOSABLE_INCOME_GROWTH',\n",
       "       'UNEMPLOYMENT_RATE', 'CPI_INFLATION_RATE', 'THREE_MONTH_TREASURY_RATE',\n",
       "       'FIVE_YEAR_TREASURY_YIELD', 'TEN_YEAR_TREASURY_YIELD',\n",
       "       'BBB_CORPORATE_YEILD', 'MORTGAGE_RATE', 'PRIME_RATE',\n",
       "       'DOWJONES_TOTAL_STOCK_MARKET_INDEX', 'HOUSE_PRICE_INDEX',\n",
       "       'COMERCIAL_REAL_ESTATE_PRICE_INDEX', 'MARKET_VOLATILITY_INDEX',\n",
       "       'EURO_AREA_REAL_GDP_GROWTH', 'EURO_AREA_INFLATION',\n",
       "       'EURO_AREA_BILATERAL_DOLLAR_EXCHANGE_RATE',\n",
       "       'DEVELOPING_ASIA_REAL_GDP_GROWTH', 'DEVELOPING_ASIA_INFLATION',\n",
       "       'DEV_ASIA_BILATERAL_DOLLAR_EXCHANGE_RATE', 'JAPAN_REAL_GDP_GROWTH',\n",
       "       'JAPAN_INFLATION', 'JAPAN_BILATERAL_DOLLAR_EXCHANGE_RATE',\n",
       "       'UK_REAL_GDP_GROWTH', 'UK_INFLATION',\n",
       "       'UK_BILATERAL_DOLLAR_EXCHANGE_RATE', 'Default', 'Credit Bagged'],\n",
       "      dtype='object')"
      ]
     },
     "execution_count": 8,
     "metadata": {},
     "output_type": "execute_result"
    }
   ],
   "source": [
    "df.columns"
   ]
  },
  {
   "cell_type": "code",
   "execution_count": 10,
   "metadata": {
    "ExecuteTime": {
     "end_time": "2020-11-23T17:21:31.171551Z",
     "start_time": "2020-11-23T17:21:31.115677Z"
    }
   },
   "outputs": [],
   "source": [
    "#X = df[['Days Past Due', 'Balance', 'Past_Due30_59', 'Past_Due60_89', 'Past_Due90+', 'Credit Bagged']]\n",
    "X = df.drop(columns=['PK', 'Date', 'Qdate','Credit Risk Code','Adversity','QTR_CLOSE','Default'])"
   ]
  },
  {
   "cell_type": "code",
   "execution_count": 11,
   "metadata": {
    "ExecuteTime": {
     "end_time": "2020-11-23T17:21:33.659262Z",
     "start_time": "2020-11-23T17:21:33.652283Z"
    }
   },
   "outputs": [
    {
     "data": {
      "text/plain": [
       "295974"
      ]
     },
     "execution_count": 11,
     "metadata": {},
     "output_type": "execute_result"
    }
   ],
   "source": [
    "len(X)"
   ]
  },
  {
   "cell_type": "code",
   "execution_count": 12,
   "metadata": {
    "ExecuteTime": {
     "end_time": "2020-11-23T17:21:38.697940Z",
     "start_time": "2020-11-23T17:21:38.164337Z"
    }
   },
   "outputs": [
    {
     "name": "stderr",
     "output_type": "stream",
     "text": [
      "C:\\Users\\smr6743\\AppData\\Roaming\\Python\\Python37\\site-packages\\sklearn\\preprocessing\\data.py:645: DataConversionWarning: Data with input dtype int64, float64 were all converted to float64 by StandardScaler.\n",
      "  return self.partial_fit(X, y)\n",
      "C:\\Users\\smr6743\\AppData\\Roaming\\Python\\Python37\\site-packages\\sklearn\\base.py:464: DataConversionWarning: Data with input dtype int64, float64 were all converted to float64 by StandardScaler.\n",
      "  return self.fit(X, **fit_params).transform(X)\n",
      "C:\\ProgramData\\Anaconda3\\lib\\site-packages\\ipykernel_launcher.py:6: DataConversionWarning: Data with input dtype int64, float64 were all converted to float64 by StandardScaler.\n",
      "  \n"
     ]
    }
   ],
   "source": [
    "x_train, x_test = train_test_split(X, random_state=42, test_size = 0.3)\n",
    "train_bag = x_train['Credit Bagged']\n",
    "test_bag = x_test['Credit Bagged']\n",
    "scaler = StandardScaler()\n",
    "x_train = scaler.fit_transform(x_train.drop(columns=['Credit Bagged']))\n",
    "x_test = scaler.transform(x_test.drop(columns=['Credit Bagged']))"
   ]
  },
  {
   "cell_type": "code",
   "execution_count": 13,
   "metadata": {
    "ExecuteTime": {
     "end_time": "2020-11-23T17:21:44.646441Z",
     "start_time": "2020-11-23T17:21:41.099859Z"
    }
   },
   "outputs": [],
   "source": [
    "clf = KMeans(n_clusters=3, \n",
    "             random_state=42).fit(x_train)"
   ]
  },
  {
   "cell_type": "code",
   "execution_count": 14,
   "metadata": {
    "ExecuteTime": {
     "end_time": "2020-11-23T17:21:47.291391Z",
     "start_time": "2020-11-23T17:21:47.079799Z"
    }
   },
   "outputs": [],
   "source": [
    "bindict = {'0':'Reliable', '1':'Semi-Reliable','2':'Unreliable'}\n",
    "rownames = []\n",
    "for val in train_bag.values:\n",
    "    rownames.append(bindict[val])\n",
    "    \n",
    "colnames = []\n",
    "for val in clf.labels_:\n",
    "    colnames.append(bindict[str(val)])"
   ]
  },
  {
   "cell_type": "code",
   "execution_count": 16,
   "metadata": {
    "ExecuteTime": {
     "end_time": "2020-11-23T17:21:57.515197Z",
     "start_time": "2020-11-23T17:21:54.594847Z"
    },
    "scrolled": true
   },
   "outputs": [
    {
     "name": "stdout",
     "output_type": "stream",
     "text": [
      "0.3760383432843745\n",
      "              precision    recall  f1-score   support\n",
      "\n",
      "           0       0.57      0.17      0.26    124910\n",
      "           1       0.38      0.71      0.49     80382\n",
      "           2       0.01      0.07      0.01      1889\n",
      "\n",
      "   micro avg       0.38      0.38      0.38    207181\n",
      "   macro avg       0.32      0.31      0.25    207181\n",
      "weighted avg       0.49      0.38      0.35    207181\n",
      "\n"
     ]
    },
    {
     "data": {
      "text/html": [
       "<div>\n",
       "<style scoped>\n",
       "    .dataframe tbody tr th:only-of-type {\n",
       "        vertical-align: middle;\n",
       "    }\n",
       "\n",
       "    .dataframe tbody tr th {\n",
       "        vertical-align: top;\n",
       "    }\n",
       "\n",
       "    .dataframe thead th {\n",
       "        text-align: right;\n",
       "    }\n",
       "</style>\n",
       "<table border=\"1\" class=\"dataframe\">\n",
       "  <thead>\n",
       "    <tr style=\"text-align: right;\">\n",
       "      <th></th>\n",
       "      <th>Reliable</th>\n",
       "      <th>Semi-Reliable</th>\n",
       "      <th>Unreliable</th>\n",
       "    </tr>\n",
       "    <tr>\n",
       "      <th>Credit Bagged</th>\n",
       "      <th></th>\n",
       "      <th></th>\n",
       "      <th></th>\n",
       "    </tr>\n",
       "  </thead>\n",
       "  <tbody>\n",
       "    <tr>\n",
       "      <th>Reliable</th>\n",
       "      <td>21047</td>\n",
       "      <td>92785</td>\n",
       "      <td>11078</td>\n",
       "    </tr>\n",
       "    <tr>\n",
       "      <th>Semi-Reliable</th>\n",
       "      <td>15457</td>\n",
       "      <td>56730</td>\n",
       "      <td>8195</td>\n",
       "    </tr>\n",
       "    <tr>\n",
       "      <th>Unreliable</th>\n",
       "      <td>194</td>\n",
       "      <td>1564</td>\n",
       "      <td>131</td>\n",
       "    </tr>\n",
       "  </tbody>\n",
       "</table>\n",
       "</div>"
      ],
      "text/plain": [
       "               Reliable  Semi-Reliable  Unreliable\n",
       "Credit Bagged                                     \n",
       "Reliable          21047          92785       11078\n",
       "Semi-Reliable     15457          56730        8195\n",
       "Unreliable          194           1564         131"
      ]
     },
     "execution_count": 16,
     "metadata": {},
     "output_type": "execute_result"
    }
   ],
   "source": [
    "print(accuracy_score(train_bag, clf.labels_.astype(str)))\n",
    "print(classification_report(train_bag, clf.labels_.astype(str)))\n",
    "crosstab_train = pd.crosstab(train_bag, clf.labels_)\n",
    "crosstab_train.columns = ['0','1','2']\n",
    "crosstab_train.rename(columns=bindict, index = bindict, inplace=True)\n",
    "crosstab_train"
   ]
  },
  {
   "cell_type": "code",
   "execution_count": 17,
   "metadata": {
    "ExecuteTime": {
     "end_time": "2020-11-23T17:22:05.091398Z",
     "start_time": "2020-11-23T17:22:05.085418Z"
    }
   },
   "outputs": [
    {
     "data": {
      "text/plain": [
       "3479625.0149924755"
      ]
     },
     "execution_count": 17,
     "metadata": {},
     "output_type": "execute_result"
    }
   ],
   "source": [
    "clf.inertia_"
   ]
  },
  {
   "cell_type": "code",
   "execution_count": 18,
   "metadata": {
    "ExecuteTime": {
     "end_time": "2020-11-23T17:22:08.128840Z",
     "start_time": "2020-11-23T17:22:08.096894Z"
    }
   },
   "outputs": [],
   "source": [
    "predictions = clf.predict(x_test)"
   ]
  },
  {
   "cell_type": "code",
   "execution_count": 19,
   "metadata": {
    "ExecuteTime": {
     "end_time": "2020-11-23T17:22:12.572073Z",
     "start_time": "2020-11-23T17:22:11.210419Z"
    }
   },
   "outputs": [
    {
     "name": "stdout",
     "output_type": "stream",
     "text": [
      "0.3752097575259311\n",
      "              precision    recall  f1-score   support\n",
      "\n",
      "           0       0.58      0.17      0.26     53704\n",
      "           1       0.37      0.70      0.49     34319\n",
      "           2       0.01      0.06      0.01       770\n",
      "\n",
      "   micro avg       0.38      0.38      0.38     88793\n",
      "   macro avg       0.32      0.31      0.25     88793\n",
      "weighted avg       0.49      0.38      0.35     88793\n",
      "\n"
     ]
    },
    {
     "data": {
      "text/html": [
       "<div>\n",
       "<style scoped>\n",
       "    .dataframe tbody tr th:only-of-type {\n",
       "        vertical-align: middle;\n",
       "    }\n",
       "\n",
       "    .dataframe tbody tr th {\n",
       "        vertical-align: top;\n",
       "    }\n",
       "\n",
       "    .dataframe thead th {\n",
       "        text-align: right;\n",
       "    }\n",
       "</style>\n",
       "<table border=\"1\" class=\"dataframe\">\n",
       "  <thead>\n",
       "    <tr style=\"text-align: right;\">\n",
       "      <th></th>\n",
       "      <th>Reliable</th>\n",
       "      <th>Semi-Reliable</th>\n",
       "      <th>Unreliable</th>\n",
       "    </tr>\n",
       "    <tr>\n",
       "      <th>Credit Bagged</th>\n",
       "      <th></th>\n",
       "      <th></th>\n",
       "      <th></th>\n",
       "    </tr>\n",
       "  </thead>\n",
       "  <tbody>\n",
       "    <tr>\n",
       "      <th>Reliable</th>\n",
       "      <td>9111</td>\n",
       "      <td>39870</td>\n",
       "      <td>4723</td>\n",
       "    </tr>\n",
       "    <tr>\n",
       "      <th>Semi-Reliable</th>\n",
       "      <td>6613</td>\n",
       "      <td>24158</td>\n",
       "      <td>3548</td>\n",
       "    </tr>\n",
       "    <tr>\n",
       "      <th>Unreliable</th>\n",
       "      <td>84</td>\n",
       "      <td>639</td>\n",
       "      <td>47</td>\n",
       "    </tr>\n",
       "  </tbody>\n",
       "</table>\n",
       "</div>"
      ],
      "text/plain": [
       "               Reliable  Semi-Reliable  Unreliable\n",
       "Credit Bagged                                     \n",
       "Reliable           9111          39870        4723\n",
       "Semi-Reliable      6613          24158        3548\n",
       "Unreliable           84            639          47"
      ]
     },
     "execution_count": 19,
     "metadata": {},
     "output_type": "execute_result"
    }
   ],
   "source": [
    "print(accuracy_score(test_bag, predictions.astype(str)))\n",
    "print(classification_report(test_bag, predictions.astype(str)))\n",
    "crosstab_test = pd.crosstab(test_bag, predictions.astype(str))\n",
    "crosstab_test.columns = ['0','1','2']\n",
    "crosstab_test.rename(columns=bindict, index = bindict, inplace=True)\n",
    "crosstab_test"
   ]
  }
 ],
 "metadata": {
  "kernelspec": {
   "display_name": "Python 3",
   "language": "python",
   "name": "python3"
  },
  "language_info": {
   "codemirror_mode": {
    "name": "ipython",
    "version": 3
   },
   "file_extension": ".py",
   "mimetype": "text/x-python",
   "name": "python",
   "nbconvert_exporter": "python",
   "pygments_lexer": "ipython3",
   "version": "3.7.3"
  },
  "toc": {
   "base_numbering": 1,
   "nav_menu": {},
   "number_sections": true,
   "sideBar": true,
   "skip_h1_title": false,
   "title_cell": "Table of Contents",
   "title_sidebar": "Contents",
   "toc_cell": false,
   "toc_position": {},
   "toc_section_display": true,
   "toc_window_display": false
  },
  "varInspector": {
   "cols": {
    "lenName": 16,
    "lenType": 16,
    "lenVar": 40
   },
   "kernels_config": {
    "python": {
     "delete_cmd_postfix": "",
     "delete_cmd_prefix": "del ",
     "library": "var_list.py",
     "varRefreshCmd": "print(var_dic_list())"
    },
    "r": {
     "delete_cmd_postfix": ") ",
     "delete_cmd_prefix": "rm(",
     "library": "var_list.r",
     "varRefreshCmd": "cat(var_dic_list()) "
    }
   },
   "types_to_exclude": [
    "module",
    "function",
    "builtin_function_or_method",
    "instance",
    "_Feature"
   ],
   "window_display": false
  }
 },
 "nbformat": 4,
 "nbformat_minor": 2
}
