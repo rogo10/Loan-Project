{
 "cells": [
  {
   "cell_type": "code",
   "execution_count": 25,
   "metadata": {
    "ExecuteTime": {
     "end_time": "2020-11-25T14:28:58.620653Z",
     "start_time": "2020-11-25T14:28:58.608822Z"
    }
   },
   "outputs": [],
   "source": [
    "import pandas as pd\n",
    "import numpy as np\n",
    "from helpers import tts_scale\n",
    "import matplotlib.pyplot as plt\n",
    "import seaborn as sns\n",
    "from sklearn.model_selection import train_test_split\n",
    "from sklearn.cluster import KMeans\n",
    "from sklearn.metrics import accuracy_score, classification_report\n",
    "from sklearn.preprocessing import StandardScaler"
   ]
  },
  {
   "cell_type": "code",
   "execution_count": 26,
   "metadata": {
    "ExecuteTime": {
     "end_time": "2020-11-25T14:28:59.263906Z",
     "start_time": "2020-11-25T14:28:59.204845Z"
    }
   },
   "outputs": [
    {
     "data": {
      "text/html": [
       "<div>\n",
       "<style scoped>\n",
       "    .dataframe tbody tr th:only-of-type {\n",
       "        vertical-align: middle;\n",
       "    }\n",
       "\n",
       "    .dataframe tbody tr th {\n",
       "        vertical-align: top;\n",
       "    }\n",
       "\n",
       "    .dataframe thead th {\n",
       "        text-align: right;\n",
       "    }\n",
       "</style>\n",
       "<table border=\"1\" class=\"dataframe\">\n",
       "  <thead>\n",
       "    <tr style=\"text-align: right;\">\n",
       "      <th></th>\n",
       "      <th>PK</th>\n",
       "      <th>Date</th>\n",
       "      <th>Qdate</th>\n",
       "      <th>Balance</th>\n",
       "      <th>Days Past Due</th>\n",
       "      <th>Past_Due30_59</th>\n",
       "      <th>Past_Due60_89</th>\n",
       "      <th>Past_Due90+</th>\n",
       "      <th>Credit Risk Code</th>\n",
       "      <th>Adversity</th>\n",
       "      <th>...</th>\n",
       "      <th>DEVELOPING_ASIA_INFLATION</th>\n",
       "      <th>DEV_ASIA_BILATERAL_DOLLAR_EXCHANGE_RATE</th>\n",
       "      <th>JAPAN_REAL_GDP_GROWTH</th>\n",
       "      <th>JAPAN_INFLATION</th>\n",
       "      <th>JAPAN_BILATERAL_DOLLAR_EXCHANGE_RATE</th>\n",
       "      <th>UK_REAL_GDP_GROWTH</th>\n",
       "      <th>UK_INFLATION</th>\n",
       "      <th>UK_BILATERAL_DOLLAR_EXCHANGE_RATE</th>\n",
       "      <th>Default</th>\n",
       "      <th>Credit Bagged</th>\n",
       "    </tr>\n",
       "  </thead>\n",
       "  <tbody>\n",
       "  </tbody>\n",
       "</table>\n",
       "<p>0 rows × 41 columns</p>\n",
       "</div>"
      ],
      "text/plain": [
       "Empty DataFrame\n",
       "Columns: [PK, Date, Qdate, Balance, Days Past Due, Past_Due30_59, Past_Due60_89, Past_Due90+, Credit Risk Code, Adversity, QTR_CLOSE, REAL_GDP_GROWTH, NOMINAL_GDP_GROWTH, REAL_DISPOSABLE_INCOME_GROWTH, NOMINAL_DISPOSABLE_INCOME_GROWTH, UNEMPLOYMENT_RATE, CPI_INFLATION_RATE, THREE_MONTH_TREASURY_RATE, FIVE_YEAR_TREASURY_YIELD, TEN_YEAR_TREASURY_YIELD, BBB_CORPORATE_YEILD, MORTGAGE_RATE, PRIME_RATE, DOWJONES_TOTAL_STOCK_MARKET_INDEX, HOUSE_PRICE_INDEX, COMERCIAL_REAL_ESTATE_PRICE_INDEX, MARKET_VOLATILITY_INDEX, EURO_AREA_REAL_GDP_GROWTH, EURO_AREA_INFLATION, EURO_AREA_BILATERAL_DOLLAR_EXCHANGE_RATE, DEVELOPING_ASIA_REAL_GDP_GROWTH, DEVELOPING_ASIA_INFLATION, DEV_ASIA_BILATERAL_DOLLAR_EXCHANGE_RATE, JAPAN_REAL_GDP_GROWTH, JAPAN_INFLATION, JAPAN_BILATERAL_DOLLAR_EXCHANGE_RATE, UK_REAL_GDP_GROWTH, UK_INFLATION, UK_BILATERAL_DOLLAR_EXCHANGE_RATE, Default, Credit Bagged]\n",
       "Index: []\n",
       "\n",
       "[0 rows x 41 columns]"
      ]
     },
     "execution_count": 26,
     "metadata": {},
     "output_type": "execute_result"
    }
   ],
   "source": [
    "df[df['Credit Risk Code'].isna()]"
   ]
  },
  {
   "cell_type": "code",
   "execution_count": 27,
   "metadata": {
    "ExecuteTime": {
     "end_time": "2020-11-25T14:29:08.399571Z",
     "start_time": "2020-11-25T14:29:04.076481Z"
    },
    "scrolled": true
   },
   "outputs": [
    {
     "data": {
      "text/html": [
       "<div>\n",
       "<style scoped>\n",
       "    .dataframe tbody tr th:only-of-type {\n",
       "        vertical-align: middle;\n",
       "    }\n",
       "\n",
       "    .dataframe tbody tr th {\n",
       "        vertical-align: top;\n",
       "    }\n",
       "\n",
       "    .dataframe thead th {\n",
       "        text-align: right;\n",
       "    }\n",
       "</style>\n",
       "<table border=\"1\" class=\"dataframe\">\n",
       "  <thead>\n",
       "    <tr style=\"text-align: right;\">\n",
       "      <th></th>\n",
       "      <th>PK</th>\n",
       "      <th>Date</th>\n",
       "      <th>Qdate</th>\n",
       "      <th>Balance</th>\n",
       "      <th>Days Past Due</th>\n",
       "      <th>Past_Due30_59</th>\n",
       "      <th>Past_Due60_89</th>\n",
       "      <th>Past_Due90+</th>\n",
       "      <th>Credit Risk Code</th>\n",
       "      <th>Adversity</th>\n",
       "      <th>...</th>\n",
       "      <th>DEVELOPING_ASIA_REAL_GDP_GROWTH</th>\n",
       "      <th>DEVELOPING_ASIA_INFLATION</th>\n",
       "      <th>DEV_ASIA_BILATERAL_DOLLAR_EXCHANGE_RATE</th>\n",
       "      <th>JAPAN_REAL_GDP_GROWTH</th>\n",
       "      <th>JAPAN_INFLATION</th>\n",
       "      <th>JAPAN_BILATERAL_DOLLAR_EXCHANGE_RATE</th>\n",
       "      <th>UK_REAL_GDP_GROWTH</th>\n",
       "      <th>UK_INFLATION</th>\n",
       "      <th>UK_BILATERAL_DOLLAR_EXCHANGE_RATE</th>\n",
       "      <th>Default</th>\n",
       "    </tr>\n",
       "  </thead>\n",
       "  <tbody>\n",
       "    <tr>\n",
       "      <th>0</th>\n",
       "      <td>0</td>\n",
       "      <td>2015-01-31</td>\n",
       "      <td>Q1 2015</td>\n",
       "      <td>7685.03</td>\n",
       "      <td>15</td>\n",
       "      <td>10</td>\n",
       "      <td>5</td>\n",
       "      <td>1</td>\n",
       "      <td>5</td>\n",
       "      <td>Historical</td>\n",
       "      <td>...</td>\n",
       "      <td>5.7</td>\n",
       "      <td>0.9</td>\n",
       "      <td>88.1</td>\n",
       "      <td>5.5</td>\n",
       "      <td>0.5</td>\n",
       "      <td>120.0</td>\n",
       "      <td>2.1</td>\n",
       "      <td>-1.1</td>\n",
       "      <td>1.485</td>\n",
       "      <td>1.0</td>\n",
       "    </tr>\n",
       "    <tr>\n",
       "      <th>1</th>\n",
       "      <td>1</td>\n",
       "      <td>2015-01-31</td>\n",
       "      <td>Q1 2015</td>\n",
       "      <td>181479.00</td>\n",
       "      <td>0</td>\n",
       "      <td>0</td>\n",
       "      <td>0</td>\n",
       "      <td>0</td>\n",
       "      <td>3</td>\n",
       "      <td>Historical</td>\n",
       "      <td>...</td>\n",
       "      <td>5.7</td>\n",
       "      <td>0.9</td>\n",
       "      <td>88.1</td>\n",
       "      <td>5.5</td>\n",
       "      <td>0.5</td>\n",
       "      <td>120.0</td>\n",
       "      <td>2.1</td>\n",
       "      <td>-1.1</td>\n",
       "      <td>1.485</td>\n",
       "      <td>0.0</td>\n",
       "    </tr>\n",
       "    <tr>\n",
       "      <th>2</th>\n",
       "      <td>2</td>\n",
       "      <td>2015-01-31</td>\n",
       "      <td>Q1 2015</td>\n",
       "      <td>67382.89</td>\n",
       "      <td>0</td>\n",
       "      <td>0</td>\n",
       "      <td>0</td>\n",
       "      <td>0</td>\n",
       "      <td>3</td>\n",
       "      <td>Historical</td>\n",
       "      <td>...</td>\n",
       "      <td>5.7</td>\n",
       "      <td>0.9</td>\n",
       "      <td>88.1</td>\n",
       "      <td>5.5</td>\n",
       "      <td>0.5</td>\n",
       "      <td>120.0</td>\n",
       "      <td>2.1</td>\n",
       "      <td>-1.1</td>\n",
       "      <td>1.485</td>\n",
       "      <td>0.0</td>\n",
       "    </tr>\n",
       "    <tr>\n",
       "      <th>3</th>\n",
       "      <td>3</td>\n",
       "      <td>2015-01-31</td>\n",
       "      <td>Q1 2015</td>\n",
       "      <td>115580.00</td>\n",
       "      <td>0</td>\n",
       "      <td>0</td>\n",
       "      <td>0</td>\n",
       "      <td>0</td>\n",
       "      <td>1</td>\n",
       "      <td>Historical</td>\n",
       "      <td>...</td>\n",
       "      <td>5.7</td>\n",
       "      <td>0.9</td>\n",
       "      <td>88.1</td>\n",
       "      <td>5.5</td>\n",
       "      <td>0.5</td>\n",
       "      <td>120.0</td>\n",
       "      <td>2.1</td>\n",
       "      <td>-1.1</td>\n",
       "      <td>1.485</td>\n",
       "      <td>0.0</td>\n",
       "    </tr>\n",
       "    <tr>\n",
       "      <th>4</th>\n",
       "      <td>4</td>\n",
       "      <td>2015-01-31</td>\n",
       "      <td>Q1 2015</td>\n",
       "      <td>111445.00</td>\n",
       "      <td>0</td>\n",
       "      <td>0</td>\n",
       "      <td>0</td>\n",
       "      <td>0</td>\n",
       "      <td>1</td>\n",
       "      <td>Historical</td>\n",
       "      <td>...</td>\n",
       "      <td>5.7</td>\n",
       "      <td>0.9</td>\n",
       "      <td>88.1</td>\n",
       "      <td>5.5</td>\n",
       "      <td>0.5</td>\n",
       "      <td>120.0</td>\n",
       "      <td>2.1</td>\n",
       "      <td>-1.1</td>\n",
       "      <td>1.485</td>\n",
       "      <td>0.0</td>\n",
       "    </tr>\n",
       "  </tbody>\n",
       "</table>\n",
       "<p>5 rows × 40 columns</p>\n",
       "</div>"
      ],
      "text/plain": [
       "   PK        Date    Qdate    Balance  Days Past Due  Past_Due30_59  \\\n",
       "0   0  2015-01-31  Q1 2015    7685.03             15             10   \n",
       "1   1  2015-01-31  Q1 2015  181479.00              0              0   \n",
       "2   2  2015-01-31  Q1 2015   67382.89              0              0   \n",
       "3   3  2015-01-31  Q1 2015  115580.00              0              0   \n",
       "4   4  2015-01-31  Q1 2015  111445.00              0              0   \n",
       "\n",
       "   Past_Due60_89  Past_Due90+ Credit Risk Code   Adversity  ...  \\\n",
       "0              5            1                5  Historical  ...   \n",
       "1              0            0                3  Historical  ...   \n",
       "2              0            0                3  Historical  ...   \n",
       "3              0            0                1  Historical  ...   \n",
       "4              0            0                1  Historical  ...   \n",
       "\n",
       "  DEVELOPING_ASIA_REAL_GDP_GROWTH  DEVELOPING_ASIA_INFLATION  \\\n",
       "0                             5.7                        0.9   \n",
       "1                             5.7                        0.9   \n",
       "2                             5.7                        0.9   \n",
       "3                             5.7                        0.9   \n",
       "4                             5.7                        0.9   \n",
       "\n",
       "   DEV_ASIA_BILATERAL_DOLLAR_EXCHANGE_RATE  JAPAN_REAL_GDP_GROWTH  \\\n",
       "0                                     88.1                    5.5   \n",
       "1                                     88.1                    5.5   \n",
       "2                                     88.1                    5.5   \n",
       "3                                     88.1                    5.5   \n",
       "4                                     88.1                    5.5   \n",
       "\n",
       "   JAPAN_INFLATION  JAPAN_BILATERAL_DOLLAR_EXCHANGE_RATE  UK_REAL_GDP_GROWTH  \\\n",
       "0              0.5                                 120.0                 2.1   \n",
       "1              0.5                                 120.0                 2.1   \n",
       "2              0.5                                 120.0                 2.1   \n",
       "3              0.5                                 120.0                 2.1   \n",
       "4              0.5                                 120.0                 2.1   \n",
       "\n",
       "   UK_INFLATION  UK_BILATERAL_DOLLAR_EXCHANGE_RATE  Default  \n",
       "0          -1.1                              1.485      1.0  \n",
       "1          -1.1                              1.485      0.0  \n",
       "2          -1.1                              1.485      0.0  \n",
       "3          -1.1                              1.485      0.0  \n",
       "4          -1.1                              1.485      0.0  \n",
       "\n",
       "[5 rows x 40 columns]"
      ]
     },
     "execution_count": 27,
     "metadata": {},
     "output_type": "execute_result"
    }
   ],
   "source": [
    "df = pd.read_csv(r'../data/final.csv', index_col=0)\n",
    "df = df.dropna()\n",
    "df['Credit Risk Code'] = df['Credit Risk Code'].astype(int).astype(str)\n",
    "df.head()"
   ]
  },
  {
   "cell_type": "markdown",
   "metadata": {},
   "source": [
    "# Create 3 groups of Credit Risk Code\n",
    "## Reliable ==> 1,2,3\n",
    "## Semi-Reliable ==> 4,5,6,7\n",
    "## Unreliable ==> 8,9,10"
   ]
  },
  {
   "cell_type": "code",
   "execution_count": 28,
   "metadata": {
    "ExecuteTime": {
     "end_time": "2020-11-25T14:31:03.494616Z",
     "start_time": "2020-11-25T14:31:02.958443Z"
    }
   },
   "outputs": [],
   "source": [
    "df.loc[df['Credit Risk Code'].isin(['1','2','3']),'Credit Bagged'] = '0'\n",
    "df.loc[df['Credit Risk Code'].isin(['4','5','6','7']),'Credit Bagged'] = '1'\n",
    "df.loc[df['Credit Risk Code'].isin(['8','9','10']),'Credit Bagged'] = '2'"
   ]
  },
  {
   "cell_type": "code",
   "execution_count": 29,
   "metadata": {
    "ExecuteTime": {
     "end_time": "2020-11-25T14:31:04.573773Z",
     "start_time": "2020-11-25T14:31:04.522777Z"
    }
   },
   "outputs": [
    {
     "name": "stderr",
     "output_type": "stream",
     "text": [
      "C:\\ProgramData\\Anaconda3\\lib\\site-packages\\ipykernel_launcher.py:1: FutureWarning: using a dict on a Series for aggregation\n",
      "is deprecated and will be removed in a future version\n",
      "  \"\"\"Entry point for launching an IPython kernel.\n"
     ]
    },
    {
     "data": {
      "text/html": [
       "<div>\n",
       "<style scoped>\n",
       "    .dataframe tbody tr th:only-of-type {\n",
       "        vertical-align: middle;\n",
       "    }\n",
       "\n",
       "    .dataframe tbody tr th {\n",
       "        vertical-align: top;\n",
       "    }\n",
       "\n",
       "    .dataframe thead th {\n",
       "        text-align: right;\n",
       "    }\n",
       "</style>\n",
       "<table border=\"1\" class=\"dataframe\">\n",
       "  <thead>\n",
       "    <tr style=\"text-align: right;\">\n",
       "      <th></th>\n",
       "      <th>Credit Bagged</th>\n",
       "    </tr>\n",
       "    <tr>\n",
       "      <th>Credit Bagged</th>\n",
       "      <th></th>\n",
       "    </tr>\n",
       "  </thead>\n",
       "  <tbody>\n",
       "    <tr>\n",
       "      <th>0</th>\n",
       "      <td>178614</td>\n",
       "    </tr>\n",
       "    <tr>\n",
       "      <th>1</th>\n",
       "      <td>114701</td>\n",
       "    </tr>\n",
       "    <tr>\n",
       "      <th>2</th>\n",
       "      <td>2659</td>\n",
       "    </tr>\n",
       "  </tbody>\n",
       "</table>\n",
       "</div>"
      ],
      "text/plain": [
       "               Credit Bagged\n",
       "Credit Bagged               \n",
       "0                     178614\n",
       "1                     114701\n",
       "2                       2659"
      ]
     },
     "execution_count": 29,
     "metadata": {},
     "output_type": "execute_result"
    }
   ],
   "source": [
    "df.groupby(['Credit Bagged'])['Credit Bagged'].agg({'Credit Bagged':'count'})"
   ]
  },
  {
   "cell_type": "code",
   "execution_count": 32,
   "metadata": {
    "ExecuteTime": {
     "end_time": "2020-11-25T14:32:37.473591Z",
     "start_time": "2020-11-25T14:32:37.384764Z"
    },
    "scrolled": true
   },
   "outputs": [
    {
     "data": {
      "text/html": [
       "<div>\n",
       "<style scoped>\n",
       "    .dataframe tbody tr th:only-of-type {\n",
       "        vertical-align: middle;\n",
       "    }\n",
       "\n",
       "    .dataframe tbody tr th {\n",
       "        vertical-align: top;\n",
       "    }\n",
       "\n",
       "    .dataframe thead th {\n",
       "        text-align: right;\n",
       "    }\n",
       "</style>\n",
       "<table border=\"1\" class=\"dataframe\">\n",
       "  <thead>\n",
       "    <tr style=\"text-align: right;\">\n",
       "      <th></th>\n",
       "      <th></th>\n",
       "      <th>Count</th>\n",
       "    </tr>\n",
       "    <tr>\n",
       "      <th>Credit Bagged</th>\n",
       "      <th>Credit Risk Code</th>\n",
       "      <th></th>\n",
       "    </tr>\n",
       "  </thead>\n",
       "  <tbody>\n",
       "    <tr>\n",
       "      <th rowspan=\"3\" valign=\"top\">0</th>\n",
       "      <th>1</th>\n",
       "      <td>9791</td>\n",
       "    </tr>\n",
       "    <tr>\n",
       "      <th>2</th>\n",
       "      <td>510</td>\n",
       "    </tr>\n",
       "    <tr>\n",
       "      <th>3</th>\n",
       "      <td>168313</td>\n",
       "    </tr>\n",
       "    <tr>\n",
       "      <th rowspan=\"4\" valign=\"top\">1</th>\n",
       "      <th>4</th>\n",
       "      <td>84239</td>\n",
       "    </tr>\n",
       "    <tr>\n",
       "      <th>5</th>\n",
       "      <td>13536</td>\n",
       "    </tr>\n",
       "    <tr>\n",
       "      <th>6</th>\n",
       "      <td>1413</td>\n",
       "    </tr>\n",
       "    <tr>\n",
       "      <th>7</th>\n",
       "      <td>15513</td>\n",
       "    </tr>\n",
       "    <tr>\n",
       "      <th rowspan=\"3\" valign=\"top\">2</th>\n",
       "      <th>10</th>\n",
       "      <td>443</td>\n",
       "    </tr>\n",
       "    <tr>\n",
       "      <th>8</th>\n",
       "      <td>1954</td>\n",
       "    </tr>\n",
       "    <tr>\n",
       "      <th>9</th>\n",
       "      <td>262</td>\n",
       "    </tr>\n",
       "  </tbody>\n",
       "</table>\n",
       "</div>"
      ],
      "text/plain": [
       "                                 Count\n",
       "Credit Bagged Credit Risk Code        \n",
       "0             1                   9791\n",
       "              2                    510\n",
       "              3                 168313\n",
       "1             4                  84239\n",
       "              5                  13536\n",
       "              6                   1413\n",
       "              7                  15513\n",
       "2             10                   443\n",
       "              8                   1954\n",
       "              9                    262"
      ]
     },
     "execution_count": 32,
     "metadata": {},
     "output_type": "execute_result"
    }
   ],
   "source": [
    "group = df.groupby(['Credit Bagged', 'Credit Risk Code']).agg({'Credit Risk Code':'count'})\n",
    "group.columns = ['Count']\n",
    "group"
   ]
  },
  {
   "cell_type": "code",
   "execution_count": 33,
   "metadata": {
    "ExecuteTime": {
     "end_time": "2020-11-25T14:33:36.193368Z",
     "start_time": "2020-11-25T14:33:36.185278Z"
    }
   },
   "outputs": [
    {
     "data": {
      "text/plain": [
       "Index(['PK', 'Date', 'Qdate', 'Balance', 'Days Past Due', 'Past_Due30_59',\n",
       "       'Past_Due60_89', 'Past_Due90+', 'Credit Risk Code', 'Adversity',\n",
       "       'QTR_CLOSE', 'REAL_GDP_GROWTH', 'NOMINAL_GDP_GROWTH',\n",
       "       'REAL_DISPOSABLE_INCOME_GROWTH', 'NOMINAL_DISPOSABLE_INCOME_GROWTH',\n",
       "       'UNEMPLOYMENT_RATE', 'CPI_INFLATION_RATE', 'THREE_MONTH_TREASURY_RATE',\n",
       "       'FIVE_YEAR_TREASURY_YIELD', 'TEN_YEAR_TREASURY_YIELD',\n",
       "       'BBB_CORPORATE_YEILD', 'MORTGAGE_RATE', 'PRIME_RATE',\n",
       "       'DOWJONES_TOTAL_STOCK_MARKET_INDEX', 'HOUSE_PRICE_INDEX',\n",
       "       'COMERCIAL_REAL_ESTATE_PRICE_INDEX', 'MARKET_VOLATILITY_INDEX',\n",
       "       'EURO_AREA_REAL_GDP_GROWTH', 'EURO_AREA_INFLATION',\n",
       "       'EURO_AREA_BILATERAL_DOLLAR_EXCHANGE_RATE',\n",
       "       'DEVELOPING_ASIA_REAL_GDP_GROWTH', 'DEVELOPING_ASIA_INFLATION',\n",
       "       'DEV_ASIA_BILATERAL_DOLLAR_EXCHANGE_RATE', 'JAPAN_REAL_GDP_GROWTH',\n",
       "       'JAPAN_INFLATION', 'JAPAN_BILATERAL_DOLLAR_EXCHANGE_RATE',\n",
       "       'UK_REAL_GDP_GROWTH', 'UK_INFLATION',\n",
       "       'UK_BILATERAL_DOLLAR_EXCHANGE_RATE', 'Default', 'Credit Bagged'],\n",
       "      dtype='object')"
      ]
     },
     "execution_count": 33,
     "metadata": {},
     "output_type": "execute_result"
    }
   ],
   "source": [
    "df.columns"
   ]
  },
  {
   "cell_type": "code",
   "execution_count": 51,
   "metadata": {
    "ExecuteTime": {
     "end_time": "2020-11-25T14:46:05.378356Z",
     "start_time": "2020-11-25T14:46:05.347508Z"
    }
   },
   "outputs": [],
   "source": [
    "X = df[['Days Past Due', 'Balance', 'Past_Due30_59', 'Past_Due60_89', 'Past_Due90+', 'Credit Bagged']]\n",
    "#X = df.drop(columns=['PK', 'Date', 'Qdate','Credit Risk Code','Adversity','QTR_CLOSE','Default'])"
   ]
  },
  {
   "cell_type": "code",
   "execution_count": 52,
   "metadata": {
    "ExecuteTime": {
     "end_time": "2020-11-25T14:46:05.995900Z",
     "start_time": "2020-11-25T14:46:05.991624Z"
    }
   },
   "outputs": [
    {
     "data": {
      "text/plain": [
       "295974"
      ]
     },
     "execution_count": 52,
     "metadata": {},
     "output_type": "execute_result"
    }
   ],
   "source": [
    "len(X)"
   ]
  },
  {
   "cell_type": "code",
   "execution_count": 61,
   "metadata": {
    "ExecuteTime": {
     "end_time": "2020-11-25T14:47:52.988235Z",
     "start_time": "2020-11-25T14:47:52.974868Z"
    }
   },
   "outputs": [
    {
     "data": {
      "text/html": [
       "<div>\n",
       "<style scoped>\n",
       "    .dataframe tbody tr th:only-of-type {\n",
       "        vertical-align: middle;\n",
       "    }\n",
       "\n",
       "    .dataframe tbody tr th {\n",
       "        vertical-align: top;\n",
       "    }\n",
       "\n",
       "    .dataframe thead th {\n",
       "        text-align: right;\n",
       "    }\n",
       "</style>\n",
       "<table border=\"1\" class=\"dataframe\">\n",
       "  <thead>\n",
       "    <tr style=\"text-align: right;\">\n",
       "      <th></th>\n",
       "      <th>0</th>\n",
       "      <th>1</th>\n",
       "    </tr>\n",
       "  </thead>\n",
       "  <tbody>\n",
       "    <tr>\n",
       "      <th>0</th>\n",
       "      <td>Days Past Due</td>\n",
       "      <td>Balance</td>\n",
       "    </tr>\n",
       "    <tr>\n",
       "      <th>1</th>\n",
       "      <td>Past_Due30_59</td>\n",
       "      <td>Past_Due60_89</td>\n",
       "    </tr>\n",
       "    <tr>\n",
       "      <th>2</th>\n",
       "      <td>Past_Due90+</td>\n",
       "      <td>Credit Bagged</td>\n",
       "    </tr>\n",
       "  </tbody>\n",
       "</table>\n",
       "</div>"
      ],
      "text/plain": [
       "               0              1\n",
       "0  Days Past Due        Balance\n",
       "1  Past_Due30_59  Past_Due60_89\n",
       "2    Past_Due90+  Credit Bagged"
      ]
     },
     "execution_count": 61,
     "metadata": {},
     "output_type": "execute_result"
    }
   ],
   "source": [
    "pd.DataFrame(np.array(X.columns).reshape(3,2))"
   ]
  },
  {
   "cell_type": "code",
   "execution_count": 54,
   "metadata": {
    "ExecuteTime": {
     "end_time": "2020-11-25T14:46:09.823941Z",
     "start_time": "2020-11-25T14:46:09.656285Z"
    }
   },
   "outputs": [
    {
     "name": "stderr",
     "output_type": "stream",
     "text": [
      "C:\\Users\\smr6743\\AppData\\Roaming\\Python\\Python37\\site-packages\\sklearn\\preprocessing\\data.py:645: DataConversionWarning: Data with input dtype int64, float64 were all converted to float64 by StandardScaler.\n",
      "  return self.partial_fit(X, y)\n",
      "C:\\Users\\smr6743\\AppData\\Roaming\\Python\\Python37\\site-packages\\sklearn\\base.py:464: DataConversionWarning: Data with input dtype int64, float64 were all converted to float64 by StandardScaler.\n",
      "  return self.fit(X, **fit_params).transform(X)\n",
      "C:\\ProgramData\\Anaconda3\\lib\\site-packages\\ipykernel_launcher.py:6: DataConversionWarning: Data with input dtype int64, float64 were all converted to float64 by StandardScaler.\n",
      "  \n"
     ]
    }
   ],
   "source": [
    "x_train, x_test = train_test_split(X, random_state=42, test_size = 0.3)\n",
    "train_bag = x_train['Credit Bagged']\n",
    "test_bag = x_test['Credit Bagged']\n",
    "scaler = StandardScaler()\n",
    "x_train = scaler.fit_transform(x_train.drop(columns=['Credit Bagged']))\n",
    "x_test = scaler.transform(x_test.drop(columns=['Credit Bagged']))"
   ]
  },
  {
   "cell_type": "code",
   "execution_count": 69,
   "metadata": {
    "ExecuteTime": {
     "end_time": "2020-11-25T15:06:00.024499Z",
     "start_time": "2020-11-25T15:06:00.017526Z"
    }
   },
   "outputs": [
    {
     "data": {
      "text/plain": [
       "(207181, 88793)"
      ]
     },
     "execution_count": 69,
     "metadata": {},
     "output_type": "execute_result"
    }
   ],
   "source": [
    "len(x_train), len(x_test)"
   ]
  },
  {
   "cell_type": "code",
   "execution_count": 55,
   "metadata": {
    "ExecuteTime": {
     "end_time": "2020-11-25T14:46:19.233356Z",
     "start_time": "2020-11-25T14:46:12.743749Z"
    }
   },
   "outputs": [],
   "source": [
    "clf = KMeans(n_clusters=3, \n",
    "             random_state=42).fit(x_train)"
   ]
  },
  {
   "cell_type": "code",
   "execution_count": 56,
   "metadata": {
    "ExecuteTime": {
     "end_time": "2020-11-25T14:46:20.332631Z",
     "start_time": "2020-11-25T14:46:19.791107Z"
    }
   },
   "outputs": [],
   "source": [
    "bindict = {'0':'Reliable', '1':'Semi-Reliable','2':'Unreliable'}\n",
    "rownames = []\n",
    "for val in train_bag.values:\n",
    "    rownames.append(bindict[val])\n",
    "    \n",
    "colnames = []\n",
    "for val in clf.labels_:\n",
    "    colnames.append(bindict[str(val)])"
   ]
  },
  {
   "cell_type": "code",
   "execution_count": 65,
   "metadata": {
    "ExecuteTime": {
     "end_time": "2020-11-25T14:55:51.176148Z",
     "start_time": "2020-11-25T14:55:44.092045Z"
    },
    "scrolled": false
   },
   "outputs": [
    {
     "name": "stdout",
     "output_type": "stream",
     "text": [
      "0.6108330397092397\n"
     ]
    },
    {
     "data": {
      "text/html": [
       "<div>\n",
       "<style scoped>\n",
       "    .dataframe tbody tr th:only-of-type {\n",
       "        vertical-align: middle;\n",
       "    }\n",
       "\n",
       "    .dataframe tbody tr th {\n",
       "        vertical-align: top;\n",
       "    }\n",
       "\n",
       "    .dataframe thead th {\n",
       "        text-align: right;\n",
       "    }\n",
       "</style>\n",
       "<table border=\"1\" class=\"dataframe\">\n",
       "  <thead>\n",
       "    <tr style=\"text-align: right;\">\n",
       "      <th></th>\n",
       "      <th>0</th>\n",
       "      <th>1</th>\n",
       "      <th>2</th>\n",
       "      <th>micro avg</th>\n",
       "      <th>macro avg</th>\n",
       "      <th>weighted avg</th>\n",
       "    </tr>\n",
       "  </thead>\n",
       "  <tbody>\n",
       "    <tr>\n",
       "      <th>f1-score</th>\n",
       "      <td>0.764554</td>\n",
       "      <td>0.040692</td>\n",
       "      <td>0.237445</td>\n",
       "      <td>0.610833</td>\n",
       "      <td>0.347564</td>\n",
       "      <td>0.478904</td>\n",
       "    </tr>\n",
       "    <tr>\n",
       "      <th>precision</th>\n",
       "      <td>0.621596</td>\n",
       "      <td>0.691708</td>\n",
       "      <td>0.161686</td>\n",
       "      <td>0.610833</td>\n",
       "      <td>0.491663</td>\n",
       "      <td>0.644605</td>\n",
       "    </tr>\n",
       "    <tr>\n",
       "      <th>recall</th>\n",
       "      <td>0.992907</td>\n",
       "      <td>0.020962</td>\n",
       "      <td>0.446797</td>\n",
       "      <td>0.610833</td>\n",
       "      <td>0.486889</td>\n",
       "      <td>0.610833</td>\n",
       "    </tr>\n",
       "    <tr>\n",
       "      <th>support</th>\n",
       "      <td>124910.000000</td>\n",
       "      <td>80382.000000</td>\n",
       "      <td>1889.000000</td>\n",
       "      <td>207181.000000</td>\n",
       "      <td>207181.000000</td>\n",
       "      <td>207181.000000</td>\n",
       "    </tr>\n",
       "  </tbody>\n",
       "</table>\n",
       "</div>"
      ],
      "text/plain": [
       "                       0             1            2      micro avg  \\\n",
       "f1-score        0.764554      0.040692     0.237445       0.610833   \n",
       "precision       0.621596      0.691708     0.161686       0.610833   \n",
       "recall          0.992907      0.020962     0.446797       0.610833   \n",
       "support    124910.000000  80382.000000  1889.000000  207181.000000   \n",
       "\n",
       "               macro avg   weighted avg  \n",
       "f1-score        0.347564       0.478904  \n",
       "precision       0.491663       0.644605  \n",
       "recall          0.486889       0.610833  \n",
       "support    207181.000000  207181.000000  "
      ]
     },
     "execution_count": 65,
     "metadata": {},
     "output_type": "execute_result"
    }
   ],
   "source": [
    "print(accuracy_score(train_bag, clf.labels_.astype(str)))\n",
    "train_report = classification_report(train_bag, clf.labels_.astype(str), output_dict=True)\n",
    "pd.DataFrame(train_report)"
   ]
  },
  {
   "cell_type": "code",
   "execution_count": 63,
   "metadata": {
    "ExecuteTime": {
     "end_time": "2020-11-25T14:55:23.049183Z",
     "start_time": "2020-11-25T14:55:22.951388Z"
    }
   },
   "outputs": [
    {
     "data": {
      "text/html": [
       "<div>\n",
       "<style scoped>\n",
       "    .dataframe tbody tr th:only-of-type {\n",
       "        vertical-align: middle;\n",
       "    }\n",
       "\n",
       "    .dataframe tbody tr th {\n",
       "        vertical-align: top;\n",
       "    }\n",
       "\n",
       "    .dataframe thead th {\n",
       "        text-align: right;\n",
       "    }\n",
       "</style>\n",
       "<table border=\"1\" class=\"dataframe\">\n",
       "  <thead>\n",
       "    <tr style=\"text-align: right;\">\n",
       "      <th></th>\n",
       "      <th>Reliable</th>\n",
       "      <th>Semi-Reliable</th>\n",
       "      <th>Unreliable</th>\n",
       "    </tr>\n",
       "    <tr>\n",
       "      <th>Credit Bagged</th>\n",
       "      <th></th>\n",
       "      <th></th>\n",
       "      <th></th>\n",
       "    </tr>\n",
       "  </thead>\n",
       "  <tbody>\n",
       "    <tr>\n",
       "      <th>Reliable</th>\n",
       "      <td>124024</td>\n",
       "      <td>744</td>\n",
       "      <td>142</td>\n",
       "    </tr>\n",
       "    <tr>\n",
       "      <th>Semi-Reliable</th>\n",
       "      <td>74463</td>\n",
       "      <td>1685</td>\n",
       "      <td>4234</td>\n",
       "    </tr>\n",
       "    <tr>\n",
       "      <th>Unreliable</th>\n",
       "      <td>1038</td>\n",
       "      <td>7</td>\n",
       "      <td>844</td>\n",
       "    </tr>\n",
       "  </tbody>\n",
       "</table>\n",
       "</div>"
      ],
      "text/plain": [
       "               Reliable  Semi-Reliable  Unreliable\n",
       "Credit Bagged                                     \n",
       "Reliable         124024            744         142\n",
       "Semi-Reliable     74463           1685        4234\n",
       "Unreliable         1038              7         844"
      ]
     },
     "execution_count": 63,
     "metadata": {},
     "output_type": "execute_result"
    }
   ],
   "source": [
    "crosstab_train = pd.crosstab(train_bag, clf.labels_)\n",
    "crosstab_train.columns = ['0','1','2']\n",
    "crosstab_train.rename(columns=bindict, index = bindict, inplace=True)\n",
    "crosstab_train"
   ]
  },
  {
   "cell_type": "code",
   "execution_count": 58,
   "metadata": {
    "ExecuteTime": {
     "end_time": "2020-11-25T14:46:41.315978Z",
     "start_time": "2020-11-25T14:46:41.308996Z"
    }
   },
   "outputs": [
    {
     "data": {
      "text/plain": [
       "557419.0501303612"
      ]
     },
     "execution_count": 58,
     "metadata": {},
     "output_type": "execute_result"
    }
   ],
   "source": [
    "clf.inertia_"
   ]
  },
  {
   "cell_type": "code",
   "execution_count": 59,
   "metadata": {
    "ExecuteTime": {
     "end_time": "2020-11-25T14:46:51.744727Z",
     "start_time": "2020-11-25T14:46:51.722250Z"
    }
   },
   "outputs": [],
   "source": [
    "predictions = clf.predict(x_test)"
   ]
  },
  {
   "cell_type": "code",
   "execution_count": 68,
   "metadata": {
    "ExecuteTime": {
     "end_time": "2020-11-25T15:03:45.980032Z",
     "start_time": "2020-11-25T15:03:43.408412Z"
    }
   },
   "outputs": [
    {
     "name": "stdout",
     "output_type": "stream",
     "text": [
      "0.6133028504499228\n"
     ]
    },
    {
     "data": {
      "text/html": [
       "<div>\n",
       "<style scoped>\n",
       "    .dataframe tbody tr th:only-of-type {\n",
       "        vertical-align: middle;\n",
       "    }\n",
       "\n",
       "    .dataframe tbody tr th {\n",
       "        vertical-align: top;\n",
       "    }\n",
       "\n",
       "    .dataframe thead th {\n",
       "        text-align: right;\n",
       "    }\n",
       "</style>\n",
       "<table border=\"1\" class=\"dataframe\">\n",
       "  <thead>\n",
       "    <tr style=\"text-align: right;\">\n",
       "      <th></th>\n",
       "      <th>0</th>\n",
       "      <th>1</th>\n",
       "      <th>2</th>\n",
       "      <th>micro avg</th>\n",
       "      <th>macro avg</th>\n",
       "      <th>weighted avg</th>\n",
       "    </tr>\n",
       "  </thead>\n",
       "  <tbody>\n",
       "    <tr>\n",
       "      <th>f1-score</th>\n",
       "      <td>0.766272</td>\n",
       "      <td>0.043504</td>\n",
       "      <td>0.238047</td>\n",
       "      <td>0.613303</td>\n",
       "      <td>0.349275</td>\n",
       "      <td>0.482337</td>\n",
       "    </tr>\n",
       "    <tr>\n",
       "      <th>precision</th>\n",
       "      <td>0.623813</td>\n",
       "      <td>0.712963</td>\n",
       "      <td>0.160288</td>\n",
       "      <td>0.613303</td>\n",
       "      <td>0.499021</td>\n",
       "      <td>0.654250</td>\n",
       "    </tr>\n",
       "    <tr>\n",
       "      <th>recall</th>\n",
       "      <td>0.993055</td>\n",
       "      <td>0.022437</td>\n",
       "      <td>0.462338</td>\n",
       "      <td>0.613303</td>\n",
       "      <td>0.492610</td>\n",
       "      <td>0.613303</td>\n",
       "    </tr>\n",
       "    <tr>\n",
       "      <th>support</th>\n",
       "      <td>53704.000000</td>\n",
       "      <td>34319.000000</td>\n",
       "      <td>770.000000</td>\n",
       "      <td>88793.000000</td>\n",
       "      <td>88793.000000</td>\n",
       "      <td>88793.000000</td>\n",
       "    </tr>\n",
       "  </tbody>\n",
       "</table>\n",
       "</div>"
      ],
      "text/plain": [
       "                      0             1           2     micro avg     macro avg  \\\n",
       "f1-score       0.766272      0.043504    0.238047      0.613303      0.349275   \n",
       "precision      0.623813      0.712963    0.160288      0.613303      0.499021   \n",
       "recall         0.993055      0.022437    0.462338      0.613303      0.492610   \n",
       "support    53704.000000  34319.000000  770.000000  88793.000000  88793.000000   \n",
       "\n",
       "           weighted avg  \n",
       "f1-score       0.482337  \n",
       "precision      0.654250  \n",
       "recall         0.613303  \n",
       "support    88793.000000  "
      ]
     },
     "execution_count": 68,
     "metadata": {},
     "output_type": "execute_result"
    }
   ],
   "source": [
    "print(accuracy_score(test_bag, predictions.astype(str)))\n",
    "test_report = classification_report(test_bag, predictions.astype(str), output_dict=True)\n",
    "pd.DataFrame(test_report)"
   ]
  },
  {
   "cell_type": "code",
   "execution_count": 67,
   "metadata": {
    "ExecuteTime": {
     "end_time": "2020-11-25T15:03:34.818352Z",
     "start_time": "2020-11-25T15:03:34.680060Z"
    }
   },
   "outputs": [
    {
     "data": {
      "text/html": [
       "<div>\n",
       "<style scoped>\n",
       "    .dataframe tbody tr th:only-of-type {\n",
       "        vertical-align: middle;\n",
       "    }\n",
       "\n",
       "    .dataframe tbody tr th {\n",
       "        vertical-align: top;\n",
       "    }\n",
       "\n",
       "    .dataframe thead th {\n",
       "        text-align: right;\n",
       "    }\n",
       "</style>\n",
       "<table border=\"1\" class=\"dataframe\">\n",
       "  <thead>\n",
       "    <tr style=\"text-align: right;\">\n",
       "      <th></th>\n",
       "      <th>Reliable</th>\n",
       "      <th>Semi-Reliable</th>\n",
       "      <th>Unreliable</th>\n",
       "    </tr>\n",
       "    <tr>\n",
       "      <th>Credit Bagged</th>\n",
       "      <th></th>\n",
       "      <th></th>\n",
       "      <th></th>\n",
       "    </tr>\n",
       "  </thead>\n",
       "  <tbody>\n",
       "    <tr>\n",
       "      <th>Reliable</th>\n",
       "      <td>53331</td>\n",
       "      <td>308</td>\n",
       "      <td>65</td>\n",
       "    </tr>\n",
       "    <tr>\n",
       "      <th>Semi-Reliable</th>\n",
       "      <td>31749</td>\n",
       "      <td>770</td>\n",
       "      <td>1800</td>\n",
       "    </tr>\n",
       "    <tr>\n",
       "      <th>Unreliable</th>\n",
       "      <td>412</td>\n",
       "      <td>2</td>\n",
       "      <td>356</td>\n",
       "    </tr>\n",
       "  </tbody>\n",
       "</table>\n",
       "</div>"
      ],
      "text/plain": [
       "               Reliable  Semi-Reliable  Unreliable\n",
       "Credit Bagged                                     \n",
       "Reliable          53331            308          65\n",
       "Semi-Reliable     31749            770        1800\n",
       "Unreliable          412              2         356"
      ]
     },
     "execution_count": 67,
     "metadata": {},
     "output_type": "execute_result"
    }
   ],
   "source": [
    "crosstab_test = pd.crosstab(test_bag, predictions.astype(str))\n",
    "crosstab_test.columns = ['0','1','2']\n",
    "crosstab_test.rename(columns=bindict, index = bindict, inplace=True)\n",
    "crosstab_test"
   ]
  },
  {
   "cell_type": "code",
   "execution_count": null,
   "metadata": {},
   "outputs": [],
   "source": []
  }
 ],
 "metadata": {
  "kernelspec": {
   "display_name": "Python 3",
   "language": "python",
   "name": "python3"
  },
  "language_info": {
   "codemirror_mode": {
    "name": "ipython",
    "version": 3
   },
   "file_extension": ".py",
   "mimetype": "text/x-python",
   "name": "python",
   "nbconvert_exporter": "python",
   "pygments_lexer": "ipython3",
   "version": "3.7.3"
  },
  "toc": {
   "base_numbering": 1,
   "nav_menu": {},
   "number_sections": true,
   "sideBar": true,
   "skip_h1_title": false,
   "title_cell": "Table of Contents",
   "title_sidebar": "Contents",
   "toc_cell": false,
   "toc_position": {},
   "toc_section_display": true,
   "toc_window_display": false
  },
  "varInspector": {
   "cols": {
    "lenName": 16,
    "lenType": 16,
    "lenVar": 40
   },
   "kernels_config": {
    "python": {
     "delete_cmd_postfix": "",
     "delete_cmd_prefix": "del ",
     "library": "var_list.py",
     "varRefreshCmd": "print(var_dic_list())"
    },
    "r": {
     "delete_cmd_postfix": ") ",
     "delete_cmd_prefix": "rm(",
     "library": "var_list.r",
     "varRefreshCmd": "cat(var_dic_list()) "
    }
   },
   "types_to_exclude": [
    "module",
    "function",
    "builtin_function_or_method",
    "instance",
    "_Feature"
   ],
   "window_display": false
  }
 },
 "nbformat": 4,
 "nbformat_minor": 2
}
