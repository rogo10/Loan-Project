{
 "cells": [
  {
   "cell_type": "code",
   "execution_count": 35,
   "metadata": {
    "ExecuteTime": {
     "end_time": "2020-11-17T19:23:24.632038Z",
     "start_time": "2020-11-17T19:23:24.601720Z"
    }
   },
   "outputs": [],
   "source": [
    "from sklearn.model_selection import train_test_split\n",
    "from sklearn.preprocessing import StandardScaler\n",
    "import pandas as pd\n",
    "import numpy as np\n",
    "\n",
    "from sklearn.linear_model import LogisticRegression\n",
    "from sklearn.model_selection import GridSearchCV\n",
    "from sklearn.metrics import classification_report,confusion_matrix\n",
    "\n",
    "import seaborn as sns\n",
    "#import maplotlib.pyplot as plt\n",
    "\n",
    "from sklearn.tree import DecisionTreeClassifier\n",
    "from sklearn.ensemble import AdaBoostClassifier\n",
    "from sklearn.ensemble import RandomForestClassifier\n",
    "from sklearn.ensemble import BaggingClassifier \n",
    "from sklearn.ensemble import VotingClassifier\n",
    "from sklearn.svm import SVC\n",
    "from sklearn.metrics import accuracy_score\n",
    "from sklearn.discriminant_analysis import LinearDiscriminantAnalysis \n"
   ]
  },
  {
   "cell_type": "code",
   "execution_count": 2,
   "metadata": {
    "ExecuteTime": {
     "end_time": "2020-11-17T19:01:09.280863Z",
     "start_time": "2020-11-17T19:01:09.259138Z"
    }
   },
   "outputs": [],
   "source": [
    "\n",
    "\n",
    "def tts_scale(x, y, scaler, encoding=None, test_size=None, random_state=None):\n",
    "    '''\n",
    "    Helper function to correctly train-test-split, scale numerical columns, and one-hot-encode categorical features.\n",
    "    Will return x_train, x_test, y_train, y_test.\n",
    "    \n",
    "    Parameters:\n",
    "    x         ==> input variables from dataframe.\n",
    "    y         ==> target variable from dataframe.\n",
    "    encoding  ==> iterable of columns from dataframe to be one-hot-encoded.\n",
    "    ts        ==> test size from train-test-split.\n",
    "    rs        ==> random_state for train_test_split function.\n",
    "    scaler    ==> scaling object used to scale numeric data for x_train and x_test.\n",
    "    \n",
    "    '''\n",
    "    \n",
    "    if(type(x) != type(pd.DataFrame()) and type(x) != type(pd.Series())):\n",
    "        raise TypeError('X must be a Pandas DataFrame or Pandas Series.')\n",
    "\n",
    "    if(type(y) != type(pd.DataFrame()) and type(y) != type(pd.Series())):\n",
    "        raise TypeError('X must be a Pandas DataFrame or Pandas Series.')\n",
    "    \n",
    "\n",
    "    num_cols = x.corr().columns\n",
    "    cat_cols = []\n",
    "    \n",
    "    for col in x.columns:\n",
    "        if col not in num_cols:\n",
    "            cat_cols.append(col)\n",
    "    \n",
    "\n",
    "    x_train, x_test, y_train, y_test = train_test_split(x, y, test_size=test_size, random_state=random_state)\n",
    "    \n",
    "\n",
    "    \n",
    "    try:\n",
    "        x_train_s = pd.DataFrame(scaler.fit_transform(x_train[num_cols]), columns=num_cols)\n",
    "        x_test_s = pd.DataFrame(scaler.fit_transform(x_test[num_cols]), columns=num_cols)\n",
    "\n",
    "        x_train_s = x_train_s.set_index(x_train.index)\n",
    "        x_test_s = x_test_s.set_index(x_test.index)\n",
    "    except AttributeError:\n",
    "        raise TypeError('The type of this scaler is not allowed.')\n",
    "\n",
    "    if encoding is not None:\n",
    "        \n",
    "        x_train_cat = pd.get_dummies(x_train[cat_cols],columns=encoding)\n",
    "        x_test_cat = pd.get_dummies(x_test[cat_cols],columns=encoding)\n",
    "        x_train_final = pd.merge(x_train_s, x_train_cat, left_index=True, right_index=True)\n",
    "        x_test_final = pd.merge(x_test_s, x_test_cat, left_index=True, right_index=True)\n",
    "        \n",
    "        return x_train_final, x_test_final, y_train, y_test\n",
    "\n",
    "    else:\n",
    "\n",
    "        return x_train_s, x_test_s, y_train, y_test\n",
    "    "
   ]
  },
  {
   "cell_type": "code",
   "execution_count": 3,
   "metadata": {
    "ExecuteTime": {
     "end_time": "2020-11-17T19:01:09.321039Z",
     "start_time": "2020-11-17T19:01:09.307419Z"
    }
   },
   "outputs": [
    {
     "data": {
      "text/html": [
       "<style>.container { width:100% !important; }</style>"
      ],
      "text/plain": [
       "<IPython.core.display.HTML object>"
      ]
     },
     "metadata": {},
     "output_type": "display_data"
    }
   ],
   "source": [
    "from IPython.core.display import display, HTML\n",
    "display(HTML(\"<style>.container { width:100% !important; }</style>\"))\n"
   ]
  },
  {
   "cell_type": "code",
   "execution_count": 4,
   "metadata": {
    "ExecuteTime": {
     "end_time": "2020-11-17T19:01:09.345462Z",
     "start_time": "2020-11-17T19:01:09.338440Z"
    }
   },
   "outputs": [],
   "source": [
    "import pandas as pd\n",
    "import numpy as np\n",
    "import matplotlib.pyplot as plt\n",
    "import seaborn as sns\n",
    "from sklearn.model_selection import train_test_split\n",
    "from sklearn.preprocessing import StandardScaler\n",
    "from sklearn.linear_model import LogisticRegression\n",
    "\n",
    "pd.set_option('display.max_columns',45)"
   ]
  },
  {
   "cell_type": "code",
   "execution_count": 5,
   "metadata": {
    "ExecuteTime": {
     "end_time": "2020-11-17T19:01:11.547511Z",
     "start_time": "2020-11-17T19:01:09.363660Z"
    }
   },
   "outputs": [
    {
     "data": {
      "text/html": [
       "<div>\n",
       "<style scoped>\n",
       "    .dataframe tbody tr th:only-of-type {\n",
       "        vertical-align: middle;\n",
       "    }\n",
       "\n",
       "    .dataframe tbody tr th {\n",
       "        vertical-align: top;\n",
       "    }\n",
       "\n",
       "    .dataframe thead th {\n",
       "        text-align: right;\n",
       "    }\n",
       "</style>\n",
       "<table border=\"1\" class=\"dataframe\">\n",
       "  <thead>\n",
       "    <tr style=\"text-align: right;\">\n",
       "      <th></th>\n",
       "      <th>PK</th>\n",
       "      <th>Date</th>\n",
       "      <th>Qdate</th>\n",
       "      <th>Balance</th>\n",
       "      <th>Days Past Due</th>\n",
       "      <th>Past_Due30_59</th>\n",
       "      <th>Past_Due60_89</th>\n",
       "      <th>Past_Due90+</th>\n",
       "      <th>Credit Risk Code</th>\n",
       "      <th>Adversity</th>\n",
       "      <th>QTR_CLOSE</th>\n",
       "      <th>REAL_GDP_GROWTH</th>\n",
       "      <th>NOMINAL_GDP_GROWTH</th>\n",
       "      <th>REAL_DISPOSABLE_INCOME_GROWTH</th>\n",
       "      <th>NOMINAL_DISPOSABLE_INCOME_GROWTH</th>\n",
       "      <th>UNEMPLOYMENT_RATE</th>\n",
       "      <th>CPI_INFLATION_RATE</th>\n",
       "      <th>THREE_MONTH_TREASURY_RATE</th>\n",
       "      <th>FIVE_YEAR_TREASURY_YIELD</th>\n",
       "      <th>TEN_YEAR_TREASURY_YIELD</th>\n",
       "      <th>BBB_CORPORATE_YEILD</th>\n",
       "      <th>MORTGAGE_RATE</th>\n",
       "      <th>PRIME_RATE</th>\n",
       "      <th>DOWJONES_TOTAL_STOCK_MARKET_INDEX</th>\n",
       "      <th>HOUSE_PRICE_INDEX</th>\n",
       "      <th>COMERCIAL_REAL_ESTATE_PRICE_INDEX</th>\n",
       "      <th>MARKET_VOLATILITY_INDEX</th>\n",
       "      <th>EURO_AREA_REAL_GDP_GROWTH</th>\n",
       "      <th>EURO_AREA_INFLATION</th>\n",
       "      <th>EURO_AREA_BILATERAL_DOLLAR_EXCHANGE_RATE</th>\n",
       "      <th>DEVELOPING_ASIA_REAL_GDP_GROWTH</th>\n",
       "      <th>DEVELOPING_ASIA_INFLATION</th>\n",
       "      <th>DEV_ASIA_BILATERAL_DOLLAR_EXCHANGE_RATE</th>\n",
       "      <th>JAPAN_REAL_GDP_GROWTH</th>\n",
       "      <th>JAPAN_INFLATION</th>\n",
       "      <th>JAPAN_BILATERAL_DOLLAR_EXCHANGE_RATE</th>\n",
       "      <th>UK_REAL_GDP_GROWTH</th>\n",
       "      <th>UK_INFLATION</th>\n",
       "      <th>UK_BILATERAL_DOLLAR_EXCHANGE_RATE</th>\n",
       "      <th>Default</th>\n",
       "    </tr>\n",
       "  </thead>\n",
       "  <tbody>\n",
       "    <tr>\n",
       "      <th>0</th>\n",
       "      <td>2</td>\n",
       "      <td>2015-01-31</td>\n",
       "      <td>Q1 2015</td>\n",
       "      <td>7685.03</td>\n",
       "      <td>15</td>\n",
       "      <td>10</td>\n",
       "      <td>5</td>\n",
       "      <td>1</td>\n",
       "      <td>5.0</td>\n",
       "      <td>Historical</td>\n",
       "      <td>2015-03-01</td>\n",
       "      <td>3.2</td>\n",
       "      <td>3.0</td>\n",
       "      <td>4.6</td>\n",
       "      <td>2.8</td>\n",
       "      <td>5.5</td>\n",
       "      <td>-2.6</td>\n",
       "      <td>0.0</td>\n",
       "      <td>1.5</td>\n",
       "      <td>2.0</td>\n",
       "      <td>3.9</td>\n",
       "      <td>3.7</td>\n",
       "      <td>3.3</td>\n",
       "      <td>21708</td>\n",
       "      <td>168</td>\n",
       "      <td>241</td>\n",
       "      <td>22.4</td>\n",
       "      <td>3.0</td>\n",
       "      <td>-0.7</td>\n",
       "      <td>1.074</td>\n",
       "      <td>5.7</td>\n",
       "      <td>0.9</td>\n",
       "      <td>88.1</td>\n",
       "      <td>5.5</td>\n",
       "      <td>0.5</td>\n",
       "      <td>120.0</td>\n",
       "      <td>2.1</td>\n",
       "      <td>-1.1</td>\n",
       "      <td>1.485</td>\n",
       "      <td>1.0</td>\n",
       "    </tr>\n",
       "    <tr>\n",
       "      <th>1</th>\n",
       "      <td>3</td>\n",
       "      <td>2015-01-31</td>\n",
       "      <td>Q1 2015</td>\n",
       "      <td>181479.00</td>\n",
       "      <td>0</td>\n",
       "      <td>0</td>\n",
       "      <td>0</td>\n",
       "      <td>0</td>\n",
       "      <td>3.0</td>\n",
       "      <td>Historical</td>\n",
       "      <td>2015-03-01</td>\n",
       "      <td>3.2</td>\n",
       "      <td>3.0</td>\n",
       "      <td>4.6</td>\n",
       "      <td>2.8</td>\n",
       "      <td>5.5</td>\n",
       "      <td>-2.6</td>\n",
       "      <td>0.0</td>\n",
       "      <td>1.5</td>\n",
       "      <td>2.0</td>\n",
       "      <td>3.9</td>\n",
       "      <td>3.7</td>\n",
       "      <td>3.3</td>\n",
       "      <td>21708</td>\n",
       "      <td>168</td>\n",
       "      <td>241</td>\n",
       "      <td>22.4</td>\n",
       "      <td>3.0</td>\n",
       "      <td>-0.7</td>\n",
       "      <td>1.074</td>\n",
       "      <td>5.7</td>\n",
       "      <td>0.9</td>\n",
       "      <td>88.1</td>\n",
       "      <td>5.5</td>\n",
       "      <td>0.5</td>\n",
       "      <td>120.0</td>\n",
       "      <td>2.1</td>\n",
       "      <td>-1.1</td>\n",
       "      <td>1.485</td>\n",
       "      <td>0.0</td>\n",
       "    </tr>\n",
       "    <tr>\n",
       "      <th>2</th>\n",
       "      <td>4</td>\n",
       "      <td>2015-01-31</td>\n",
       "      <td>Q1 2015</td>\n",
       "      <td>67382.89</td>\n",
       "      <td>0</td>\n",
       "      <td>0</td>\n",
       "      <td>0</td>\n",
       "      <td>0</td>\n",
       "      <td>3.0</td>\n",
       "      <td>Historical</td>\n",
       "      <td>2015-03-01</td>\n",
       "      <td>3.2</td>\n",
       "      <td>3.0</td>\n",
       "      <td>4.6</td>\n",
       "      <td>2.8</td>\n",
       "      <td>5.5</td>\n",
       "      <td>-2.6</td>\n",
       "      <td>0.0</td>\n",
       "      <td>1.5</td>\n",
       "      <td>2.0</td>\n",
       "      <td>3.9</td>\n",
       "      <td>3.7</td>\n",
       "      <td>3.3</td>\n",
       "      <td>21708</td>\n",
       "      <td>168</td>\n",
       "      <td>241</td>\n",
       "      <td>22.4</td>\n",
       "      <td>3.0</td>\n",
       "      <td>-0.7</td>\n",
       "      <td>1.074</td>\n",
       "      <td>5.7</td>\n",
       "      <td>0.9</td>\n",
       "      <td>88.1</td>\n",
       "      <td>5.5</td>\n",
       "      <td>0.5</td>\n",
       "      <td>120.0</td>\n",
       "      <td>2.1</td>\n",
       "      <td>-1.1</td>\n",
       "      <td>1.485</td>\n",
       "      <td>0.0</td>\n",
       "    </tr>\n",
       "    <tr>\n",
       "      <th>3</th>\n",
       "      <td>5</td>\n",
       "      <td>2015-01-31</td>\n",
       "      <td>Q1 2015</td>\n",
       "      <td>115580.00</td>\n",
       "      <td>0</td>\n",
       "      <td>0</td>\n",
       "      <td>0</td>\n",
       "      <td>0</td>\n",
       "      <td>1.0</td>\n",
       "      <td>Historical</td>\n",
       "      <td>2015-03-01</td>\n",
       "      <td>3.2</td>\n",
       "      <td>3.0</td>\n",
       "      <td>4.6</td>\n",
       "      <td>2.8</td>\n",
       "      <td>5.5</td>\n",
       "      <td>-2.6</td>\n",
       "      <td>0.0</td>\n",
       "      <td>1.5</td>\n",
       "      <td>2.0</td>\n",
       "      <td>3.9</td>\n",
       "      <td>3.7</td>\n",
       "      <td>3.3</td>\n",
       "      <td>21708</td>\n",
       "      <td>168</td>\n",
       "      <td>241</td>\n",
       "      <td>22.4</td>\n",
       "      <td>3.0</td>\n",
       "      <td>-0.7</td>\n",
       "      <td>1.074</td>\n",
       "      <td>5.7</td>\n",
       "      <td>0.9</td>\n",
       "      <td>88.1</td>\n",
       "      <td>5.5</td>\n",
       "      <td>0.5</td>\n",
       "      <td>120.0</td>\n",
       "      <td>2.1</td>\n",
       "      <td>-1.1</td>\n",
       "      <td>1.485</td>\n",
       "      <td>0.0</td>\n",
       "    </tr>\n",
       "    <tr>\n",
       "      <th>4</th>\n",
       "      <td>6</td>\n",
       "      <td>2015-01-31</td>\n",
       "      <td>Q1 2015</td>\n",
       "      <td>111445.00</td>\n",
       "      <td>0</td>\n",
       "      <td>0</td>\n",
       "      <td>0</td>\n",
       "      <td>0</td>\n",
       "      <td>1.0</td>\n",
       "      <td>Historical</td>\n",
       "      <td>2015-03-01</td>\n",
       "      <td>3.2</td>\n",
       "      <td>3.0</td>\n",
       "      <td>4.6</td>\n",
       "      <td>2.8</td>\n",
       "      <td>5.5</td>\n",
       "      <td>-2.6</td>\n",
       "      <td>0.0</td>\n",
       "      <td>1.5</td>\n",
       "      <td>2.0</td>\n",
       "      <td>3.9</td>\n",
       "      <td>3.7</td>\n",
       "      <td>3.3</td>\n",
       "      <td>21708</td>\n",
       "      <td>168</td>\n",
       "      <td>241</td>\n",
       "      <td>22.4</td>\n",
       "      <td>3.0</td>\n",
       "      <td>-0.7</td>\n",
       "      <td>1.074</td>\n",
       "      <td>5.7</td>\n",
       "      <td>0.9</td>\n",
       "      <td>88.1</td>\n",
       "      <td>5.5</td>\n",
       "      <td>0.5</td>\n",
       "      <td>120.0</td>\n",
       "      <td>2.1</td>\n",
       "      <td>-1.1</td>\n",
       "      <td>1.485</td>\n",
       "      <td>0.0</td>\n",
       "    </tr>\n",
       "  </tbody>\n",
       "</table>\n",
       "</div>"
      ],
      "text/plain": [
       "   PK        Date    Qdate    Balance  Days Past Due  Past_Due30_59  \\\n",
       "0   2  2015-01-31  Q1 2015    7685.03             15             10   \n",
       "1   3  2015-01-31  Q1 2015  181479.00              0              0   \n",
       "2   4  2015-01-31  Q1 2015   67382.89              0              0   \n",
       "3   5  2015-01-31  Q1 2015  115580.00              0              0   \n",
       "4   6  2015-01-31  Q1 2015  111445.00              0              0   \n",
       "\n",
       "   Past_Due60_89  Past_Due90+ Credit Risk Code   Adversity   QTR_CLOSE  \\\n",
       "0              5            1              5.0  Historical  2015-03-01   \n",
       "1              0            0              3.0  Historical  2015-03-01   \n",
       "2              0            0              3.0  Historical  2015-03-01   \n",
       "3              0            0              1.0  Historical  2015-03-01   \n",
       "4              0            0              1.0  Historical  2015-03-01   \n",
       "\n",
       "   REAL_GDP_GROWTH  NOMINAL_GDP_GROWTH  REAL_DISPOSABLE_INCOME_GROWTH  \\\n",
       "0              3.2                 3.0                            4.6   \n",
       "1              3.2                 3.0                            4.6   \n",
       "2              3.2                 3.0                            4.6   \n",
       "3              3.2                 3.0                            4.6   \n",
       "4              3.2                 3.0                            4.6   \n",
       "\n",
       "   NOMINAL_DISPOSABLE_INCOME_GROWTH  UNEMPLOYMENT_RATE  CPI_INFLATION_RATE  \\\n",
       "0                               2.8                5.5                -2.6   \n",
       "1                               2.8                5.5                -2.6   \n",
       "2                               2.8                5.5                -2.6   \n",
       "3                               2.8                5.5                -2.6   \n",
       "4                               2.8                5.5                -2.6   \n",
       "\n",
       "   THREE_MONTH_TREASURY_RATE  FIVE_YEAR_TREASURY_YIELD  \\\n",
       "0                        0.0                       1.5   \n",
       "1                        0.0                       1.5   \n",
       "2                        0.0                       1.5   \n",
       "3                        0.0                       1.5   \n",
       "4                        0.0                       1.5   \n",
       "\n",
       "   TEN_YEAR_TREASURY_YIELD  BBB_CORPORATE_YEILD  MORTGAGE_RATE  PRIME_RATE  \\\n",
       "0                      2.0                  3.9            3.7         3.3   \n",
       "1                      2.0                  3.9            3.7         3.3   \n",
       "2                      2.0                  3.9            3.7         3.3   \n",
       "3                      2.0                  3.9            3.7         3.3   \n",
       "4                      2.0                  3.9            3.7         3.3   \n",
       "\n",
       "   DOWJONES_TOTAL_STOCK_MARKET_INDEX  HOUSE_PRICE_INDEX  \\\n",
       "0                              21708                168   \n",
       "1                              21708                168   \n",
       "2                              21708                168   \n",
       "3                              21708                168   \n",
       "4                              21708                168   \n",
       "\n",
       "   COMERCIAL_REAL_ESTATE_PRICE_INDEX  MARKET_VOLATILITY_INDEX  \\\n",
       "0                                241                     22.4   \n",
       "1                                241                     22.4   \n",
       "2                                241                     22.4   \n",
       "3                                241                     22.4   \n",
       "4                                241                     22.4   \n",
       "\n",
       "   EURO_AREA_REAL_GDP_GROWTH  EURO_AREA_INFLATION  \\\n",
       "0                        3.0                 -0.7   \n",
       "1                        3.0                 -0.7   \n",
       "2                        3.0                 -0.7   \n",
       "3                        3.0                 -0.7   \n",
       "4                        3.0                 -0.7   \n",
       "\n",
       "   EURO_AREA_BILATERAL_DOLLAR_EXCHANGE_RATE  DEVELOPING_ASIA_REAL_GDP_GROWTH  \\\n",
       "0                                     1.074                              5.7   \n",
       "1                                     1.074                              5.7   \n",
       "2                                     1.074                              5.7   \n",
       "3                                     1.074                              5.7   \n",
       "4                                     1.074                              5.7   \n",
       "\n",
       "   DEVELOPING_ASIA_INFLATION  DEV_ASIA_BILATERAL_DOLLAR_EXCHANGE_RATE  \\\n",
       "0                        0.9                                     88.1   \n",
       "1                        0.9                                     88.1   \n",
       "2                        0.9                                     88.1   \n",
       "3                        0.9                                     88.1   \n",
       "4                        0.9                                     88.1   \n",
       "\n",
       "   JAPAN_REAL_GDP_GROWTH  JAPAN_INFLATION  \\\n",
       "0                    5.5              0.5   \n",
       "1                    5.5              0.5   \n",
       "2                    5.5              0.5   \n",
       "3                    5.5              0.5   \n",
       "4                    5.5              0.5   \n",
       "\n",
       "   JAPAN_BILATERAL_DOLLAR_EXCHANGE_RATE  UK_REAL_GDP_GROWTH  UK_INFLATION  \\\n",
       "0                                 120.0                 2.1          -1.1   \n",
       "1                                 120.0                 2.1          -1.1   \n",
       "2                                 120.0                 2.1          -1.1   \n",
       "3                                 120.0                 2.1          -1.1   \n",
       "4                                 120.0                 2.1          -1.1   \n",
       "\n",
       "   UK_BILATERAL_DOLLAR_EXCHANGE_RATE  Default  \n",
       "0                              1.485      1.0  \n",
       "1                              1.485      0.0  \n",
       "2                              1.485      0.0  \n",
       "3                              1.485      0.0  \n",
       "4                              1.485      0.0  "
      ]
     },
     "execution_count": 5,
     "metadata": {},
     "output_type": "execute_result"
    }
   ],
   "source": [
    "df = pd.read_csv(r'final.csv',index_col=0)\n",
    "df = df[df['Credit Risk Code'].notna()]\n",
    "df['Credit Risk Code'] = df['Credit Risk Code'].astype(str)\n",
    "\n",
    "\n",
    "df.head()"
   ]
  },
  {
   "cell_type": "code",
   "execution_count": 6,
   "metadata": {
    "ExecuteTime": {
     "end_time": "2020-11-17T19:01:11.799358Z",
     "start_time": "2020-11-17T19:01:11.647105Z"
    }
   },
   "outputs": [],
   "source": [
    "X = df.drop(columns=['PK','Default'])\n",
    "Y = df['Default']"
   ]
  },
  {
   "cell_type": "code",
   "execution_count": 7,
   "metadata": {
    "ExecuteTime": {
     "end_time": "2020-11-17T19:01:14.745668Z",
     "start_time": "2020-11-17T19:01:11.994786Z"
    },
    "scrolled": true
   },
   "outputs": [
    {
     "name": "stderr",
     "output_type": "stream",
     "text": [
      "C:\\ProgramData\\Anaconda3\\lib\\site-packages\\ipykernel_launcher.py:19: DeprecationWarning: The default dtype for empty Series will be 'object' instead of 'float64' in a future version. Specify a dtype explicitly to silence this warning.\n"
     ]
    }
   ],
   "source": [
    "x_train, x_test, y_train, y_test = tts_scale(X, Y, StandardScaler(), encoding=['Credit Risk Code'], test_size=0.3, random_state=42)"
   ]
  },
  {
   "cell_type": "markdown",
   "metadata": {},
   "source": [
    "## Decision Tree"
   ]
  },
  {
   "cell_type": "code",
   "execution_count": 8,
   "metadata": {
    "ExecuteTime": {
     "end_time": "2020-11-17T19:01:26.507748Z",
     "start_time": "2020-11-17T19:01:26.426737Z"
    }
   },
   "outputs": [],
   "source": [
    "x_train = x_train.drop(columns=['Adversity','QTR_CLOSE','Qdate','Past_Due90+']) #have to drop pastdue90+ - getting 100%\n",
    "x_test = x_test.drop(columns=['Adversity','QTR_CLOSE','Qdate','Past_Due90+'])"
   ]
  },
  {
   "cell_type": "code",
   "execution_count": 9,
   "metadata": {
    "ExecuteTime": {
     "end_time": "2020-11-17T19:01:26.936155Z",
     "start_time": "2020-11-17T19:01:26.848485Z"
    }
   },
   "outputs": [],
   "source": [
    "x_train = x_train.set_index(['Date'])\n",
    "x_test = x_test.set_index(['Date'])"
   ]
  },
  {
   "cell_type": "code",
   "execution_count": 10,
   "metadata": {
    "ExecuteTime": {
     "end_time": "2020-11-17T19:01:27.383828Z",
     "start_time": "2020-11-17T19:01:27.289138Z"
    }
   },
   "outputs": [],
   "source": [
    "X = pd.concat([x_train,x_test])"
   ]
  },
  {
   "cell_type": "code",
   "execution_count": null,
   "metadata": {},
   "outputs": [],
   "source": []
  },
  {
   "cell_type": "code",
   "execution_count": 12,
   "metadata": {
    "ExecuteTime": {
     "end_time": "2020-11-17T19:03:23.827963Z",
     "start_time": "2020-11-17T19:03:23.819266Z"
    }
   },
   "outputs": [],
   "source": [
    "dtree = DecisionTreeClassifier()"
   ]
  },
  {
   "cell_type": "code",
   "execution_count": 13,
   "metadata": {
    "ExecuteTime": {
     "end_time": "2020-11-17T19:03:41.812074Z",
     "start_time": "2020-11-17T19:03:38.377127Z"
    }
   },
   "outputs": [
    {
     "data": {
      "text/plain": [
       "DecisionTreeClassifier()"
      ]
     },
     "execution_count": 13,
     "metadata": {},
     "output_type": "execute_result"
    }
   ],
   "source": [
    "dtree.fit(x_train, y_train)"
   ]
  },
  {
   "cell_type": "code",
   "execution_count": 14,
   "metadata": {
    "ExecuteTime": {
     "end_time": "2020-11-17T19:03:50.228851Z",
     "start_time": "2020-11-17T19:03:50.163116Z"
    }
   },
   "outputs": [],
   "source": [
    "predictions = dtree.predict(x_test)"
   ]
  },
  {
   "cell_type": "code",
   "execution_count": 15,
   "metadata": {
    "ExecuteTime": {
     "end_time": "2020-11-17T19:04:03.095996Z",
     "start_time": "2020-11-17T19:04:02.816125Z"
    }
   },
   "outputs": [
    {
     "name": "stdout",
     "output_type": "stream",
     "text": [
      "              precision    recall  f1-score   support\n",
      "\n",
      "         0.0       0.99      0.99      0.99     73346\n",
      "         1.0       0.89      0.89      0.89      6064\n",
      "\n",
      "    accuracy                           0.98     79410\n",
      "   macro avg       0.94      0.94      0.94     79410\n",
      "weighted avg       0.98      0.98      0.98     79410\n",
      "\n"
     ]
    }
   ],
   "source": [
    "print(classification_report(y_test, predictions))"
   ]
  },
  {
   "cell_type": "code",
   "execution_count": 16,
   "metadata": {
    "ExecuteTime": {
     "end_time": "2020-11-17T19:04:21.186396Z",
     "start_time": "2020-11-17T19:04:21.080364Z"
    }
   },
   "outputs": [
    {
     "name": "stdout",
     "output_type": "stream",
     "text": [
      "[[72670   676]\n",
      " [  687  5377]]\n"
     ]
    }
   ],
   "source": [
    "print(confusion_matrix(y_test, predictions))"
   ]
  },
  {
   "cell_type": "markdown",
   "metadata": {},
   "source": [
    "## Decision Tree Bagging"
   ]
  },
  {
   "cell_type": "code",
   "execution_count": 19,
   "metadata": {
    "ExecuteTime": {
     "end_time": "2020-11-17T19:12:57.919939Z",
     "start_time": "2020-11-17T19:12:57.914293Z"
    }
   },
   "outputs": [],
   "source": [
    "bag_clf = BaggingClassifier(DecisionTreeClassifier(random_state=42), n_estimators=500, #500 decision trees\n",
    "                           max_samples=100, bootstrap=True, n_jobs=-1, random_state=42) #100 samples for each decision tree, bootstrap: with replacement, n_jobs- how many cores to use"
   ]
  },
  {
   "cell_type": "code",
   "execution_count": 20,
   "metadata": {
    "ExecuteTime": {
     "end_time": "2020-11-17T19:13:43.633470Z",
     "start_time": "2020-11-17T19:13:19.747499Z"
    }
   },
   "outputs": [
    {
     "data": {
      "text/plain": [
       "BaggingClassifier(base_estimator=DecisionTreeClassifier(random_state=42),\n",
       "                  max_samples=100, n_estimators=500, n_jobs=-1,\n",
       "                  random_state=42)"
      ]
     },
     "execution_count": 20,
     "metadata": {},
     "output_type": "execute_result"
    }
   ],
   "source": [
    "bag_clf.fit(x_train, y_train)"
   ]
  },
  {
   "cell_type": "code",
   "execution_count": 21,
   "metadata": {
    "ExecuteTime": {
     "end_time": "2020-11-17T19:13:54.671261Z",
     "start_time": "2020-11-17T19:13:46.523184Z"
    }
   },
   "outputs": [],
   "source": [
    "y_pred=bag_clf.predict(x_test)"
   ]
  },
  {
   "cell_type": "code",
   "execution_count": 22,
   "metadata": {
    "ExecuteTime": {
     "end_time": "2020-11-17T19:14:02.107484Z",
     "start_time": "2020-11-17T19:14:02.088979Z"
    }
   },
   "outputs": [
    {
     "name": "stdout",
     "output_type": "stream",
     "text": [
      "0.9629895479158797\n"
     ]
    }
   ],
   "source": [
    "print(accuracy_score(y_test, y_pred))"
   ]
  },
  {
   "cell_type": "code",
   "execution_count": 24,
   "metadata": {
    "ExecuteTime": {
     "end_time": "2020-11-17T19:14:23.230779Z",
     "start_time": "2020-11-17T19:14:22.966425Z"
    }
   },
   "outputs": [
    {
     "name": "stdout",
     "output_type": "stream",
     "text": [
      "              precision    recall  f1-score   support\n",
      "\n",
      "         0.0       0.98      0.98      0.98     73346\n",
      "         1.0       0.77      0.73      0.75      6064\n",
      "\n",
      "    accuracy                           0.96     79410\n",
      "   macro avg       0.88      0.86      0.87     79410\n",
      "weighted avg       0.96      0.96      0.96     79410\n",
      "\n"
     ]
    }
   ],
   "source": [
    "print(classification_report(y_test,y_pred))"
   ]
  },
  {
   "cell_type": "markdown",
   "metadata": {},
   "source": [
    "## Random Forest"
   ]
  },
  {
   "cell_type": "code",
   "execution_count": 26,
   "metadata": {
    "ExecuteTime": {
     "end_time": "2020-11-17T19:18:12.816486Z",
     "start_time": "2020-11-17T19:17:12.404791Z"
    }
   },
   "outputs": [
    {
     "data": {
      "text/plain": [
       "RandomForestClassifier(n_estimators=500, n_jobs=-1, random_state=42)"
      ]
     },
     "execution_count": 26,
     "metadata": {},
     "output_type": "execute_result"
    }
   ],
   "source": [
    "rnd_clf = RandomForestClassifier(n_estimators=500, n_jobs=-1, random_state=42)\n",
    "rnd_clf.fit(x_train, y_train)"
   ]
  },
  {
   "cell_type": "code",
   "execution_count": 27,
   "metadata": {
    "ExecuteTime": {
     "end_time": "2020-11-17T19:18:15.575505Z",
     "start_time": "2020-11-17T19:18:13.175023Z"
    }
   },
   "outputs": [],
   "source": [
    "y_pred_rf = rnd_clf.predict(x_test)"
   ]
  },
  {
   "cell_type": "code",
   "execution_count": 29,
   "metadata": {
    "ExecuteTime": {
     "end_time": "2020-11-17T19:18:18.980824Z",
     "start_time": "2020-11-17T19:18:18.684133Z"
    }
   },
   "outputs": [
    {
     "name": "stdout",
     "output_type": "stream",
     "text": [
      "              precision    recall  f1-score   support\n",
      "\n",
      "         0.0       0.99      0.99      0.99     73346\n",
      "         1.0       0.89      0.90      0.89      6064\n",
      "\n",
      "    accuracy                           0.98     79410\n",
      "   macro avg       0.94      0.95      0.94     79410\n",
      "weighted avg       0.98      0.98      0.98     79410\n",
      "\n"
     ]
    }
   ],
   "source": [
    "print(classification_report(y_test, y_pred_rf))"
   ]
  },
  {
   "cell_type": "code",
   "execution_count": 31,
   "metadata": {
    "ExecuteTime": {
     "end_time": "2020-11-17T19:18:26.185443Z",
     "start_time": "2020-11-17T19:18:26.165265Z"
    }
   },
   "outputs": [
    {
     "name": "stdout",
     "output_type": "stream",
     "text": [
      "0.9837929731771817\n"
     ]
    }
   ],
   "source": [
    "print(accuracy_score(y_test, y_pred_rf))"
   ]
  },
  {
   "cell_type": "markdown",
   "metadata": {},
   "source": [
    "## Random Forest Adaboost "
   ]
  },
  {
   "cell_type": "code",
   "execution_count": 32,
   "metadata": {
    "ExecuteTime": {
     "end_time": "2020-11-17T19:21:17.607693Z",
     "start_time": "2020-11-17T19:20:27.649404Z"
    }
   },
   "outputs": [
    {
     "data": {
      "text/plain": [
       "AdaBoostClassifier(base_estimator=DecisionTreeClassifier(max_depth=1),\n",
       "                   learning_rate=0.25, n_estimators=100, random_state=42)"
      ]
     },
     "execution_count": 32,
     "metadata": {},
     "output_type": "execute_result"
    }
   ],
   "source": [
    "ada_clf = AdaBoostClassifier(DecisionTreeClassifier(max_depth=1), n_estimators=100, algorithm=\"SAMME.R\", learning_rate=0.25, random_state=42)\n",
    "ada_clf.fit(x_train, y_train)"
   ]
  },
  {
   "cell_type": "code",
   "execution_count": 33,
   "metadata": {
    "ExecuteTime": {
     "end_time": "2020-11-17T19:21:20.312848Z",
     "start_time": "2020-11-17T19:21:17.928560Z"
    }
   },
   "outputs": [],
   "source": [
    "y_pred_ada = rnd_clf.predict(x_test)"
   ]
  },
  {
   "cell_type": "code",
   "execution_count": 34,
   "metadata": {
    "ExecuteTime": {
     "end_time": "2020-11-17T19:21:21.150786Z",
     "start_time": "2020-11-17T19:21:20.829334Z"
    }
   },
   "outputs": [
    {
     "name": "stdout",
     "output_type": "stream",
     "text": [
      "              precision    recall  f1-score   support\n",
      "\n",
      "         0.0       0.99      0.99      0.99     73346\n",
      "         1.0       0.89      0.90      0.89      6064\n",
      "\n",
      "    accuracy                           0.98     79410\n",
      "   macro avg       0.94      0.95      0.94     79410\n",
      "weighted avg       0.98      0.98      0.98     79410\n",
      "\n"
     ]
    }
   ],
   "source": [
    "print(classification_report(y_test, y_pred_ada))"
   ]
  },
  {
   "cell_type": "markdown",
   "metadata": {},
   "source": [
    "## Linear Discriminant Analysis "
   ]
  },
  {
   "cell_type": "code",
   "execution_count": 43,
   "metadata": {
    "ExecuteTime": {
     "end_time": "2020-11-17T19:25:26.726677Z",
     "start_time": "2020-11-17T19:25:24.096126Z"
    }
   },
   "outputs": [
    {
     "data": {
      "text/plain": [
       "LinearDiscriminantAnalysis(priors=[0.4, 0.6])"
      ]
     },
     "execution_count": 43,
     "metadata": {},
     "output_type": "execute_result"
    }
   ],
   "source": [
    "clf = LinearDiscriminantAnalysis(priors=[.4,.6])\n",
    "clf.fit(x_train, y_train)"
   ]
  },
  {
   "cell_type": "code",
   "execution_count": 44,
   "metadata": {
    "ExecuteTime": {
     "end_time": "2020-11-17T19:25:27.136450Z",
     "start_time": "2020-11-17T19:25:27.076632Z"
    }
   },
   "outputs": [],
   "source": [
    "y_pred= clf.predict(x_test)"
   ]
  },
  {
   "cell_type": "code",
   "execution_count": 45,
   "metadata": {
    "ExecuteTime": {
     "end_time": "2020-11-17T19:25:27.829880Z",
     "start_time": "2020-11-17T19:25:27.509584Z"
    }
   },
   "outputs": [
    {
     "name": "stdout",
     "output_type": "stream",
     "text": [
      "              precision    recall  f1-score   support\n",
      "\n",
      "         0.0       0.99      0.95      0.97     73346\n",
      "         1.0       0.59      0.90      0.71      6064\n",
      "\n",
      "    accuracy                           0.94     79410\n",
      "   macro avg       0.79      0.92      0.84     79410\n",
      "weighted avg       0.96      0.94      0.95     79410\n",
      "\n"
     ]
    }
   ],
   "source": [
    "print(classification_report(y_test, y_pred))"
   ]
  },
  {
   "cell_type": "code",
   "execution_count": null,
   "metadata": {},
   "outputs": [],
   "source": [
    "#78% recall on default when don't adjust the priors "
   ]
  },
  {
   "cell_type": "code",
   "execution_count": 46,
   "metadata": {
    "ExecuteTime": {
     "end_time": "2020-11-17T19:25:47.708312Z",
     "start_time": "2020-11-17T19:25:47.610775Z"
    }
   },
   "outputs": [
    {
     "name": "stdout",
     "output_type": "stream",
     "text": [
      "[[69540  3806]\n",
      " [  625  5439]]\n"
     ]
    }
   ],
   "source": [
    "print(confusion_matrix(y_test, y_pred))"
   ]
  },
  {
   "cell_type": "code",
   "execution_count": null,
   "metadata": {},
   "outputs": [],
   "source": []
  }
 ],
 "metadata": {
  "hide_input": false,
  "kernelspec": {
   "display_name": "Python 3",
   "language": "python",
   "name": "python3"
  },
  "language_info": {
   "codemirror_mode": {
    "name": "ipython",
    "version": 3
   },
   "file_extension": ".py",
   "mimetype": "text/x-python",
   "name": "python",
   "nbconvert_exporter": "python",
   "pygments_lexer": "ipython3",
   "version": "3.7.3"
  },
  "toc": {
   "base_numbering": 1,
   "nav_menu": {},
   "number_sections": true,
   "sideBar": true,
   "skip_h1_title": false,
   "title_cell": "Table of Contents",
   "title_sidebar": "Contents",
   "toc_cell": false,
   "toc_position": {},
   "toc_section_display": true,
   "toc_window_display": false
  },
  "varInspector": {
   "cols": {
    "lenName": 16,
    "lenType": 16,
    "lenVar": 40
   },
   "kernels_config": {
    "python": {
     "delete_cmd_postfix": "",
     "delete_cmd_prefix": "del ",
     "library": "var_list.py",
     "varRefreshCmd": "print(var_dic_list())"
    },
    "r": {
     "delete_cmd_postfix": ") ",
     "delete_cmd_prefix": "rm(",
     "library": "var_list.r",
     "varRefreshCmd": "cat(var_dic_list()) "
    }
   },
   "types_to_exclude": [
    "module",
    "function",
    "builtin_function_or_method",
    "instance",
    "_Feature"
   ],
   "window_display": false
  }
 },
 "nbformat": 4,
 "nbformat_minor": 2
}
