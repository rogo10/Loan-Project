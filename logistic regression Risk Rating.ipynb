{
 "cells": [
  {
   "cell_type": "code",
   "execution_count": 83,
   "metadata": {
    "ExecuteTime": {
     "end_time": "2020-11-10T20:40:16.102327Z",
     "start_time": "2020-11-10T20:40:16.098336Z"
    }
   },
   "outputs": [],
   "source": [
    "from sklearn.model_selection import train_test_split\n",
    "from sklearn.preprocessing import StandardScaler\n",
    "import pandas as pd\n",
    "import numpy as np\n",
    "\n",
    "from sklearn.linear_model import LogisticRegression\n",
    "from sklearn.model_selection import GridSearchCV\n",
    "from sklearn.metrics import classification_report,confusion_matrix\n",
    "\n",
    "import seaborn as sns\n",
    "#import maplotlib.pyplot as plt"
   ]
  },
  {
   "cell_type": "code",
   "execution_count": 84,
   "metadata": {
    "ExecuteTime": {
     "end_time": "2020-11-10T20:40:16.293211Z",
     "start_time": "2020-11-10T20:40:16.284234Z"
    }
   },
   "outputs": [],
   "source": [
    "\n",
    "\n",
    "def tts_scale(x, y, scaler, encoding=None, test_size=None, random_state=None):\n",
    "    '''\n",
    "    Helper function to correctly train-test-split, scale numerical columns, and one-hot-encode categorical features.\n",
    "    Will return x_train, x_test, y_train, y_test.\n",
    "    \n",
    "    Parameters:\n",
    "    x         ==> input variables from dataframe.\n",
    "    y         ==> target variable from dataframe.\n",
    "    encoding  ==> iterable of columns from dataframe to be one-hot-encoded.\n",
    "    ts        ==> test size from train-test-split.\n",
    "    rs        ==> random_state for train_test_split function.\n",
    "    scaler    ==> scaling object used to scale numeric data for x_train and x_test.\n",
    "    \n",
    "    '''\n",
    "    \n",
    "    if(type(x) != type(pd.DataFrame()) and type(x) != type(pd.Series())):\n",
    "        raise TypeError('X must be a Pandas DataFrame or Pandas Series.')\n",
    "\n",
    "    if(type(y) != type(pd.DataFrame()) and type(y) != type(pd.Series())):\n",
    "        raise TypeError('X must be a Pandas DataFrame or Pandas Series.')\n",
    "    \n",
    "\n",
    "    num_cols = x.corr().columns\n",
    "    cat_cols = []\n",
    "    \n",
    "    for col in x.columns:\n",
    "        if col not in num_cols:\n",
    "            cat_cols.append(col)\n",
    "    \n",
    "\n",
    "    x_train, x_test, y_train, y_test = train_test_split(x, y, test_size=test_size, random_state=random_state)\n",
    "    \n",
    "\n",
    "    \n",
    "    try:\n",
    "        x_train_s = pd.DataFrame(scaler.fit_transform(x_train[num_cols]), columns=num_cols)\n",
    "        x_test_s = pd.DataFrame(scaler.fit_transform(x_test[num_cols]), columns=num_cols)\n",
    "\n",
    "        x_train_s = x_train_s.set_index(x_train.index)\n",
    "        x_test_s = x_test_s.set_index(x_test.index)\n",
    "    except AttributeError:\n",
    "        raise TypeError('The type of this scaler is not allowed.')\n",
    "\n",
    "    if encoding is not None:\n",
    "        \n",
    "        x_train_cat = pd.get_dummies(x_train[cat_cols],columns=encoding)\n",
    "        x_test_cat = pd.get_dummies(x_test[cat_cols],columns=encoding)\n",
    "        x_train_final = pd.merge(x_train_s, x_train_cat, left_index=True, right_index=True)\n",
    "        x_test_final = pd.merge(x_test_s, x_test_cat, left_index=True, right_index=True)\n",
    "        \n",
    "        return x_train_final, x_test_final, y_train, y_test\n",
    "\n",
    "    else:\n",
    "\n",
    "        return x_train_s, x_test_s, y_train, y_test\n",
    "    "
   ]
  },
  {
   "cell_type": "code",
   "execution_count": 85,
   "metadata": {
    "ExecuteTime": {
     "end_time": "2020-11-10T20:40:16.440919Z",
     "start_time": "2020-11-10T20:40:16.435930Z"
    }
   },
   "outputs": [
    {
     "data": {
      "text/html": [
       "<style>.container { width:100% !important; }</style>"
      ],
      "text/plain": [
       "<IPython.core.display.HTML object>"
      ]
     },
     "metadata": {},
     "output_type": "display_data"
    }
   ],
   "source": [
    "from IPython.core.display import display, HTML\n",
    "display(HTML(\"<style>.container { width:100% !important; }</style>\"))\n"
   ]
  },
  {
   "cell_type": "code",
   "execution_count": 86,
   "metadata": {
    "ExecuteTime": {
     "end_time": "2020-11-10T20:40:16.589528Z",
     "start_time": "2020-11-10T20:40:16.584542Z"
    }
   },
   "outputs": [],
   "source": [
    "import pandas as pd\n",
    "import numpy as np\n",
    "import matplotlib.pyplot as plt\n",
    "import seaborn as sns\n",
    "from sklearn.model_selection import train_test_split\n",
    "from sklearn.preprocessing import StandardScaler\n",
    "from sklearn.linear_model import LogisticRegression\n",
    "\n",
    "pd.set_option('display.max_columns',45)"
   ]
  },
  {
   "cell_type": "code",
   "execution_count": 87,
   "metadata": {
    "ExecuteTime": {
     "end_time": "2020-11-10T20:40:17.772064Z",
     "start_time": "2020-11-10T20:40:16.737410Z"
    },
    "scrolled": true
   },
   "outputs": [],
   "source": [
    "df = pd.read_csv(r'final.csv',index_col=0)\n",
    "df = df[df['Credit Risk Code'].notna()]\n",
    "df['Credit Risk Code'] = df['Credit Risk Code'].astype(str)"
   ]
  },
  {
   "cell_type": "markdown",
   "metadata": {
    "ExecuteTime": {
     "end_time": "2020-11-10T20:00:20.817586Z",
     "start_time": "2020-11-10T20:00:20.814631Z"
    }
   },
   "source": [
    "#### Drop Credit Risk Codes 4.5 and 6.5"
   ]
  },
  {
   "cell_type": "code",
   "execution_count": 88,
   "metadata": {
    "ExecuteTime": {
     "end_time": "2020-11-10T20:40:18.112802Z",
     "start_time": "2020-11-10T20:40:17.927283Z"
    }
   },
   "outputs": [],
   "source": [
    "df = df[df['Credit Risk Code']!= '4.5']\n",
    "df = df[df['Credit Risk Code']!= '6.5']"
   ]
  },
  {
   "cell_type": "markdown",
   "metadata": {
    "ExecuteTime": {
     "end_time": "2020-11-10T20:14:49.416798Z",
     "start_time": "2020-11-10T20:14:49.412809Z"
    }
   },
   "source": [
    "#### Make Binned Risk Ratings - \"Risk\""
   ]
  },
  {
   "cell_type": "code",
   "execution_count": 89,
   "metadata": {
    "ExecuteTime": {
     "end_time": "2020-11-10T20:40:18.378525Z",
     "start_time": "2020-11-10T20:40:18.253799Z"
    }
   },
   "outputs": [],
   "source": [
    "df.loc[df['Credit Risk Code'].isin(['1.0','2.0','3.0']), 'Risk'] = -1\n",
    "df.loc[df['Credit Risk Code'].isin(['4.0','5.0','6.0','7.0']), 'Risk'] = 0\n",
    "df.loc[df['Credit Risk Code'].isin(['8.0','9.0','10.0']), 'Risk'] = 1"
   ]
  },
  {
   "cell_type": "code",
   "execution_count": 90,
   "metadata": {
    "ExecuteTime": {
     "end_time": "2020-11-10T20:40:18.567727Z",
     "start_time": "2020-11-10T20:40:18.522080Z"
    }
   },
   "outputs": [],
   "source": [
    "X = df.drop(columns=['PK','Credit Risk Code','Default','Qdate','Risk','Adversity','QTR_CLOSE'])\n",
    "Y = df['Risk']"
   ]
  },
  {
   "cell_type": "code",
   "execution_count": 91,
   "metadata": {
    "ExecuteTime": {
     "end_time": "2020-11-10T20:40:19.916110Z",
     "start_time": "2020-11-10T20:40:18.714332Z"
    },
    "scrolled": false
   },
   "outputs": [
    {
     "name": "stderr",
     "output_type": "stream",
     "text": [
      "C:\\ProgramData\\Anaconda3\\lib\\site-packages\\ipykernel_launcher.py:19: DeprecationWarning: The default dtype for empty Series will be 'object' instead of 'float64' in a future version. Specify a dtype explicitly to silence this warning.\n"
     ]
    }
   ],
   "source": [
    "x_train, x_test, y_train, y_test = tts_scale(X, Y, StandardScaler(), encoding=[], test_size=0.3, random_state=42)"
   ]
  },
  {
   "cell_type": "markdown",
   "metadata": {},
   "source": [
    "## Logistic Regression"
   ]
  },
  {
   "cell_type": "code",
   "execution_count": 92,
   "metadata": {
    "ExecuteTime": {
     "end_time": "2020-11-10T20:40:20.067979Z",
     "start_time": "2020-11-10T20:40:20.063988Z"
    }
   },
   "outputs": [],
   "source": [
    "#x_train = x_train.drop(columns=['Adversity','QTR_CLOSE','Qdate','Past_Due90+']) #have to drop pastdue90+ - getting 100%\n",
    "#x_test = x_test.drop(columns=['Adversity','QTR_CLOSE','Qdate','Past_Due90+'])"
   ]
  },
  {
   "cell_type": "code",
   "execution_count": 93,
   "metadata": {
    "ExecuteTime": {
     "end_time": "2020-11-10T20:40:20.272432Z",
     "start_time": "2020-11-10T20:40:20.210597Z"
    }
   },
   "outputs": [],
   "source": [
    "x_train = x_train.set_index(['Date'])\n",
    "x_test = x_test.set_index(['Date'])"
   ]
  },
  {
   "cell_type": "code",
   "execution_count": 94,
   "metadata": {
    "ExecuteTime": {
     "end_time": "2020-11-10T20:40:20.510573Z",
     "start_time": "2020-11-10T20:40:20.466690Z"
    }
   },
   "outputs": [],
   "source": [
    "X = pd.concat([x_train,x_test])"
   ]
  },
  {
   "cell_type": "code",
   "execution_count": 95,
   "metadata": {
    "ExecuteTime": {
     "end_time": "2020-11-10T20:40:20.651291Z",
     "start_time": "2020-11-10T20:40:20.648301Z"
    }
   },
   "outputs": [],
   "source": [
    "#x_train"
   ]
  },
  {
   "cell_type": "code",
   "execution_count": 96,
   "metadata": {
    "ExecuteTime": {
     "end_time": "2020-11-10T20:40:20.792336Z",
     "start_time": "2020-11-10T20:40:20.787349Z"
    },
    "scrolled": true
   },
   "outputs": [
    {
     "data": {
      "text/plain": [
       "'\\n#BEWARE takes 9 minutes to run\\nlog_reg = LogisticRegression(random_state=42,solver=\\'lbfgs\\',max_iter=1000)\\n\\nparams={\\'C\\': [15,20,25,30]}\\n\\nclf = GridSearchCV(log_reg,params,cv=5,verbose = 1, scoring = \\'accuracy\\')\\n\\nclf.fit(x_train, y_train)\\n\\nDF=pd.DataFrame(clf.cv_results_)\\nDFF=DF[[\"param_C\",\"mean_test_score\",\"rank_test_score\"]]\\nDFF #did not converge with 500 iterations. 10k iterations- best value: 15\\n'"
      ]
     },
     "execution_count": 96,
     "metadata": {},
     "output_type": "execute_result"
    }
   ],
   "source": [
    "'''\n",
    "#BEWARE takes 9 minutes to run\n",
    "log_reg = LogisticRegression(random_state=42,solver='lbfgs',max_iter=1000)\n",
    "\n",
    "params={'C': [15,20,25,30]}\n",
    "\n",
    "clf = GridSearchCV(log_reg,params,cv=5,verbose = 1, scoring = 'accuracy')\n",
    "\n",
    "clf.fit(x_train, y_train)\n",
    "\n",
    "DF=pd.DataFrame(clf.cv_results_)\n",
    "DFF=DF[[\"param_C\",\"mean_test_score\",\"rank_test_score\"]]\n",
    "DFF #did not converge with 500 iterations. 10k iterations- best value: 15\n",
    "'''"
   ]
  },
  {
   "cell_type": "code",
   "execution_count": null,
   "metadata": {},
   "outputs": [],
   "source": []
  },
  {
   "cell_type": "code",
   "execution_count": 97,
   "metadata": {
    "ExecuteTime": {
     "end_time": "2020-11-10T20:40:33.795912Z",
     "start_time": "2020-11-10T20:40:20.944928Z"
    },
    "scrolled": true
   },
   "outputs": [
    {
     "data": {
      "text/plain": [
       "LogisticRegression(C=30, max_iter=1000, random_state=42)"
      ]
     },
     "execution_count": 97,
     "metadata": {},
     "output_type": "execute_result"
    }
   ],
   "source": [
    "#Run model with Best C value found above\n",
    "log_reg = LogisticRegression( C=30,random_state=42,solver='lbfgs',max_iter=1000) #max_iter=100, default, did not converge\n",
    "log_reg.fit(x_train, y_train)"
   ]
  },
  {
   "cell_type": "code",
   "execution_count": 98,
   "metadata": {
    "ExecuteTime": {
     "end_time": "2020-11-10T20:40:34.018918Z",
     "start_time": "2020-11-10T20:40:34.005920Z"
    }
   },
   "outputs": [],
   "source": [
    "predictions = log_reg.predict(x_test)"
   ]
  },
  {
   "cell_type": "code",
   "execution_count": 99,
   "metadata": {
    "ExecuteTime": {
     "end_time": "2020-11-10T20:40:34.211525Z",
     "start_time": "2020-11-10T20:40:34.208533Z"
    }
   },
   "outputs": [],
   "source": [
    "#print(log_reg.coef_, log_reg.intercept_)"
   ]
  },
  {
   "cell_type": "code",
   "execution_count": 100,
   "metadata": {
    "ExecuteTime": {
     "end_time": "2020-11-10T20:40:34.375088Z",
     "start_time": "2020-11-10T20:40:34.362123Z"
    },
    "scrolled": true
   },
   "outputs": [
    {
     "data": {
      "text/html": [
       "<div>\n",
       "<style scoped>\n",
       "    .dataframe tbody tr th:only-of-type {\n",
       "        vertical-align: middle;\n",
       "    }\n",
       "\n",
       "    .dataframe tbody tr th {\n",
       "        vertical-align: top;\n",
       "    }\n",
       "\n",
       "    .dataframe thead th {\n",
       "        text-align: right;\n",
       "    }\n",
       "</style>\n",
       "<table border=\"1\" class=\"dataframe\">\n",
       "  <thead>\n",
       "    <tr style=\"text-align: right;\">\n",
       "      <th></th>\n",
       "      <th>features</th>\n",
       "      <th>coef</th>\n",
       "    </tr>\n",
       "  </thead>\n",
       "  <tbody>\n",
       "    <tr>\n",
       "      <th>4</th>\n",
       "      <td>Past_Due90+</td>\n",
       "      <td>-1.0</td>\n",
       "    </tr>\n",
       "    <tr>\n",
       "      <th>2</th>\n",
       "      <td>Past_Due30_59</td>\n",
       "      <td>-0.9</td>\n",
       "    </tr>\n",
       "    <tr>\n",
       "      <th>1</th>\n",
       "      <td>Days Past Due</td>\n",
       "      <td>-0.9</td>\n",
       "    </tr>\n",
       "    <tr>\n",
       "      <th>0</th>\n",
       "      <td>Balance</td>\n",
       "      <td>-0.2</td>\n",
       "    </tr>\n",
       "    <tr>\n",
       "      <th>11</th>\n",
       "      <td>THREE_MONTH_TREASURY_RATE</td>\n",
       "      <td>0.1</td>\n",
       "    </tr>\n",
       "    <tr>\n",
       "      <th>12</th>\n",
       "      <td>FIVE_YEAR_TREASURY_YIELD</td>\n",
       "      <td>-0.1</td>\n",
       "    </tr>\n",
       "    <tr>\n",
       "      <th>3</th>\n",
       "      <td>Past_Due60_89</td>\n",
       "      <td>-0.1</td>\n",
       "    </tr>\n",
       "    <tr>\n",
       "      <th>23</th>\n",
       "      <td>EURO_AREA_BILATERAL_DOLLAR_EXCHANGE_RATE</td>\n",
       "      <td>-0.1</td>\n",
       "    </tr>\n",
       "    <tr>\n",
       "      <th>20</th>\n",
       "      <td>MARKET_VOLATILITY_INDEX</td>\n",
       "      <td>-0.1</td>\n",
       "    </tr>\n",
       "    <tr>\n",
       "      <th>22</th>\n",
       "      <td>EURO_AREA_INFLATION</td>\n",
       "      <td>-0.1</td>\n",
       "    </tr>\n",
       "    <tr>\n",
       "      <th>24</th>\n",
       "      <td>DEVELOPING_ASIA_REAL_GDP_GROWTH</td>\n",
       "      <td>0.1</td>\n",
       "    </tr>\n",
       "    <tr>\n",
       "      <th>6</th>\n",
       "      <td>NOMINAL_GDP_GROWTH</td>\n",
       "      <td>0.1</td>\n",
       "    </tr>\n",
       "    <tr>\n",
       "      <th>5</th>\n",
       "      <td>REAL_GDP_GROWTH</td>\n",
       "      <td>0.1</td>\n",
       "    </tr>\n",
       "    <tr>\n",
       "      <th>21</th>\n",
       "      <td>EURO_AREA_REAL_GDP_GROWTH</td>\n",
       "      <td>0.1</td>\n",
       "    </tr>\n",
       "    <tr>\n",
       "      <th>32</th>\n",
       "      <td>UK_BILATERAL_DOLLAR_EXCHANGE_RATE</td>\n",
       "      <td>0.1</td>\n",
       "    </tr>\n",
       "    <tr>\n",
       "      <th>10</th>\n",
       "      <td>CPI_INFLATION_RATE</td>\n",
       "      <td>0.1</td>\n",
       "    </tr>\n",
       "    <tr>\n",
       "      <th>30</th>\n",
       "      <td>UK_REAL_GDP_GROWTH</td>\n",
       "      <td>0.1</td>\n",
       "    </tr>\n",
       "    <tr>\n",
       "      <th>19</th>\n",
       "      <td>COMERCIAL_REAL_ESTATE_PRICE_INDEX</td>\n",
       "      <td>0.0</td>\n",
       "    </tr>\n",
       "    <tr>\n",
       "      <th>8</th>\n",
       "      <td>NOMINAL_DISPOSABLE_INCOME_GROWTH</td>\n",
       "      <td>0.0</td>\n",
       "    </tr>\n",
       "    <tr>\n",
       "      <th>15</th>\n",
       "      <td>MORTGAGE_RATE</td>\n",
       "      <td>0.0</td>\n",
       "    </tr>\n",
       "  </tbody>\n",
       "</table>\n",
       "</div>"
      ],
      "text/plain": [
       "                                    features  coef\n",
       "4                                Past_Due90+  -1.0\n",
       "2                              Past_Due30_59  -0.9\n",
       "1                              Days Past Due  -0.9\n",
       "0                                    Balance  -0.2\n",
       "11                 THREE_MONTH_TREASURY_RATE   0.1\n",
       "12                  FIVE_YEAR_TREASURY_YIELD  -0.1\n",
       "3                              Past_Due60_89  -0.1\n",
       "23  EURO_AREA_BILATERAL_DOLLAR_EXCHANGE_RATE  -0.1\n",
       "20                   MARKET_VOLATILITY_INDEX  -0.1\n",
       "22                       EURO_AREA_INFLATION  -0.1\n",
       "24           DEVELOPING_ASIA_REAL_GDP_GROWTH   0.1\n",
       "6                         NOMINAL_GDP_GROWTH   0.1\n",
       "5                            REAL_GDP_GROWTH   0.1\n",
       "21                 EURO_AREA_REAL_GDP_GROWTH   0.1\n",
       "32         UK_BILATERAL_DOLLAR_EXCHANGE_RATE   0.1\n",
       "10                        CPI_INFLATION_RATE   0.1\n",
       "30                        UK_REAL_GDP_GROWTH   0.1\n",
       "19         COMERCIAL_REAL_ESTATE_PRICE_INDEX   0.0\n",
       "8           NOMINAL_DISPOSABLE_INCOME_GROWTH   0.0\n",
       "15                             MORTGAGE_RATE   0.0"
      ]
     },
     "execution_count": 100,
     "metadata": {},
     "output_type": "execute_result"
    }
   ],
   "source": [
    "a=pd.DataFrame(zip(x_train.columns, np.transpose(log_reg.coef_.tolist()[0])), columns=['features', 'coef']).sort_values(by=['coef'])\n",
    "a['coef'] = a['coef'].round(decimals=1)\n",
    "a.reindex(a.coef.abs().sort_values(ascending=False).index).head(20)"
   ]
  },
  {
   "cell_type": "code",
   "execution_count": 101,
   "metadata": {
    "ExecuteTime": {
     "end_time": "2020-11-10T20:40:34.532667Z",
     "start_time": "2020-11-10T20:40:34.521696Z"
    }
   },
   "outputs": [
    {
     "data": {
      "text/html": [
       "<div>\n",
       "<style scoped>\n",
       "    .dataframe tbody tr th:only-of-type {\n",
       "        vertical-align: middle;\n",
       "    }\n",
       "\n",
       "    .dataframe tbody tr th {\n",
       "        vertical-align: top;\n",
       "    }\n",
       "\n",
       "    .dataframe thead th {\n",
       "        text-align: right;\n",
       "    }\n",
       "</style>\n",
       "<table border=\"1\" class=\"dataframe\">\n",
       "  <thead>\n",
       "    <tr style=\"text-align: right;\">\n",
       "      <th></th>\n",
       "      <th>0</th>\n",
       "      <th>1</th>\n",
       "      <th>2</th>\n",
       "    </tr>\n",
       "  </thead>\n",
       "  <tbody>\n",
       "    <tr>\n",
       "      <th>0</th>\n",
       "      <td>Balance</td>\n",
       "      <td>Days Past Due</td>\n",
       "      <td>Past_Due30_59</td>\n",
       "    </tr>\n",
       "    <tr>\n",
       "      <th>1</th>\n",
       "      <td>Past_Due60_89</td>\n",
       "      <td>Past_Due90+</td>\n",
       "      <td>REAL_GDP_GROWTH</td>\n",
       "    </tr>\n",
       "    <tr>\n",
       "      <th>2</th>\n",
       "      <td>NOMINAL_GDP_GROWTH</td>\n",
       "      <td>REAL_DISPOSABLE_INCOME_GROWTH</td>\n",
       "      <td>NOMINAL_DISPOSABLE_INCOME_GROWTH</td>\n",
       "    </tr>\n",
       "    <tr>\n",
       "      <th>3</th>\n",
       "      <td>UNEMPLOYMENT_RATE</td>\n",
       "      <td>CPI_INFLATION_RATE</td>\n",
       "      <td>THREE_MONTH_TREASURY_RATE</td>\n",
       "    </tr>\n",
       "    <tr>\n",
       "      <th>4</th>\n",
       "      <td>FIVE_YEAR_TREASURY_YIELD</td>\n",
       "      <td>TEN_YEAR_TREASURY_YIELD</td>\n",
       "      <td>BBB_CORPORATE_YEILD</td>\n",
       "    </tr>\n",
       "    <tr>\n",
       "      <th>5</th>\n",
       "      <td>MORTGAGE_RATE</td>\n",
       "      <td>PRIME_RATE</td>\n",
       "      <td>DOWJONES_TOTAL_STOCK_MARKET_INDEX</td>\n",
       "    </tr>\n",
       "    <tr>\n",
       "      <th>6</th>\n",
       "      <td>HOUSE_PRICE_INDEX</td>\n",
       "      <td>COMERCIAL_REAL_ESTATE_PRICE_INDEX</td>\n",
       "      <td>MARKET_VOLATILITY_INDEX</td>\n",
       "    </tr>\n",
       "    <tr>\n",
       "      <th>7</th>\n",
       "      <td>EURO_AREA_REAL_GDP_GROWTH</td>\n",
       "      <td>EURO_AREA_INFLATION</td>\n",
       "      <td>EURO_AREA_BILATERAL_DOLLAR_EXCHANGE_RATE</td>\n",
       "    </tr>\n",
       "    <tr>\n",
       "      <th>8</th>\n",
       "      <td>DEVELOPING_ASIA_REAL_GDP_GROWTH</td>\n",
       "      <td>DEVELOPING_ASIA_INFLATION</td>\n",
       "      <td>DEV_ASIA_BILATERAL_DOLLAR_EXCHANGE_RATE</td>\n",
       "    </tr>\n",
       "    <tr>\n",
       "      <th>9</th>\n",
       "      <td>JAPAN_REAL_GDP_GROWTH</td>\n",
       "      <td>JAPAN_INFLATION</td>\n",
       "      <td>JAPAN_BILATERAL_DOLLAR_EXCHANGE_RATE</td>\n",
       "    </tr>\n",
       "    <tr>\n",
       "      <th>10</th>\n",
       "      <td>UK_REAL_GDP_GROWTH</td>\n",
       "      <td>UK_INFLATION</td>\n",
       "      <td>UK_BILATERAL_DOLLAR_EXCHANGE_RATE</td>\n",
       "    </tr>\n",
       "  </tbody>\n",
       "</table>\n",
       "</div>"
      ],
      "text/plain": [
       "                                  0                                  1  \\\n",
       "0                           Balance                      Days Past Due   \n",
       "1                     Past_Due60_89                        Past_Due90+   \n",
       "2                NOMINAL_GDP_GROWTH      REAL_DISPOSABLE_INCOME_GROWTH   \n",
       "3                 UNEMPLOYMENT_RATE                 CPI_INFLATION_RATE   \n",
       "4          FIVE_YEAR_TREASURY_YIELD            TEN_YEAR_TREASURY_YIELD   \n",
       "5                     MORTGAGE_RATE                         PRIME_RATE   \n",
       "6                 HOUSE_PRICE_INDEX  COMERCIAL_REAL_ESTATE_PRICE_INDEX   \n",
       "7         EURO_AREA_REAL_GDP_GROWTH                EURO_AREA_INFLATION   \n",
       "8   DEVELOPING_ASIA_REAL_GDP_GROWTH          DEVELOPING_ASIA_INFLATION   \n",
       "9             JAPAN_REAL_GDP_GROWTH                    JAPAN_INFLATION   \n",
       "10               UK_REAL_GDP_GROWTH                       UK_INFLATION   \n",
       "\n",
       "                                           2  \n",
       "0                              Past_Due30_59  \n",
       "1                            REAL_GDP_GROWTH  \n",
       "2           NOMINAL_DISPOSABLE_INCOME_GROWTH  \n",
       "3                  THREE_MONTH_TREASURY_RATE  \n",
       "4                        BBB_CORPORATE_YEILD  \n",
       "5          DOWJONES_TOTAL_STOCK_MARKET_INDEX  \n",
       "6                    MARKET_VOLATILITY_INDEX  \n",
       "7   EURO_AREA_BILATERAL_DOLLAR_EXCHANGE_RATE  \n",
       "8    DEV_ASIA_BILATERAL_DOLLAR_EXCHANGE_RATE  \n",
       "9       JAPAN_BILATERAL_DOLLAR_EXCHANGE_RATE  \n",
       "10         UK_BILATERAL_DOLLAR_EXCHANGE_RATE  "
      ]
     },
     "execution_count": 101,
     "metadata": {},
     "output_type": "execute_result"
    }
   ],
   "source": [
    "pd.DataFrame(np.array(x_train.columns).reshape(11,3))"
   ]
  },
  {
   "cell_type": "code",
   "execution_count": 102,
   "metadata": {
    "ExecuteTime": {
     "end_time": "2020-11-10T20:40:34.691183Z",
     "start_time": "2020-11-10T20:40:34.674228Z"
    }
   },
   "outputs": [
    {
     "name": "stdout",
     "output_type": "stream",
     "text": [
      "The model's mean accuracy score on the test set it 0.6890561375641365\n"
     ]
    }
   ],
   "source": [
    "sc=log_reg.score(x_test, y_test)\n",
    "print(\"The model's mean accuracy score on the test set it\", sc)"
   ]
  },
  {
   "cell_type": "code",
   "execution_count": 124,
   "metadata": {
    "ExecuteTime": {
     "end_time": "2020-11-10T20:48:45.784959Z",
     "start_time": "2020-11-10T20:48:43.609391Z"
    }
   },
   "outputs": [
    {
     "data": {
      "text/plain": [
       "<matplotlib.legend.Legend at 0x2a910b9f908>"
      ]
     },
     "execution_count": 124,
     "metadata": {},
     "output_type": "execute_result"
    },
    {
     "data": {
      "image/png": "[encoded data removed]",
      "text/plain": [
       "<Figure size 1296x360 with 1 Axes>"
      ]
     },
     "metadata": {
      "needs_background": "light"
     },
     "output_type": "display_data"
    }
   ],
   "source": [
    "y_pred=np.around(log_reg.predict_proba(X))\n",
    "y_pred=y_pred[:,1]\n",
    "plt.figure(figsize=(18,5))\n",
    "plt.plot(y_pred,linewidth=1, label='Predicted Classificaiton')\n",
    "plt.plot(Y,linewidth=.5, label='Actual Classification')\n",
    "\n",
    "plt.title('Logistic Regression Risk Predictions')\n",
    "plt.ylabel('Prediction of Risk')\n",
    "plt.xlabel('Observations')\n",
    "plt.yticks(np.arange(-1,2),('Low', 'Medium', 'High'))\n",
    "plt.legend(loc='upper center', bbox_to_anchor=(0.5, -0.05),\n",
    "          fancybox=True, shadow=True, ncol=2)\n",
    "\n",
    "#blue line- true classification\n",
    "#orange line prediction, so where you see the blue misclassificaiton "
   ]
  },
  {
   "cell_type": "code",
   "execution_count": 105,
   "metadata": {
    "ExecuteTime": {
     "end_time": "2020-11-10T20:41:12.114584Z",
     "start_time": "2020-11-10T20:41:11.955920Z"
    },
    "scrolled": true
   },
   "outputs": [
    {
     "name": "stdout",
     "output_type": "stream",
     "text": [
      "[[42891  1767   118]\n",
      " [20553  7232   703]\n",
      " [  301  1223  4535]]\n",
      "              precision    recall  f1-score   support\n",
      "\n",
      "        -1.0       0.67      0.96      0.79     44776\n",
      "         0.0       0.71      0.25      0.37     28488\n",
      "         1.0       0.85      0.75      0.79      6059\n",
      "\n",
      "    accuracy                           0.69     79323\n",
      "   macro avg       0.74      0.65      0.65     79323\n",
      "weighted avg       0.70      0.69      0.64     79323\n",
      "\n"
     ]
    }
   ],
   "source": [
    "print(confusion_matrix(y_test,predictions))\n",
    "print(classification_report(y_test,predictions))"
   ]
  },
  {
   "cell_type": "code",
   "execution_count": 112,
   "metadata": {
    "ExecuteTime": {
     "end_time": "2020-11-10T20:42:04.750008Z",
     "start_time": "2020-11-10T20:42:04.693244Z"
    }
   },
   "outputs": [],
   "source": [
    "cm = confusion_matrix(y_test, predictions)\n",
    "cm_abbrev = np.around(cm/1000,decimals=1)"
   ]
  },
  {
   "cell_type": "code",
   "execution_count": 116,
   "metadata": {
    "ExecuteTime": {
     "end_time": "2020-11-10T20:43:25.924199Z",
     "start_time": "2020-11-10T20:43:25.736393Z"
    }
   },
   "outputs": [
    {
     "data": {
      "image/png": "[encoded data removed]",
      "text/plain": [
       "<Figure size 1296x432 with 2 Axes>"
      ]
     },
     "metadata": {
      "needs_background": "light"
     },
     "output_type": "display_data"
    }
   ],
   "source": [
    "plt.rcParams['xtick.top'] = plt.rcParams['xtick.labeltop'] = True\n",
    "fig = plt.figure(figsize=(18, 6)) \n",
    "ax = plt.subplot()\n",
    "sns.heatmap(cm_abbrev, annot=True, ax=ax, cmap=\"mako_r\",annot_kws={\"fontsize\":18})\n",
    "ax.set_xlabel('Predicted Labels',fontsize=12)\n",
    "ax.set_ylabel('True Labels',fontsize=12)\n",
    "ax.set_title('Confusion Matrix (in Thousands)', fontsize=18)\n",
    "ax.xaxis.set_ticklabels(['Low','Medium','High'])\n",
    "ax.xaxis.set_label_position('top') \n",
    "ax.xaxis.tick_top()\n",
    "ax.yaxis.set_ticklabels(['Low','Medium', 'High']);"
   ]
  },
  {
   "cell_type": "code",
   "execution_count": null,
   "metadata": {},
   "outputs": [],
   "source": []
  }
 ],
 "metadata": {
  "hide_input": false,
  "kernelspec": {
   "display_name": "Python 3",
   "language": "python",
   "name": "python3"
  },
  "language_info": {
   "codemirror_mode": {
    "name": "ipython",
    "version": 3
   },
   "file_extension": ".py",
   "mimetype": "text/x-python",
   "name": "python",
   "nbconvert_exporter": "python",
   "pygments_lexer": "ipython3",
   "version": "3.7.3"
  },
  "toc": {
   "base_numbering": 1,
   "nav_menu": {},
   "number_sections": true,
   "sideBar": true,
   "skip_h1_title": false,
   "title_cell": "Table of Contents",
   "title_sidebar": "Contents",
   "toc_cell": false,
   "toc_position": {},
   "toc_section_display": true,
   "toc_window_display": false
  },
  "varInspector": {
   "cols": {
    "lenName": 16,
    "lenType": 16,
    "lenVar": 40
   },
   "kernels_config": {
    "python": {
     "delete_cmd_postfix": "",
     "delete_cmd_prefix": "del ",
     "library": "var_list.py",
     "varRefreshCmd": "print(var_dic_list())"
    },
    "r": {
     "delete_cmd_postfix": ") ",
     "delete_cmd_prefix": "rm(",
     "library": "var_list.r",
     "varRefreshCmd": "cat(var_dic_list()) "
    }
   },
   "types_to_exclude": [
    "module",
    "function",
    "builtin_function_or_method",
    "instance",
    "_Feature"
   ],
   "window_display": false
  }
 },
 "nbformat": 4,
 "nbformat_minor": 2
}
