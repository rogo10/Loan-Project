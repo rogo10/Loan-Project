{
 "cells": [
  {
   "cell_type": "code",
   "execution_count": 1,
   "metadata": {
    "ExecuteTime": {
     "end_time": "2020-11-25T14:17:28.130160Z",
     "start_time": "2020-11-25T14:17:24.717392Z"
    }
   },
   "outputs": [],
   "source": [
    "import pandas as pd\n",
    "import numpy as np\n",
    "import matplotlib.pyplot as plt\n",
    "import seaborn as sns"
   ]
  },
  {
   "cell_type": "code",
   "execution_count": 2,
   "metadata": {
    "ExecuteTime": {
     "end_time": "2020-11-25T14:18:49.616329Z",
     "start_time": "2020-11-25T14:17:31.011040Z"
    }
   },
   "outputs": [
    {
     "data": {
      "text/html": [
       "<div>\n",
       "<style scoped>\n",
       "    .dataframe tbody tr th:only-of-type {\n",
       "        vertical-align: middle;\n",
       "    }\n",
       "\n",
       "    .dataframe tbody tr th {\n",
       "        vertical-align: top;\n",
       "    }\n",
       "\n",
       "    .dataframe thead th {\n",
       "        text-align: right;\n",
       "    }\n",
       "</style>\n",
       "<table border=\"1\" class=\"dataframe\">\n",
       "  <thead>\n",
       "    <tr style=\"text-align: right;\">\n",
       "      <th></th>\n",
       "      <th>PK</th>\n",
       "      <th>Source Date</th>\n",
       "      <th>Balance</th>\n",
       "      <th>Days Past Due</th>\n",
       "      <th>Times Past Due 2</th>\n",
       "      <th>Times Past Due 3</th>\n",
       "      <th>Times Past Due 4</th>\n",
       "      <th>Credit Risk Code</th>\n",
       "    </tr>\n",
       "  </thead>\n",
       "  <tbody>\n",
       "    <tr>\n",
       "      <th>0</th>\n",
       "      <td>0</td>\n",
       "      <td>2015-01-31</td>\n",
       "      <td>7685.03</td>\n",
       "      <td>15</td>\n",
       "      <td>10</td>\n",
       "      <td>5</td>\n",
       "      <td>1</td>\n",
       "      <td>5.0</td>\n",
       "    </tr>\n",
       "    <tr>\n",
       "      <th>1</th>\n",
       "      <td>1</td>\n",
       "      <td>2015-01-31</td>\n",
       "      <td>181479.00</td>\n",
       "      <td>0</td>\n",
       "      <td>0</td>\n",
       "      <td>0</td>\n",
       "      <td>0</td>\n",
       "      <td>3.0</td>\n",
       "    </tr>\n",
       "    <tr>\n",
       "      <th>2</th>\n",
       "      <td>2</td>\n",
       "      <td>2015-01-31</td>\n",
       "      <td>67382.89</td>\n",
       "      <td>0</td>\n",
       "      <td>0</td>\n",
       "      <td>0</td>\n",
       "      <td>0</td>\n",
       "      <td>3.0</td>\n",
       "    </tr>\n",
       "    <tr>\n",
       "      <th>3</th>\n",
       "      <td>3</td>\n",
       "      <td>2015-01-31</td>\n",
       "      <td>115580.00</td>\n",
       "      <td>0</td>\n",
       "      <td>0</td>\n",
       "      <td>0</td>\n",
       "      <td>0</td>\n",
       "      <td>1.0</td>\n",
       "    </tr>\n",
       "    <tr>\n",
       "      <th>4</th>\n",
       "      <td>4</td>\n",
       "      <td>2015-01-31</td>\n",
       "      <td>111445.00</td>\n",
       "      <td>0</td>\n",
       "      <td>0</td>\n",
       "      <td>0</td>\n",
       "      <td>0</td>\n",
       "      <td>1.0</td>\n",
       "    </tr>\n",
       "  </tbody>\n",
       "</table>\n",
       "</div>"
      ],
      "text/plain": [
       "   PK Source Date    Balance  Days Past Due  Times Past Due 2  \\\n",
       "0   0  2015-01-31    7685.03             15                10   \n",
       "1   1  2015-01-31  181479.00              0                 0   \n",
       "2   2  2015-01-31   67382.89              0                 0   \n",
       "3   3  2015-01-31  115580.00              0                 0   \n",
       "4   4  2015-01-31  111445.00              0                 0   \n",
       "\n",
       "   Times Past Due 3  Times Past Due 4  Credit Risk Code  \n",
       "0                 5                 1               5.0  \n",
       "1                 0                 0               3.0  \n",
       "2                 0                 0               3.0  \n",
       "3                 0                 0               1.0  \n",
       "4                 0                 0               1.0  "
      ]
     },
     "execution_count": 2,
     "metadata": {},
     "output_type": "execute_result"
    }
   ],
   "source": [
    "df = pd.read_excel('../data/anon_final.xlsx', index_col=0)\n",
    "df.head()"
   ]
  },
  {
   "cell_type": "markdown",
   "metadata": {},
   "source": [
    "# Printing number of nulls per column"
   ]
  },
  {
   "cell_type": "code",
   "execution_count": 3,
   "metadata": {
    "ExecuteTime": {
     "end_time": "2020-11-25T14:19:11.047451Z",
     "start_time": "2020-11-25T14:19:11.020923Z"
    }
   },
   "outputs": [
    {
     "name": "stdout",
     "output_type": "stream",
     "text": [
      "Column  PK  has  0  null values\n",
      "Column  Source Date  has  0  null values\n",
      "Column  Balance  has  0  null values\n",
      "Column  Days Past Due  has  0  null values\n",
      "Column  Times Past Due 2  has  0  null values\n",
      "Column  Times Past Due 3  has  0  null values\n",
      "Column  Times Past Due 4  has  0  null values\n",
      "Column  Credit Risk Code  has  4  null values\n"
     ]
    }
   ],
   "source": [
    "for column in df.columns:\n",
    "    print('Column ', column,' has ',len(df[df[column].isna()]) ,' null values')"
   ]
  },
  {
   "cell_type": "markdown",
   "metadata": {},
   "source": [
    "# Info of data"
   ]
  },
  {
   "cell_type": "code",
   "execution_count": 4,
   "metadata": {
    "ExecuteTime": {
     "end_time": "2020-11-25T14:19:16.105068Z",
     "start_time": "2020-11-25T14:19:16.053353Z"
    },
    "scrolled": true
   },
   "outputs": [
    {
     "name": "stdout",
     "output_type": "stream",
     "text": [
      "<class 'pandas.core.frame.DataFrame'>\n",
      "Int64Index: 269725 entries, 0 to 295332\n",
      "Data columns (total 8 columns):\n",
      "PK                  269725 non-null int64\n",
      "Source Date         269725 non-null datetime64[ns]\n",
      "Balance             269725 non-null float64\n",
      "Days Past Due       269725 non-null int64\n",
      "Times Past Due 2    269725 non-null int64\n",
      "Times Past Due 3    269725 non-null int64\n",
      "Times Past Due 4    269725 non-null int64\n",
      "Credit Risk Code    269721 non-null float64\n",
      "dtypes: datetime64[ns](1), float64(2), int64(5)\n",
      "memory usage: 18.5 MB\n"
     ]
    }
   ],
   "source": [
    "df.info()"
   ]
  },
  {
   "cell_type": "markdown",
   "metadata": {},
   "source": [
    "# Description of data"
   ]
  },
  {
   "cell_type": "code",
   "execution_count": 5,
   "metadata": {
    "ExecuteTime": {
     "end_time": "2020-11-25T14:19:20.487616Z",
     "start_time": "2020-11-25T14:19:20.277415Z"
    }
   },
   "outputs": [
    {
     "data": {
      "text/html": [
       "<div>\n",
       "<style scoped>\n",
       "    .dataframe tbody tr th:only-of-type {\n",
       "        vertical-align: middle;\n",
       "    }\n",
       "\n",
       "    .dataframe tbody tr th {\n",
       "        vertical-align: top;\n",
       "    }\n",
       "\n",
       "    .dataframe thead th {\n",
       "        text-align: right;\n",
       "    }\n",
       "</style>\n",
       "<table border=\"1\" class=\"dataframe\">\n",
       "  <thead>\n",
       "    <tr style=\"text-align: right;\">\n",
       "      <th></th>\n",
       "      <th>PK</th>\n",
       "      <th>Balance</th>\n",
       "      <th>Days Past Due</th>\n",
       "      <th>Times Past Due 2</th>\n",
       "      <th>Times Past Due 3</th>\n",
       "      <th>Times Past Due 4</th>\n",
       "      <th>Credit Risk Code</th>\n",
       "    </tr>\n",
       "  </thead>\n",
       "  <tbody>\n",
       "    <tr>\n",
       "      <th>count</th>\n",
       "      <td>269725.000000</td>\n",
       "      <td>2.697250e+05</td>\n",
       "      <td>269725.000000</td>\n",
       "      <td>269725.000000</td>\n",
       "      <td>269725.000000</td>\n",
       "      <td>269725.000000</td>\n",
       "      <td>269721.000000</td>\n",
       "    </tr>\n",
       "    <tr>\n",
       "      <th>mean</th>\n",
       "      <td>5032.315125</td>\n",
       "      <td>6.809458e+04</td>\n",
       "      <td>3.651104</td>\n",
       "      <td>1.749081</td>\n",
       "      <td>0.395989</td>\n",
       "      <td>0.118068</td>\n",
       "      <td>3.583232</td>\n",
       "    </tr>\n",
       "    <tr>\n",
       "      <th>std</th>\n",
       "      <td>3084.761694</td>\n",
       "      <td>2.842542e+05</td>\n",
       "      <td>37.202815</td>\n",
       "      <td>6.465595</td>\n",
       "      <td>2.150797</td>\n",
       "      <td>0.906272</td>\n",
       "      <td>1.198548</td>\n",
       "    </tr>\n",
       "    <tr>\n",
       "      <th>min</th>\n",
       "      <td>0.000000</td>\n",
       "      <td>-1.417890e+03</td>\n",
       "      <td>0.000000</td>\n",
       "      <td>0.000000</td>\n",
       "      <td>0.000000</td>\n",
       "      <td>0.000000</td>\n",
       "      <td>1.000000</td>\n",
       "    </tr>\n",
       "    <tr>\n",
       "      <th>25%</th>\n",
       "      <td>2591.000000</td>\n",
       "      <td>4.060000e+02</td>\n",
       "      <td>0.000000</td>\n",
       "      <td>0.000000</td>\n",
       "      <td>0.000000</td>\n",
       "      <td>0.000000</td>\n",
       "      <td>3.000000</td>\n",
       "    </tr>\n",
       "    <tr>\n",
       "      <th>50%</th>\n",
       "      <td>4680.000000</td>\n",
       "      <td>7.276900e+03</td>\n",
       "      <td>0.000000</td>\n",
       "      <td>0.000000</td>\n",
       "      <td>0.000000</td>\n",
       "      <td>0.000000</td>\n",
       "      <td>3.000000</td>\n",
       "    </tr>\n",
       "    <tr>\n",
       "      <th>75%</th>\n",
       "      <td>7140.000000</td>\n",
       "      <td>3.502413e+04</td>\n",
       "      <td>0.000000</td>\n",
       "      <td>0.000000</td>\n",
       "      <td>0.000000</td>\n",
       "      <td>0.000000</td>\n",
       "      <td>4.000000</td>\n",
       "    </tr>\n",
       "    <tr>\n",
       "      <th>max</th>\n",
       "      <td>10782.000000</td>\n",
       "      <td>1.845088e+07</td>\n",
       "      <td>2151.000000</td>\n",
       "      <td>170.000000</td>\n",
       "      <td>90.000000</td>\n",
       "      <td>88.000000</td>\n",
       "      <td>10.000000</td>\n",
       "    </tr>\n",
       "  </tbody>\n",
       "</table>\n",
       "</div>"
      ],
      "text/plain": [
       "                  PK       Balance  Days Past Due  Times Past Due 2  \\\n",
       "count  269725.000000  2.697250e+05  269725.000000     269725.000000   \n",
       "mean     5032.315125  6.809458e+04       3.651104          1.749081   \n",
       "std      3084.761694  2.842542e+05      37.202815          6.465595   \n",
       "min         0.000000 -1.417890e+03       0.000000          0.000000   \n",
       "25%      2591.000000  4.060000e+02       0.000000          0.000000   \n",
       "50%      4680.000000  7.276900e+03       0.000000          0.000000   \n",
       "75%      7140.000000  3.502413e+04       0.000000          0.000000   \n",
       "max     10782.000000  1.845088e+07    2151.000000        170.000000   \n",
       "\n",
       "       Times Past Due 3  Times Past Due 4  Credit Risk Code  \n",
       "count     269725.000000     269725.000000     269721.000000  \n",
       "mean           0.395989          0.118068          3.583232  \n",
       "std            2.150797          0.906272          1.198548  \n",
       "min            0.000000          0.000000          1.000000  \n",
       "25%            0.000000          0.000000          3.000000  \n",
       "50%            0.000000          0.000000          3.000000  \n",
       "75%            0.000000          0.000000          4.000000  \n",
       "max           90.000000         88.000000         10.000000  "
      ]
     },
     "execution_count": 5,
     "metadata": {},
     "output_type": "execute_result"
    }
   ],
   "source": [
    "df.describe()"
   ]
  },
  {
   "cell_type": "markdown",
   "metadata": {},
   "source": [
    "# Get me the dates of entries where there are NA's"
   ]
  },
  {
   "cell_type": "code",
   "execution_count": 6,
   "metadata": {
    "ExecuteTime": {
     "end_time": "2020-11-25T14:19:26.720964Z",
     "start_time": "2020-11-25T14:19:26.688604Z"
    }
   },
   "outputs": [
    {
     "name": "stdout",
     "output_type": "stream",
     "text": [
      "Credit Risk Code\n",
      "2020-06-30    9792\n",
      "2020-07-30    9536\n",
      "2020-05-29    9052\n",
      "2020-04-30    8878\n",
      "2020-03-31    8653\n",
      "2020-09-30    8459\n",
      "2020-02-28    8436\n",
      "2020-01-31    8330\n",
      "2020-08-30    8258\n",
      "2015-01-31    4962\n",
      "2015-02-28    4834\n",
      "2015-03-31    4733\n",
      "2015-04-30    4602\n",
      "2015-05-31    4512\n",
      "2015-06-30    4449\n",
      "2015-07-31    4380\n",
      "2015-08-31    4319\n",
      "2015-10-31    4192\n",
      "2016-01-31    4190\n",
      "2015-11-30    4139\n",
      "2016-02-29    4102\n",
      "2015-03-03    4068\n",
      "2016-03-31    4036\n",
      "2016-04-30    3957\n",
      "2016-06-30    3834\n",
      "2016-07-31    3784\n",
      "2016-05-31    3711\n",
      "2016-08-31    3710\n",
      "2016-10-31    3595\n",
      "2016-12-31    3520\n",
      "              ... \n",
      "2017-06-30    3228\n",
      "2017-08-31    3157\n",
      "2017-07-31    3015\n",
      "2017-09-30    2928\n",
      "2017-11-30    2915\n",
      "2018-03-31    2825\n",
      "2018-04-30    2792\n",
      "2018-05-31    2771\n",
      "2017-10-31    2769\n",
      "2018-06-30    2747\n",
      "2018-07-31    2704\n",
      "2018-01-31    2696\n",
      "2018-02-28    2681\n",
      "2018-08-31    2681\n",
      "2018-09-30    2656\n",
      "2018-10-31    2634\n",
      "2018-11-30    2602\n",
      "2018-12-31    2564\n",
      "2019-01-31    2520\n",
      "2019-02-28    2490\n",
      "2019-03-31    2439\n",
      "2019-04-30    2398\n",
      "2019-10-31    2397\n",
      "2019-11-30    2374\n",
      "2019-05-31    2369\n",
      "2019-09-30    2353\n",
      "2019-06-30    2352\n",
      "2019-12-31    2340\n",
      "2019-07-31    2333\n",
      "2019-08-31    2315\n",
      "Name: Source Date, Length: 67, dtype: int64\n"
     ]
    }
   ],
   "source": [
    "for column in df.columns:\n",
    "    if(len(df[df[column].isna()])>0):\n",
    "        print(column)\n",
    "        print(df['Source Date'].value_counts())\n",
    "        "
   ]
  },
  {
   "cell_type": "markdown",
   "metadata": {},
   "source": [
    "# Get me the accounts with missing values"
   ]
  },
  {
   "cell_type": "code",
   "execution_count": 7,
   "metadata": {
    "ExecuteTime": {
     "end_time": "2020-11-25T14:19:39.675946Z",
     "start_time": "2020-11-25T14:19:39.642687Z"
    }
   },
   "outputs": [
    {
     "name": "stdout",
     "output_type": "stream",
     "text": [
      "Credit Risk Code\n",
      "10781    70\n",
      "1116     69\n",
      "2541     69\n",
      "541      69\n",
      "7324     69\n",
      "2225     69\n",
      "10239    68\n",
      "10251    68\n",
      "2934     68\n",
      "10461    68\n",
      "401      68\n",
      "10681    68\n",
      "10609    68\n",
      "7323     68\n",
      "2840     68\n",
      "10348    68\n",
      "10457    68\n",
      "10015    68\n",
      "7525     68\n",
      "540      68\n",
      "7108     68\n",
      "7526     68\n",
      "7454     68\n",
      "7015     68\n",
      "10267    68\n",
      "7008     68\n",
      "10085    68\n",
      "10202    68\n",
      "10266    68\n",
      "7291     68\n",
      "         ..\n",
      "9801      1\n",
      "9787      1\n",
      "9896      1\n",
      "9907      1\n",
      "6236      1\n",
      "9845      1\n",
      "9856      1\n",
      "2777      1\n",
      "9933      1\n",
      "9940      1\n",
      "6183      1\n",
      "9786      1\n",
      "9895      1\n",
      "9927      1\n",
      "9785      1\n",
      "5653      1\n",
      "9877      1\n",
      "9803      1\n",
      "5641      1\n",
      "9944      1\n",
      "9863      1\n",
      "9897      1\n",
      "5         1\n",
      "9818      1\n",
      "6128      1\n",
      "9876      1\n",
      "9947      1\n",
      "9826      1\n",
      "9802      1\n",
      "6631      1\n",
      "Name: PK, Length: 10783, dtype: int64\n"
     ]
    }
   ],
   "source": [
    "for column in df.columns:\n",
    "    if(len(df[df[column].isna()])>0):\n",
    "        print(column)\n",
    "        print(df['PK'].value_counts())\n",
    "        "
   ]
  },
  {
   "cell_type": "markdown",
   "metadata": {},
   "source": [
    "# Distribution of Balance w/o NAN's"
   ]
  },
  {
   "cell_type": "code",
   "execution_count": 8,
   "metadata": {
    "ExecuteTime": {
     "end_time": "2020-11-25T14:19:52.263506Z",
     "start_time": "2020-11-25T14:19:51.301896Z"
    },
    "scrolled": false
   },
   "outputs": [
    {
     "data": {
      "text/plain": [
       "<matplotlib.axes._subplots.AxesSubplot at 0x1d1ee425668>"
      ]
     },
     "execution_count": 8,
     "metadata": {},
     "output_type": "execute_result"
    },
    {
     "data": {
      "image/png": "[encoded data removed]",
      "text/plain": [
       "<Figure size 720x720 with 1 Axes>"
      ]
     },
     "metadata": {
      "needs_background": "light"
     },
     "output_type": "display_data"
    }
   ],
   "source": [
    "plt.subplots(figsize=(10,10))\n",
    "sns.distplot(df['Balance'].dropna())"
   ]
  },
  {
   "cell_type": "code",
   "execution_count": 9,
   "metadata": {
    "ExecuteTime": {
     "end_time": "2020-11-25T14:20:09.815930Z",
     "start_time": "2020-11-25T14:20:09.111594Z"
    }
   },
   "outputs": [
    {
     "data": {
      "text/plain": [
       "Text(0, 0.5, 'Count')"
      ]
     },
     "execution_count": 9,
     "metadata": {},
     "output_type": "execute_result"
    },
    {
     "data": {
      "image/png": "[encoded data removed]",
      "text/plain": [
       "<Figure size 720x720 with 1 Axes>"
      ]
     },
     "metadata": {
      "needs_background": "light"
     },
     "output_type": "display_data"
    }
   ],
   "source": [
    "plt.subplots(figsize=(10,10))\n",
    "plt.hist(df['Balance'].dropna(), bins=50)\n",
    "plt.ticklabel_format(axis=\"x\", style=\"plain\", scilimits=(0,0))\n",
    "plt.xlabel('Balance Amount (USD)')\n",
    "plt.ylabel('Count')"
   ]
  },
  {
   "cell_type": "markdown",
   "metadata": {
    "ExecuteTime": {
     "end_time": "2020-10-19T16:56:08.022675Z",
     "start_time": "2020-10-19T16:56:08.018028Z"
    }
   },
   "source": [
    "# Distribution of Credit Risk Code w/o NAN's"
   ]
  },
  {
   "cell_type": "code",
   "execution_count": 10,
   "metadata": {
    "ExecuteTime": {
     "end_time": "2020-11-06T13:58:22.736091Z",
     "start_time": "2020-11-06T13:58:21.601113Z"
    }
   },
   "outputs": [
    {
     "name": "stdout",
     "output_type": "stream",
     "text": [
      "Credit Risk Code\n",
      "1.0       8035\n",
      "2.0        432\n",
      "3.0     140463\n",
      "4.0      67042\n",
      "4.5        102\n",
      "5.0      11568\n",
      "6.0       3090\n",
      "6.5        186\n",
      "7.0      13565\n",
      "8.0       5562\n",
      "9.0       4766\n",
      "10.0      9886\n",
      "dtype: int64\n"
     ]
    },
    {
     "data": {
      "text/plain": [
       "([<matplotlib.axis.XTick at 0x1e7d7fb4390>,\n",
       "  <matplotlib.axis.XTick at 0x1e7d7fa6c88>,\n",
       "  <matplotlib.axis.XTick at 0x1e7d7fa69b0>,\n",
       "  <matplotlib.axis.XTick at 0x1e7d7fd0390>,\n",
       "  <matplotlib.axis.XTick at 0x1e7d8035828>,\n",
       "  <matplotlib.axis.XTick at 0x1e7d8035cf8>,\n",
       "  <matplotlib.axis.XTick at 0x1e7d803e2b0>,\n",
       "  <matplotlib.axis.XTick at 0x1e7d803e828>,\n",
       "  <matplotlib.axis.XTick at 0x1e7d803eda0>,\n",
       "  <matplotlib.axis.XTick at 0x1e7d8044358>,\n",
       "  <matplotlib.axis.XTick at 0x1e7d80448d0>,\n",
       "  <matplotlib.axis.XTick at 0x1e7d8044e48>],\n",
       " <a list of 12 Text xticklabel objects>)"
      ]
     },
     "execution_count": 10,
     "metadata": {},
     "output_type": "execute_result"
    },
    {
     "data": {
      "image/png": "[encoded data removed]",
      "text/plain": [
       "<Figure size 720x720 with 1 Axes>"
      ]
     },
     "metadata": {
      "needs_background": "light"
     },
     "output_type": "display_data"
    },
    {
     "data": {
      "image/png": "[encoded data removed]",
      "text/plain": [
       "<Figure size 720x720 with 1 Axes>"
      ]
     },
     "metadata": {
      "needs_background": "light"
     },
     "output_type": "display_data"
    }
   ],
   "source": [
    "print(df.groupby('Credit Risk Code').size())\n",
    "plt.subplots(figsize=(10,10))\n",
    "plt.bar(df.groupby('Credit Risk Code').size().index,\n",
    "        df.groupby('Credit Risk Code').size().values,\n",
    "       align='center',\n",
    "       width=0.3)\n",
    "plt.xlabel('Credit Risk Code')\n",
    "plt.ylabel('Number of Accounts/Loans')\n",
    "plt.xticks([1,2,3,4,4.5,5,6,6.5,7,8,9,10])\n",
    "\n",
    "\n",
    "plt.subplots(figsize=(10,10))\n",
    "sns.distplot(df['Credit Risk Code'].dropna())\n",
    "plt.xlabel('Credit Risk Code')\n",
    "plt.ylabel('Distribution')\n",
    "plt.xticks([1,2,3,4,4.5,5,6,6.5,7,8,9,10])"
   ]
  },
  {
   "cell_type": "markdown",
   "metadata": {},
   "source": [
    "# Average Balance by Credit Risk Code"
   ]
  },
  {
   "cell_type": "code",
   "execution_count": 11,
   "metadata": {
    "ExecuteTime": {
     "end_time": "2020-11-06T13:58:23.309605Z",
     "start_time": "2020-11-06T13:58:22.739073Z"
    }
   },
   "outputs": [
    {
     "name": "stdout",
     "output_type": "stream",
     "text": [
      "Credit Risk Code\n",
      "1.0      12178.552106\n",
      "2.0     105556.469606\n",
      "3.0      47990.149479\n",
      "4.0     133866.466773\n",
      "4.5       6917.455294\n",
      "5.0      98767.848872\n",
      "6.0      96945.026265\n",
      "6.5     808370.657151\n",
      "7.0      37391.498430\n",
      "8.0      54787.090428\n",
      "9.0       4129.474310\n",
      "10.0     13892.069322\n",
      "Name: Balance, dtype: float64\n"
     ]
    },
    {
     "data": {
      "text/plain": [
       "([<matplotlib.axis.XTick at 0x1e7d8ffc0b8>,\n",
       "  <matplotlib.axis.XTick at 0x1e7d8fdb0b8>,\n",
       "  <matplotlib.axis.XTick at 0x1e7d8fd1358>,\n",
       "  <matplotlib.axis.XTick at 0x1e7d8f472e8>,\n",
       "  <matplotlib.axis.XTick at 0x1e7d8f47780>,\n",
       "  <matplotlib.axis.XTick at 0x1e7d8f47cf8>,\n",
       "  <matplotlib.axis.XTick at 0x1e7d8f4f2b0>,\n",
       "  <matplotlib.axis.XTick at 0x1e7d8f4f828>,\n",
       "  <matplotlib.axis.XTick at 0x1e7d8f47860>,\n",
       "  <matplotlib.axis.XTick at 0x1e7d8f4fc88>,\n",
       "  <matplotlib.axis.XTick at 0x1e7d8f56240>,\n",
       "  <matplotlib.axis.XTick at 0x1e7d8f567b8>],\n",
       " <a list of 12 Text xticklabel objects>)"
      ]
     },
     "execution_count": 11,
     "metadata": {},
     "output_type": "execute_result"
    },
    {
     "data": {
      "image/png": "[encoded data removed]",
      "text/plain": [
       "<Figure size 720x720 with 1 Axes>"
      ]
     },
     "metadata": {
      "needs_background": "light"
     },
     "output_type": "display_data"
    }
   ],
   "source": [
    "plt.subplots(figsize=(10,10))\n",
    "print(df.groupby('Credit Risk Code')['Balance'].mean())\n",
    "plt.bar(df.groupby('Credit Risk Code')['Balance'].mean().index,\n",
    "        df.groupby('Credit Risk Code')['Balance'].mean().values,\n",
    "       align='center',\n",
    "       width=0.3)\n",
    "plt.xlabel('Credit Risk Code')\n",
    "plt.ylabel('Balance')\n",
    "plt.xticks([1,2,3,4,4.5,5,6,6.5,7,8,9,10])"
   ]
  },
  {
   "cell_type": "markdown",
   "metadata": {},
   "source": [
    "# Balance and Credit Risk Code Weighted"
   ]
  },
  {
   "cell_type": "code",
   "execution_count": 10,
   "metadata": {
    "ExecuteTime": {
     "end_time": "2020-11-25T14:20:54.516722Z",
     "start_time": "2020-11-25T14:20:53.630931Z"
    },
    "scrolled": true
   },
   "outputs": [
    {
     "data": {
      "text/plain": [
       "Text(0.5, 0, 'Credit Risk Code')"
      ]
     },
     "execution_count": 10,
     "metadata": {},
     "output_type": "execute_result"
    },
    {
     "data": {
      "image/png": "[encoded data removed]",
      "text/plain": [
       "<Figure size 720x720 with 2 Axes>"
      ]
     },
     "metadata": {
      "needs_background": "light"
     },
     "output_type": "display_data"
    }
   ],
   "source": [
    "fig, ax1 = plt.subplots(figsize=(10,10))\n",
    "\n",
    "ax2 = ax1.twinx()\n",
    "ax1.bar(df.groupby('Credit Risk Code').size().index,\n",
    "        df.groupby('Credit Risk Code').size().values,\n",
    "       align='center',\n",
    "       width=0.3)\n",
    "ax2.plot(df.groupby('Credit Risk Code')['Balance'].mean().index,\n",
    "        df.groupby('Credit Risk Code')['Balance'].mean().values,\n",
    "        'r-o')\n",
    "ax1.set_ylabel('Count of Accounts by Credit Risk Code')\n",
    "ax2.set_ylabel('Average Balance by Credit Risk Code (USD)')\n",
    "ax1.set_xticks([1,2,3,4,4.5,5,6,6.5,7,8,9,10])\n",
    "ax2.legend(['Average Balance by Risk Code'])\n",
    "ax1.legend(['Credit Risk Code Distribution'],loc='upper left')\n",
    "ax1.set_xlabel('Credit Risk Code')"
   ]
  },
  {
   "cell_type": "code",
   "execution_count": 11,
   "metadata": {
    "ExecuteTime": {
     "end_time": "2020-11-25T14:21:31.101600Z",
     "start_time": "2020-11-25T14:21:31.065768Z"
    }
   },
   "outputs": [
    {
     "name": "stderr",
     "output_type": "stream",
     "text": [
      "C:\\ProgramData\\Anaconda3\\lib\\site-packages\\ipykernel_launcher.py:1: FutureWarning: using a dict on a Series for aggregation\n",
      "is deprecated and will be removed in a future version\n",
      "  \"\"\"Entry point for launching an IPython kernel.\n"
     ]
    },
    {
     "data": {
      "text/html": [
       "<div>\n",
       "<style scoped>\n",
       "    .dataframe tbody tr th:only-of-type {\n",
       "        vertical-align: middle;\n",
       "    }\n",
       "\n",
       "    .dataframe tbody tr th {\n",
       "        vertical-align: top;\n",
       "    }\n",
       "\n",
       "    .dataframe thead th {\n",
       "        text-align: right;\n",
       "    }\n",
       "</style>\n",
       "<table border=\"1\" class=\"dataframe\">\n",
       "  <thead>\n",
       "    <tr style=\"text-align: right;\">\n",
       "      <th></th>\n",
       "      <th>Balance</th>\n",
       "    </tr>\n",
       "    <tr>\n",
       "      <th>Credit Risk Code</th>\n",
       "      <th></th>\n",
       "    </tr>\n",
       "  </thead>\n",
       "  <tbody>\n",
       "    <tr>\n",
       "      <th>1.0</th>\n",
       "      <td>11380.386047</td>\n",
       "    </tr>\n",
       "    <tr>\n",
       "      <th>2.0</th>\n",
       "      <td>96822.919766</td>\n",
       "    </tr>\n",
       "    <tr>\n",
       "      <th>3.0</th>\n",
       "      <td>45353.384132</td>\n",
       "    </tr>\n",
       "    <tr>\n",
       "      <th>4.0</th>\n",
       "      <td>120794.008545</td>\n",
       "    </tr>\n",
       "    <tr>\n",
       "      <th>5.0</th>\n",
       "      <td>103594.813015</td>\n",
       "    </tr>\n",
       "    <tr>\n",
       "      <th>6.0</th>\n",
       "      <td>182966.020980</td>\n",
       "    </tr>\n",
       "    <tr>\n",
       "      <th>7.0</th>\n",
       "      <td>31256.413094</td>\n",
       "    </tr>\n",
       "    <tr>\n",
       "      <th>8.0</th>\n",
       "      <td>67618.963581</td>\n",
       "    </tr>\n",
       "    <tr>\n",
       "      <th>9.0</th>\n",
       "      <td>5127.689798</td>\n",
       "    </tr>\n",
       "    <tr>\n",
       "      <th>10.0</th>\n",
       "      <td>-33.130581</td>\n",
       "    </tr>\n",
       "  </tbody>\n",
       "</table>\n",
       "</div>"
      ],
      "text/plain": [
       "                        Balance\n",
       "Credit Risk Code               \n",
       "1.0                11380.386047\n",
       "2.0                96822.919766\n",
       "3.0                45353.384132\n",
       "4.0               120794.008545\n",
       "5.0               103594.813015\n",
       "6.0               182966.020980\n",
       "7.0                31256.413094\n",
       "8.0                67618.963581\n",
       "9.0                 5127.689798\n",
       "10.0                 -33.130581"
      ]
     },
     "execution_count": 11,
     "metadata": {},
     "output_type": "execute_result"
    }
   ],
   "source": [
    "df.groupby('Credit Risk Code')['Balance'].agg({\"Balance\":'mean'})"
   ]
  },
  {
   "cell_type": "code",
   "execution_count": 15,
   "metadata": {
    "ExecuteTime": {
     "end_time": "2020-11-25T14:24:34.702365Z",
     "start_time": "2020-11-25T14:24:34.650899Z"
    }
   },
   "outputs": [
    {
     "name": "stderr",
     "output_type": "stream",
     "text": [
      "C:\\ProgramData\\Anaconda3\\lib\\site-packages\\ipykernel_launcher.py:1: FutureWarning: using a dict on a Series for aggregation\n",
      "is deprecated and will be removed in a future version\n",
      "  \"\"\"Entry point for launching an IPython kernel.\n"
     ]
    },
    {
     "data": {
      "text/html": [
       "<div>\n",
       "<style scoped>\n",
       "    .dataframe tbody tr th:only-of-type {\n",
       "        vertical-align: middle;\n",
       "    }\n",
       "\n",
       "    .dataframe tbody tr th {\n",
       "        vertical-align: top;\n",
       "    }\n",
       "\n",
       "    .dataframe thead th {\n",
       "        text-align: right;\n",
       "    }\n",
       "</style>\n",
       "<table border=\"1\" class=\"dataframe\">\n",
       "  <thead>\n",
       "    <tr style=\"text-align: right;\">\n",
       "      <th></th>\n",
       "      <th>Balance</th>\n",
       "      <th>Count</th>\n",
       "    </tr>\n",
       "    <tr>\n",
       "      <th>Credit Risk Code</th>\n",
       "      <th></th>\n",
       "      <th></th>\n",
       "    </tr>\n",
       "  </thead>\n",
       "  <tbody>\n",
       "    <tr>\n",
       "      <th>1.0</th>\n",
       "      <td>11380.386047</td>\n",
       "      <td>8907</td>\n",
       "    </tr>\n",
       "    <tr>\n",
       "      <th>2.0</th>\n",
       "      <td>96822.919766</td>\n",
       "      <td>471</td>\n",
       "    </tr>\n",
       "    <tr>\n",
       "      <th>3.0</th>\n",
       "      <td>45353.384132</td>\n",
       "      <td>154157</td>\n",
       "    </tr>\n",
       "    <tr>\n",
       "      <th>4.0</th>\n",
       "      <td>120794.008545</td>\n",
       "      <td>75530</td>\n",
       "    </tr>\n",
       "    <tr>\n",
       "      <th>5.0</th>\n",
       "      <td>103594.813015</td>\n",
       "      <td>12418</td>\n",
       "    </tr>\n",
       "    <tr>\n",
       "      <th>6.0</th>\n",
       "      <td>182966.020980</td>\n",
       "      <td>1316</td>\n",
       "    </tr>\n",
       "    <tr>\n",
       "      <th>7.0</th>\n",
       "      <td>31256.413094</td>\n",
       "      <td>14402</td>\n",
       "    </tr>\n",
       "    <tr>\n",
       "      <th>8.0</th>\n",
       "      <td>67618.963581</td>\n",
       "      <td>1860</td>\n",
       "    </tr>\n",
       "    <tr>\n",
       "      <th>9.0</th>\n",
       "      <td>5127.689798</td>\n",
       "      <td>247</td>\n",
       "    </tr>\n",
       "    <tr>\n",
       "      <th>10.0</th>\n",
       "      <td>-33.130581</td>\n",
       "      <td>413</td>\n",
       "    </tr>\n",
       "  </tbody>\n",
       "</table>\n",
       "</div>"
      ],
      "text/plain": [
       "                        Balance   Count\n",
       "Credit Risk Code                       \n",
       "1.0                11380.386047    8907\n",
       "2.0                96822.919766     471\n",
       "3.0                45353.384132  154157\n",
       "4.0               120794.008545   75530\n",
       "5.0               103594.813015   12418\n",
       "6.0               182966.020980    1316\n",
       "7.0                31256.413094   14402\n",
       "8.0                67618.963581    1860\n",
       "9.0                 5127.689798     247\n",
       "10.0                 -33.130581     413"
      ]
     },
     "execution_count": 15,
     "metadata": {},
     "output_type": "execute_result"
    }
   ],
   "source": [
    "df1 = pd.merge(df.groupby('Credit Risk Code')['Balance'].agg({\"Balance\":'mean'}),\n",
    "         pd.DataFrame(df.groupby('Credit Risk Code')[['Credit Risk Code','Balance']].size()),\n",
    "        left_index=True,\n",
    "        right_index=True)\n",
    "df1.columns = ['Balance', 'Count']\n",
    "df1"
   ]
  },
  {
   "cell_type": "markdown",
   "metadata": {},
   "source": [
    "# Days Past Due Investigation"
   ]
  },
  {
   "cell_type": "code",
   "execution_count": 15,
   "metadata": {
    "ExecuteTime": {
     "end_time": "2020-11-06T13:58:24.179047Z",
     "start_time": "2020-11-06T13:58:24.153927Z"
    }
   },
   "outputs": [
    {
     "data": {
      "text/plain": [
       "0        223314\n",
       "9          1272\n",
       "6          1158\n",
       "8          1053\n",
       "3           997\n",
       "4           965\n",
       "5           941\n",
       "7           939\n",
       "1           877\n",
       "2           838\n",
       "15          636\n",
       "16          556\n",
       "14          505\n",
       "13          436\n",
       "25          389\n",
       "26          388\n",
       "10          376\n",
       "11          358\n",
       "24          350\n",
       "12          294\n",
       "21          292\n",
       "23          284\n",
       "20          273\n",
       "29          258\n",
       "28          251\n",
       "19          243\n",
       "17          232\n",
       "22          231\n",
       "30          198\n",
       "27          192\n",
       "          ...  \n",
       "9052          1\n",
       "13150         1\n",
       "7259          1\n",
       "9308          1\n",
       "13406         1\n",
       "1368          1\n",
       "10464         1\n",
       "5021          1\n",
       "11613         1\n",
       "229           1\n",
       "344           1\n",
       "14431         1\n",
       "3486          1\n",
       "5205          1\n",
       "3158          1\n",
       "11930         1\n",
       "1439          1\n",
       "13905         1\n",
       "9811          1\n",
       "5717          1\n",
       "1623          1\n",
       "4327          1\n",
       "12114         1\n",
       "2532          1\n",
       "5973          1\n",
       "1879          1\n",
       "14818         1\n",
       "7580          1\n",
       "6235          1\n",
       "3043          1\n",
       "Name: Days Past Due, Length: 10544, dtype: int64"
      ]
     },
     "execution_count": 15,
     "metadata": {},
     "output_type": "execute_result"
    }
   ],
   "source": [
    "df['Days Past Due'].value_counts()"
   ]
  },
  {
   "cell_type": "code",
   "execution_count": 12,
   "metadata": {
    "ExecuteTime": {
     "end_time": "2020-11-25T14:22:53.365352Z",
     "start_time": "2020-11-25T14:22:52.875717Z"
    }
   },
   "outputs": [
    {
     "data": {
      "text/plain": [
       "Text(0.5, 0, 'Days Past Due Binned')"
      ]
     },
     "execution_count": 12,
     "metadata": {},
     "output_type": "execute_result"
    },
    {
     "data": {
      "image/png": "[encoded data removed]",
      "text/plain": [
       "<Figure size 720x720 with 1 Axes>"
      ]
     },
     "metadata": {
      "needs_background": "light"
     },
     "output_type": "display_data"
    }
   ],
   "source": [
    "plt.subplots(figsize=(10,10))\n",
    "plt.hist(df['Days Past Due'])\n",
    "plt.ylabel('Count')\n",
    "plt.xlabel('Days Past Due Binned')"
   ]
  },
  {
   "cell_type": "markdown",
   "metadata": {},
   "source": [
    "## Average days past due grouped by credit risk code"
   ]
  },
  {
   "cell_type": "code",
   "execution_count": 17,
   "metadata": {
    "ExecuteTime": {
     "end_time": "2020-11-06T13:58:25.097514Z",
     "start_time": "2020-11-06T13:58:24.612961Z"
    }
   },
   "outputs": [
    {
     "name": "stdout",
     "output_type": "stream",
     "text": [
      "Credit Risk Code\n",
      "1.0         6.491475\n",
      "2.0         0.402778\n",
      "3.0        15.590433\n",
      "4.0        14.562573\n",
      "4.5      3334.509804\n",
      "5.0       108.579876\n",
      "6.0      2227.208414\n",
      "6.5      2964.301075\n",
      "7.0       148.341836\n",
      "8.0      2640.167745\n",
      "9.0     10863.191565\n",
      "10.0     6844.972082\n",
      "Name: Days Past Due, dtype: float64\n"
     ]
    },
    {
     "data": {
      "text/plain": [
       "([<matplotlib.axis.XTick at 0x1e7d9507a20>,\n",
       "  <matplotlib.axis.XTick at 0x1e7d94fe828>,\n",
       "  <matplotlib.axis.XTick at 0x1e7d94febe0>,\n",
       "  <matplotlib.axis.XTick at 0x1e7d9548a20>,\n",
       "  <matplotlib.axis.XTick at 0x1e7d9548eb8>,\n",
       "  <matplotlib.axis.XTick at 0x1e7d9554320>,\n",
       "  <matplotlib.axis.XTick at 0x1e7d9554898>,\n",
       "  <matplotlib.axis.XTick at 0x1e7d9554e10>,\n",
       "  <matplotlib.axis.XTick at 0x1e7d95593c8>,\n",
       "  <matplotlib.axis.XTick at 0x1e7d9559940>,\n",
       "  <matplotlib.axis.XTick at 0x1e7d9559eb8>,\n",
       "  <matplotlib.axis.XTick at 0x1e7d9560470>],\n",
       " <a list of 12 Text xticklabel objects>)"
      ]
     },
     "execution_count": 17,
     "metadata": {},
     "output_type": "execute_result"
    },
    {
     "data": {
      "image/png": "[encoded data removed]",
      "text/plain": [
       "<Figure size 720x720 with 1 Axes>"
      ]
     },
     "metadata": {
      "needs_background": "light"
     },
     "output_type": "display_data"
    }
   ],
   "source": [
    "plt.subplots(figsize=(10,10))\n",
    "print(df.groupby('Credit Risk Code')['Days Past Due'].mean())\n",
    "plt.bar(df.groupby('Credit Risk Code')['Days Past Due'].mean().index,\n",
    "        df.groupby('Credit Risk Code')['Days Past Due'].mean().values,\n",
    "       align='center',\n",
    "       width=0.3)\n",
    "plt.xlabel('Credit Risk Code')\n",
    "plt.ylabel('Days Past Due')\n",
    "plt.xticks([1,2,3,4,4.5,5,6,6.5,7,8,9,10])"
   ]
  },
  {
   "cell_type": "markdown",
   "metadata": {},
   "source": [
    "# Days Past Due Weighted"
   ]
  },
  {
   "cell_type": "code",
   "execution_count": 13,
   "metadata": {
    "ExecuteTime": {
     "end_time": "2020-11-25T14:23:13.322313Z",
     "start_time": "2020-11-25T14:23:12.420683Z"
    }
   },
   "outputs": [
    {
     "data": {
      "text/plain": [
       "Text(0.5, 0, 'Credit Risk Code')"
      ]
     },
     "execution_count": 13,
     "metadata": {},
     "output_type": "execute_result"
    },
    {
     "data": {
      "image/png": "[encoded data removed]",
      "text/plain": [
       "<Figure size 720x720 with 2 Axes>"
      ]
     },
     "metadata": {
      "needs_background": "light"
     },
     "output_type": "display_data"
    }
   ],
   "source": [
    "fig, ax1 = plt.subplots(figsize=(10,10))\n",
    "\n",
    "ax2 = ax1.twinx()\n",
    "ax1.bar(df.groupby('Credit Risk Code').size().index,\n",
    "        df.groupby('Credit Risk Code').size().values,\n",
    "       align='center',\n",
    "       width=0.3)\n",
    "ax2.plot(df.groupby('Credit Risk Code')['Days Past Due'].mean().index,\n",
    "        df.groupby('Credit Risk Code')['Days Past Due'].mean().values,\n",
    "        'r-o')\n",
    "ax1.set_ylabel('Count of Accounts by Credit Risk Code')\n",
    "ax2.set_ylabel('Average Days Past Due by Credit Risk Code')\n",
    "ax1.set_xticks([1,2,3,4,4.5,5,6,6.5,7,8,9,10])\n",
    "ax2.legend(['Average Days Past Due by Risk Code'])\n",
    "ax1.legend(['Credit Risk Code Distribution'],loc='upper left')\n",
    "ax1.set_xlabel('Credit Risk Code')"
   ]
  },
  {
   "cell_type": "code",
   "execution_count": 14,
   "metadata": {
    "ExecuteTime": {
     "end_time": "2020-11-25T14:23:31.911043Z",
     "start_time": "2020-11-25T14:23:31.853468Z"
    }
   },
   "outputs": [
    {
     "name": "stderr",
     "output_type": "stream",
     "text": [
      "C:\\ProgramData\\Anaconda3\\lib\\site-packages\\ipykernel_launcher.py:1: FutureWarning: using a dict on a Series for aggregation\n",
      "is deprecated and will be removed in a future version\n",
      "  \"\"\"Entry point for launching an IPython kernel.\n"
     ]
    },
    {
     "data": {
      "text/html": [
       "<div>\n",
       "<style scoped>\n",
       "    .dataframe tbody tr th:only-of-type {\n",
       "        vertical-align: middle;\n",
       "    }\n",
       "\n",
       "    .dataframe tbody tr th {\n",
       "        vertical-align: top;\n",
       "    }\n",
       "\n",
       "    .dataframe thead th {\n",
       "        text-align: right;\n",
       "    }\n",
       "</style>\n",
       "<table border=\"1\" class=\"dataframe\">\n",
       "  <thead>\n",
       "    <tr style=\"text-align: right;\">\n",
       "      <th></th>\n",
       "      <th>Days Past Due</th>\n",
       "      <th>Count</th>\n",
       "    </tr>\n",
       "    <tr>\n",
       "      <th>Credit Risk Code</th>\n",
       "      <th></th>\n",
       "      <th></th>\n",
       "    </tr>\n",
       "  </thead>\n",
       "  <tbody>\n",
       "    <tr>\n",
       "      <th>1.0</th>\n",
       "      <td>0.462782</td>\n",
       "      <td>8907</td>\n",
       "    </tr>\n",
       "    <tr>\n",
       "      <th>2.0</th>\n",
       "      <td>0.369427</td>\n",
       "      <td>471</td>\n",
       "    </tr>\n",
       "    <tr>\n",
       "      <th>3.0</th>\n",
       "      <td>0.602100</td>\n",
       "      <td>154157</td>\n",
       "    </tr>\n",
       "    <tr>\n",
       "      <th>4.0</th>\n",
       "      <td>1.144896</td>\n",
       "      <td>75530</td>\n",
       "    </tr>\n",
       "    <tr>\n",
       "      <th>5.0</th>\n",
       "      <td>3.590594</td>\n",
       "      <td>12418</td>\n",
       "    </tr>\n",
       "    <tr>\n",
       "      <th>6.0</th>\n",
       "      <td>5.764438</td>\n",
       "      <td>1316</td>\n",
       "    </tr>\n",
       "    <tr>\n",
       "      <th>7.0</th>\n",
       "      <td>35.969935</td>\n",
       "      <td>14402</td>\n",
       "    </tr>\n",
       "    <tr>\n",
       "      <th>8.0</th>\n",
       "      <td>96.849462</td>\n",
       "      <td>1860</td>\n",
       "    </tr>\n",
       "    <tr>\n",
       "      <th>9.0</th>\n",
       "      <td>4.708502</td>\n",
       "      <td>247</td>\n",
       "    </tr>\n",
       "    <tr>\n",
       "      <th>10.0</th>\n",
       "      <td>120.314770</td>\n",
       "      <td>413</td>\n",
       "    </tr>\n",
       "  </tbody>\n",
       "</table>\n",
       "</div>"
      ],
      "text/plain": [
       "                  Days Past Due   Count\n",
       "Credit Risk Code                       \n",
       "1.0                    0.462782    8907\n",
       "2.0                    0.369427     471\n",
       "3.0                    0.602100  154157\n",
       "4.0                    1.144896   75530\n",
       "5.0                    3.590594   12418\n",
       "6.0                    5.764438    1316\n",
       "7.0                   35.969935   14402\n",
       "8.0                   96.849462    1860\n",
       "9.0                    4.708502     247\n",
       "10.0                 120.314770     413"
      ]
     },
     "execution_count": 14,
     "metadata": {},
     "output_type": "execute_result"
    }
   ],
   "source": [
    "df1 = pd.merge(df.groupby('Credit Risk Code')['Days Past Due'].agg({\"Days Past Due\":'mean'}),\n",
    "         pd.DataFrame(df.groupby('Credit Risk Code')[['Credit Risk Code','Days Past Due']].size()),\n",
    "        left_index=True,\n",
    "        right_index=True)\n",
    "df1.columns = ['Days Past Due', 'Count']\n",
    "df1"
   ]
  },
  {
   "cell_type": "code",
   "execution_count": null,
   "metadata": {},
   "outputs": [],
   "source": []
  }
 ],
 "metadata": {
  "kernelspec": {
   "display_name": "Python 3",
   "language": "python",
   "name": "python3"
  },
  "toc": {
   "base_numbering": 1,
   "nav_menu": {},
   "number_sections": true,
   "sideBar": true,
   "skip_h1_title": false,
   "title_cell": "Table of Contents",
   "title_sidebar": "Contents",
   "toc_cell": false,
   "toc_position": {},
   "toc_section_display": true,
   "toc_window_display": false
  },
  "varInspector": {
   "cols": {
    "lenName": 16,
    "lenType": 16,
    "lenVar": 40
   },
   "kernels_config": {
    "python": {
     "delete_cmd_postfix": "",
     "delete_cmd_prefix": "del ",
     "library": "var_list.py",
     "varRefreshCmd": "print(var_dic_list())"
    },
    "r": {
     "delete_cmd_postfix": ") ",
     "delete_cmd_prefix": "rm(",
     "library": "var_list.r",
     "varRefreshCmd": "cat(var_dic_list()) "
    }
   },
   "types_to_exclude": [
    "module",
    "function",
    "builtin_function_or_method",
    "instance",
    "_Feature"
   ],
   "window_display": false
  }
 },
 "nbformat": 4,
 "nbformat_minor": 2
}
